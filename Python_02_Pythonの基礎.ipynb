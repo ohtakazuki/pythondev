{
  "cells": [
    {
      "cell_type": "markdown",
      "source": [
        "## 数値計算や文字列の操作"
      ],
      "metadata": {
        "id": "0BlipuxcH3I4"
      },
      "id": "0BlipuxcH3I4"
    },
    {
      "cell_type": "markdown",
      "source": [
        "### 前提となる「データ型」"
      ],
      "metadata": {
        "id": "UN2DW-xh2E0w"
      },
      "id": "UN2DW-xh2E0w"
    },
    {
      "cell_type": "code",
      "source": [
        "print(100)"
      ],
      "metadata": {
        "colab": {
          "base_uri": "https://localhost:8080/"
        },
        "id": "n-4N8Od4IdJ9",
        "outputId": "a27acbd0-09dc-4063-b476-886337004fa1"
      },
      "id": "n-4N8Od4IdJ9",
      "execution_count": null,
      "outputs": [
        {
          "output_type": "stream",
          "name": "stdout",
          "text": [
            "100\n"
          ]
        }
      ]
    },
    {
      "cell_type": "code",
      "source": [
        "print(3.14159)"
      ],
      "metadata": {
        "colab": {
          "base_uri": "https://localhost:8080/"
        },
        "id": "ti-BdMMTKneM",
        "outputId": "1b73ed8e-59c7-4a4f-f3a7-23a5952b11a2"
      },
      "id": "ti-BdMMTKneM",
      "execution_count": null,
      "outputs": [
        {
          "output_type": "stream",
          "name": "stdout",
          "text": [
            "3.14159\n"
          ]
        }
      ]
    },
    {
      "cell_type": "code",
      "source": [
        "print('3.14')"
      ],
      "metadata": {
        "colab": {
          "base_uri": "https://localhost:8080/"
        },
        "id": "zGlRFgZVKhOb",
        "outputId": "eeeb52d3-9b04-447b-b438-f65a3d1f044b"
      },
      "id": "zGlRFgZVKhOb",
      "execution_count": null,
      "outputs": [
        {
          "output_type": "stream",
          "name": "stdout",
          "text": [
            "3.14\n"
          ]
        }
      ]
    },
    {
      "cell_type": "code",
      "source": [
        "print(\"テックアカデミー\")"
      ],
      "metadata": {
        "colab": {
          "base_uri": "https://localhost:8080/"
        },
        "id": "U5sevzvhKcBW",
        "outputId": "40f6745e-ffc8-4d72-cbf6-e0ab3e2e247c"
      },
      "id": "U5sevzvhKcBW",
      "execution_count": null,
      "outputs": [
        {
          "output_type": "stream",
          "name": "stdout",
          "text": [
            "テックアカデミー\n"
          ]
        }
      ]
    },
    {
      "cell_type": "code",
      "source": [
        "print(3 + 2)"
      ],
      "metadata": {
        "colab": {
          "base_uri": "https://localhost:8080/"
        },
        "id": "Kj1ctoV9L12-",
        "outputId": "913a5a40-ee73-48e0-eb83-f9a0e9e988f9"
      },
      "id": "Kj1ctoV9L12-",
      "execution_count": null,
      "outputs": [
        {
          "output_type": "stream",
          "name": "stdout",
          "text": [
            "5\n"
          ]
        }
      ]
    },
    {
      "cell_type": "code",
      "source": [
        "print(3.14159 - 3)"
      ],
      "metadata": {
        "colab": {
          "base_uri": "https://localhost:8080/"
        },
        "id": "OoYJEMAiPt88",
        "outputId": "c0c08b59-66af-42bc-9f10-adaf6d0ef7ec"
      },
      "id": "OoYJEMAiPt88",
      "execution_count": null,
      "outputs": [
        {
          "output_type": "stream",
          "name": "stdout",
          "text": [
            "0.14158999999999988\n"
          ]
        }
      ]
    },
    {
      "cell_type": "code",
      "source": [
        "print(50 + 3 + 2)"
      ],
      "metadata": {
        "colab": {
          "base_uri": "https://localhost:8080/"
        },
        "id": "ftCe_KM5TD5E",
        "outputId": "67b8ffc7-c585-4445-fc9c-7ccc83ae5a0f"
      },
      "id": "ftCe_KM5TD5E",
      "execution_count": null,
      "outputs": [
        {
          "output_type": "stream",
          "name": "stdout",
          "text": [
            "55\n"
          ]
        }
      ]
    },
    {
      "cell_type": "code",
      "source": [
        "print(\"テック\" + \"アカデミー\")"
      ],
      "metadata": {
        "colab": {
          "base_uri": "https://localhost:8080/"
        },
        "id": "gPB48PlCP-6q",
        "outputId": "8a857a8f-4447-4ad5-f163-17d4f17b095d"
      },
      "id": "gPB48PlCP-6q",
      "execution_count": null,
      "outputs": [
        {
          "output_type": "stream",
          "name": "stdout",
          "text": [
            "テックアカデミー\n"
          ]
        }
      ]
    },
    {
      "cell_type": "code",
      "source": [
        "print(3 + \"統計学\")"
      ],
      "metadata": {
        "colab": {
          "base_uri": "https://localhost:8080/",
          "height": 180
        },
        "id": "1JAgwPsMO2-K",
        "outputId": "fa7aa2f2-069d-46f5-c5e7-bc32347da940"
      },
      "id": "1JAgwPsMO2-K",
      "execution_count": null,
      "outputs": [
        {
          "output_type": "error",
          "ename": "TypeError",
          "evalue": "ignored",
          "traceback": [
            "\u001b[0;31m---------------------------------------------------------------------------\u001b[0m",
            "\u001b[0;31mTypeError\u001b[0m                                 Traceback (most recent call last)",
            "\u001b[0;32m<ipython-input-9-64d741818980>\u001b[0m in \u001b[0;36m<cell line: 1>\u001b[0;34m()\u001b[0m\n\u001b[0;32m----> 1\u001b[0;31m \u001b[0mprint\u001b[0m\u001b[0;34m(\u001b[0m\u001b[0;36m3\u001b[0m \u001b[0;34m+\u001b[0m \u001b[0;34m\"統計学\"\u001b[0m\u001b[0;34m)\u001b[0m\u001b[0;34m\u001b[0m\u001b[0;34m\u001b[0m\u001b[0m\n\u001b[0m",
            "\u001b[0;31mTypeError\u001b[0m: unsupported operand type(s) for +: 'int' and 'str'"
          ]
        }
      ]
    },
    {
      "cell_type": "code",
      "source": [
        "print(\"テック\" - \"アカデミー\")"
      ],
      "metadata": {
        "colab": {
          "base_uri": "https://localhost:8080/",
          "height": 180
        },
        "id": "aZCVFqQCQC_G",
        "outputId": "0ae9ee65-e583-4bfb-916c-186266a9de5e"
      },
      "id": "aZCVFqQCQC_G",
      "execution_count": null,
      "outputs": [
        {
          "output_type": "error",
          "ename": "TypeError",
          "evalue": "ignored",
          "traceback": [
            "\u001b[0;31m---------------------------------------------------------------------------\u001b[0m",
            "\u001b[0;31mTypeError\u001b[0m                                 Traceback (most recent call last)",
            "\u001b[0;32m<ipython-input-10-2c35c21ba03d>\u001b[0m in \u001b[0;36m<cell line: 1>\u001b[0;34m()\u001b[0m\n\u001b[0;32m----> 1\u001b[0;31m \u001b[0mprint\u001b[0m\u001b[0;34m(\u001b[0m\u001b[0;34m\"テック\"\u001b[0m \u001b[0;34m-\u001b[0m \u001b[0;34m\"アカデミー\"\u001b[0m\u001b[0;34m)\u001b[0m\u001b[0;34m\u001b[0m\u001b[0;34m\u001b[0m\u001b[0m\n\u001b[0m",
            "\u001b[0;31mTypeError\u001b[0m: unsupported operand type(s) for -: 'str' and 'str'"
          ]
        }
      ]
    },
    {
      "cell_type": "markdown",
      "source": [
        "### 数値"
      ],
      "metadata": {
        "id": "_LqsrMqWHqIi"
      },
      "id": "_LqsrMqWHqIi"
    },
    {
      "cell_type": "code",
      "source": [
        "print(3 + 2)"
      ],
      "metadata": {
        "colab": {
          "base_uri": "https://localhost:8080/"
        },
        "id": "YlSyWuRXXU8t",
        "outputId": "f4d5add1-498f-4a9a-cd94-1accabbea85f"
      },
      "id": "YlSyWuRXXU8t",
      "execution_count": null,
      "outputs": [
        {
          "output_type": "stream",
          "name": "stdout",
          "text": [
            "5\n"
          ]
        }
      ]
    },
    {
      "cell_type": "code",
      "source": [
        "3 + 2"
      ],
      "metadata": {
        "colab": {
          "base_uri": "https://localhost:8080/"
        },
        "id": "Q0rZlyVAXM5w",
        "outputId": "5878b3f7-8ac7-480a-d13a-1118a5bc50db"
      },
      "id": "Q0rZlyVAXM5w",
      "execution_count": null,
      "outputs": [
        {
          "output_type": "execute_result",
          "data": {
            "text/plain": [
              "5"
            ]
          },
          "metadata": {},
          "execution_count": 12
        }
      ]
    },
    {
      "cell_type": "markdown",
      "source": [
        "#### 数値表現"
      ],
      "metadata": {
        "id": "ClUGMxCyXjtD"
      },
      "id": "ClUGMxCyXjtD"
    },
    {
      "cell_type": "code",
      "source": [
        "type(1)"
      ],
      "metadata": {
        "colab": {
          "base_uri": "https://localhost:8080/"
        },
        "id": "_l257iEkXmv6",
        "outputId": "0a3a2489-2bf4-46cf-d673-e8572a7c6312"
      },
      "id": "_l257iEkXmv6",
      "execution_count": null,
      "outputs": [
        {
          "output_type": "execute_result",
          "data": {
            "text/plain": [
              "int"
            ]
          },
          "metadata": {},
          "execution_count": 13
        }
      ]
    },
    {
      "cell_type": "code",
      "source": [
        "type(3.14159)"
      ],
      "metadata": {
        "colab": {
          "base_uri": "https://localhost:8080/"
        },
        "id": "SJdMxejIXb8V",
        "outputId": "ef257cb9-96cf-4f35-d6e8-7d99be452dde"
      },
      "id": "SJdMxejIXb8V",
      "execution_count": null,
      "outputs": [
        {
          "output_type": "execute_result",
          "data": {
            "text/plain": [
              "float"
            ]
          },
          "metadata": {},
          "execution_count": 14
        }
      ]
    },
    {
      "cell_type": "code",
      "source": [
        "type(1.)"
      ],
      "metadata": {
        "colab": {
          "base_uri": "https://localhost:8080/"
        },
        "id": "UYvbf_TpZs7t",
        "outputId": "a591a5bb-4167-471b-ab80-32a9897526ff"
      },
      "id": "UYvbf_TpZs7t",
      "execution_count": null,
      "outputs": [
        {
          "output_type": "execute_result",
          "data": {
            "text/plain": [
              "float"
            ]
          },
          "metadata": {},
          "execution_count": 15
        }
      ]
    },
    {
      "cell_type": "code",
      "source": [
        "type(.5)"
      ],
      "metadata": {
        "colab": {
          "base_uri": "https://localhost:8080/"
        },
        "id": "AE9cBZN9XHXY",
        "outputId": "1b0d1d2c-af0e-4df9-e875-cb3a40f2f370"
      },
      "id": "AE9cBZN9XHXY",
      "execution_count": null,
      "outputs": [
        {
          "output_type": "execute_result",
          "data": {
            "text/plain": [
              "float"
            ]
          },
          "metadata": {},
          "execution_count": 16
        }
      ]
    },
    {
      "cell_type": "code",
      "source": [
        "type(-1)"
      ],
      "metadata": {
        "colab": {
          "base_uri": "https://localhost:8080/"
        },
        "id": "DKz2RXnNZvq9",
        "outputId": "e307b219-ff3c-43a3-d8d2-fb4c639d3770"
      },
      "id": "DKz2RXnNZvq9",
      "execution_count": null,
      "outputs": [
        {
          "output_type": "execute_result",
          "data": {
            "text/plain": [
              "int"
            ]
          },
          "metadata": {},
          "execution_count": 17
        }
      ]
    },
    {
      "cell_type": "code",
      "source": [
        "1e+5"
      ],
      "metadata": {
        "colab": {
          "base_uri": "https://localhost:8080/"
        },
        "id": "AvXQjdygdwHt",
        "outputId": "dd32ccf0-00a8-404a-e880-76f09b369d6d"
      },
      "id": "AvXQjdygdwHt",
      "execution_count": null,
      "outputs": [
        {
          "output_type": "execute_result",
          "data": {
            "text/plain": [
              "100000.0"
            ]
          },
          "metadata": {},
          "execution_count": 18
        }
      ]
    },
    {
      "cell_type": "code",
      "source": [
        "1e5"
      ],
      "metadata": {
        "id": "LUkq_9FQedt5",
        "colab": {
          "base_uri": "https://localhost:8080/"
        },
        "outputId": "07b2ede3-e9f1-44f5-80e6-497ab576f9d2"
      },
      "id": "LUkq_9FQedt5",
      "execution_count": null,
      "outputs": [
        {
          "output_type": "execute_result",
          "data": {
            "text/plain": [
              "100000.0"
            ]
          },
          "metadata": {},
          "execution_count": 19
        }
      ]
    },
    {
      "cell_type": "code",
      "source": [
        "1e-4"
      ],
      "metadata": {
        "colab": {
          "base_uri": "https://localhost:8080/"
        },
        "id": "9usIgQmreDls",
        "outputId": "0d4a32f1-5f09-43c1-9294-9f6fecce5664"
      },
      "id": "9usIgQmreDls",
      "execution_count": null,
      "outputs": [
        {
          "output_type": "execute_result",
          "data": {
            "text/plain": [
              "0.0001"
            ]
          },
          "metadata": {},
          "execution_count": 22
        }
      ]
    },
    {
      "cell_type": "markdown",
      "source": [
        "#### 数値演算"
      ],
      "metadata": {
        "id": "RwoWnvpnaAak"
      },
      "id": "RwoWnvpnaAak"
    },
    {
      "cell_type": "code",
      "source": [
        "10000 + 300 - 2000"
      ],
      "metadata": {
        "colab": {
          "base_uri": "https://localhost:8080/"
        },
        "id": "KfV94Hp29Iqf",
        "outputId": "cb3c678f-6a6a-4218-b65e-3efc29481630"
      },
      "id": "KfV94Hp29Iqf",
      "execution_count": null,
      "outputs": [
        {
          "output_type": "execute_result",
          "data": {
            "text/plain": [
              "8300"
            ]
          },
          "metadata": {},
          "execution_count": 23
        }
      ]
    },
    {
      "cell_type": "code",
      "source": [
        "8 * 4"
      ],
      "metadata": {
        "colab": {
          "base_uri": "https://localhost:8080/"
        },
        "id": "UDz9Ui9F9RLH",
        "outputId": "958f946a-1b22-4c85-e5d2-a84340e35270"
      },
      "id": "UDz9Ui9F9RLH",
      "execution_count": null,
      "outputs": [
        {
          "output_type": "execute_result",
          "data": {
            "text/plain": [
              "32"
            ]
          },
          "metadata": {},
          "execution_count": 24
        }
      ]
    },
    {
      "cell_type": "code",
      "source": [
        "54 / 6"
      ],
      "metadata": {
        "colab": {
          "base_uri": "https://localhost:8080/"
        },
        "id": "xaD23aC-9SBP",
        "outputId": "d169b83d-4f6b-4c70-a04d-4aa15a32f83b"
      },
      "id": "xaD23aC-9SBP",
      "execution_count": null,
      "outputs": [
        {
          "output_type": "execute_result",
          "data": {
            "text/plain": [
              "9.0"
            ]
          },
          "metadata": {},
          "execution_count": 25
        }
      ]
    },
    {
      "cell_type": "code",
      "execution_count": null,
      "id": "3cc7c2ae",
      "metadata": {
        "id": "3cc7c2ae",
        "colab": {
          "base_uri": "https://localhost:8080/"
        },
        "outputId": "a567e8e7-feb1-46ee-d5a3-63b6c7bd198e"
      },
      "outputs": [
        {
          "output_type": "execute_result",
          "data": {
            "text/plain": [
              "2.625"
            ]
          },
          "metadata": {},
          "execution_count": 26
        }
      ],
      "source": [
        "21 / 8"
      ]
    },
    {
      "cell_type": "code",
      "execution_count": null,
      "id": "b30065cc",
      "metadata": {
        "id": "b30065cc",
        "colab": {
          "base_uri": "https://localhost:8080/"
        },
        "outputId": "7499aa4d-a9cc-4cb4-e7ef-b0111ed8c778"
      },
      "outputs": [
        {
          "output_type": "execute_result",
          "data": {
            "text/plain": [
              "2"
            ]
          },
          "metadata": {},
          "execution_count": 27
        }
      ],
      "source": [
        "21 // 8"
      ]
    },
    {
      "cell_type": "code",
      "source": [
        "21 % 8"
      ],
      "metadata": {
        "colab": {
          "base_uri": "https://localhost:8080/"
        },
        "id": "n7F4VdNDAz5V",
        "outputId": "91c0234e-38ff-478e-ecc5-9b36a44a1e4b"
      },
      "id": "n7F4VdNDAz5V",
      "execution_count": null,
      "outputs": [
        {
          "output_type": "execute_result",
          "data": {
            "text/plain": [
              "5"
            ]
          },
          "metadata": {},
          "execution_count": 28
        }
      ]
    },
    {
      "cell_type": "code",
      "source": [
        "8 ** 4"
      ],
      "metadata": {
        "colab": {
          "base_uri": "https://localhost:8080/"
        },
        "id": "x-N6_X_UBgba",
        "outputId": "8d151030-0ccf-4d50-b41e-69caa92c6491"
      },
      "id": "x-N6_X_UBgba",
      "execution_count": null,
      "outputs": [
        {
          "output_type": "execute_result",
          "data": {
            "text/plain": [
              "4096"
            ]
          },
          "metadata": {},
          "execution_count": 29
        }
      ]
    },
    {
      "cell_type": "code",
      "source": [
        "2^6"
      ],
      "metadata": {
        "colab": {
          "base_uri": "https://localhost:8080/"
        },
        "id": "2KQADjNhCro-",
        "outputId": "8de71ba1-8070-4a27-f130-053db7f704ab"
      },
      "id": "2KQADjNhCro-",
      "execution_count": null,
      "outputs": [
        {
          "output_type": "execute_result",
          "data": {
            "text/plain": [
              "4"
            ]
          },
          "metadata": {},
          "execution_count": 30
        }
      ]
    },
    {
      "cell_type": "code",
      "source": [
        "3 * 4.6"
      ],
      "metadata": {
        "id": "L9LZGwZbMKcr",
        "colab": {
          "base_uri": "https://localhost:8080/"
        },
        "outputId": "d59989d1-2027-47ab-ffb5-8e1a8e485beb"
      },
      "id": "L9LZGwZbMKcr",
      "execution_count": null,
      "outputs": [
        {
          "output_type": "execute_result",
          "data": {
            "text/plain": [
              "13.799999999999999"
            ]
          },
          "metadata": {},
          "execution_count": 31
        }
      ]
    },
    {
      "cell_type": "code",
      "source": [
        "0.1 + 0.1 + 0.1"
      ],
      "metadata": {
        "colab": {
          "base_uri": "https://localhost:8080/"
        },
        "id": "ytH1qGg8MMfC",
        "outputId": "3625378b-1877-4bb8-8535-6bdc9759fd83"
      },
      "id": "ytH1qGg8MMfC",
      "execution_count": null,
      "outputs": [
        {
          "output_type": "execute_result",
          "data": {
            "text/plain": [
              "0.30000000000000004"
            ]
          },
          "metadata": {},
          "execution_count": 32
        }
      ]
    },
    {
      "cell_type": "code",
      "source": [
        "round(3 * 4.6, 1)"
      ],
      "metadata": {
        "id": "YXn6q5uYEWp7",
        "colab": {
          "base_uri": "https://localhost:8080/"
        },
        "outputId": "b474e7a2-1014-4437-dd91-3c69a80fe1e3"
      },
      "id": "YXn6q5uYEWp7",
      "execution_count": null,
      "outputs": [
        {
          "output_type": "execute_result",
          "data": {
            "text/plain": [
              "13.8"
            ]
          },
          "metadata": {},
          "execution_count": 33
        }
      ]
    },
    {
      "cell_type": "markdown",
      "id": "e49a6e49",
      "metadata": {
        "id": "e49a6e49"
      },
      "source": [
        "#### 数値のデータ型変換"
      ]
    },
    {
      "cell_type": "code",
      "source": [
        "int(123.456)"
      ],
      "metadata": {
        "id": "Qb8IM3gXNttQ",
        "colab": {
          "base_uri": "https://localhost:8080/"
        },
        "outputId": "025c1659-5008-4151-81eb-330795daf4c2"
      },
      "id": "Qb8IM3gXNttQ",
      "execution_count": null,
      "outputs": [
        {
          "output_type": "execute_result",
          "data": {
            "text/plain": [
              "123"
            ]
          },
          "metadata": {},
          "execution_count": 34
        }
      ]
    },
    {
      "cell_type": "code",
      "source": [
        "int(0.999)"
      ],
      "metadata": {
        "colab": {
          "base_uri": "https://localhost:8080/"
        },
        "id": "klhqdAPer7hx",
        "outputId": "a929eb17-b8ef-49d2-8ab1-47b8910ed3b9"
      },
      "id": "klhqdAPer7hx",
      "execution_count": null,
      "outputs": [
        {
          "output_type": "execute_result",
          "data": {
            "text/plain": [
              "0"
            ]
          },
          "metadata": {},
          "execution_count": 35
        }
      ]
    },
    {
      "cell_type": "code",
      "source": [
        "float(789)"
      ],
      "metadata": {
        "id": "dGHZhb_JNu49",
        "colab": {
          "base_uri": "https://localhost:8080/"
        },
        "outputId": "f2f0576c-643a-42a6-b47c-221cb9aa0a3a"
      },
      "id": "dGHZhb_JNu49",
      "execution_count": null,
      "outputs": [
        {
          "output_type": "execute_result",
          "data": {
            "text/plain": [
              "789.0"
            ]
          },
          "metadata": {},
          "execution_count": 36
        }
      ]
    },
    {
      "cell_type": "code",
      "source": [
        "int(\"1234567890\")"
      ],
      "metadata": {
        "colab": {
          "base_uri": "https://localhost:8080/"
        },
        "id": "1DRGvUV1tPRv",
        "outputId": "850519b7-1545-4929-ca74-c2957872d961"
      },
      "id": "1DRGvUV1tPRv",
      "execution_count": null,
      "outputs": [
        {
          "output_type": "execute_result",
          "data": {
            "text/plain": [
              "1234567890"
            ]
          },
          "metadata": {},
          "execution_count": 37
        }
      ]
    },
    {
      "cell_type": "code",
      "source": [
        "float(\"3.14159265358\")"
      ],
      "metadata": {
        "colab": {
          "base_uri": "https://localhost:8080/"
        },
        "id": "h6a-HEVctR8Q",
        "outputId": "44200eda-3290-4117-927e-0ecc8a9f1b81"
      },
      "id": "h6a-HEVctR8Q",
      "execution_count": null,
      "outputs": [
        {
          "output_type": "execute_result",
          "data": {
            "text/plain": [
              "3.14159265358"
            ]
          },
          "metadata": {},
          "execution_count": 38
        }
      ]
    },
    {
      "cell_type": "code",
      "source": [
        "int(\"3.0\")"
      ],
      "metadata": {
        "colab": {
          "base_uri": "https://localhost:8080/",
          "height": 180
        },
        "id": "0qPyuxs2taJw",
        "outputId": "adfd9a52-a527-4f99-b6bb-5d6628ed0653"
      },
      "id": "0qPyuxs2taJw",
      "execution_count": null,
      "outputs": [
        {
          "output_type": "error",
          "ename": "ValueError",
          "evalue": "ignored",
          "traceback": [
            "\u001b[0;31m---------------------------------------------------------------------------\u001b[0m",
            "\u001b[0;31mValueError\u001b[0m                                Traceback (most recent call last)",
            "\u001b[0;32m<ipython-input-42-68be77133a90>\u001b[0m in \u001b[0;36m<cell line: 1>\u001b[0;34m()\u001b[0m\n\u001b[0;32m----> 1\u001b[0;31m \u001b[0mint\u001b[0m\u001b[0;34m(\u001b[0m\u001b[0;34m\"3.0\"\u001b[0m\u001b[0;34m)\u001b[0m\u001b[0;34m\u001b[0m\u001b[0;34m\u001b[0m\u001b[0m\n\u001b[0m",
            "\u001b[0;31mValueError\u001b[0m: invalid literal for int() with base 10: '3.0'"
          ]
        }
      ]
    },
    {
      "cell_type": "code",
      "source": [
        "int(float(\"3.0\"))"
      ],
      "metadata": {
        "colab": {
          "base_uri": "https://localhost:8080/"
        },
        "id": "VgRmH7zjjhLk",
        "outputId": "18a61df8-7ca9-4102-8558-b0540f60b09f"
      },
      "id": "VgRmH7zjjhLk",
      "execution_count": null,
      "outputs": [
        {
          "output_type": "execute_result",
          "data": {
            "text/plain": [
              "3"
            ]
          },
          "metadata": {},
          "execution_count": 43
        }
      ]
    },
    {
      "cell_type": "code",
      "source": [
        "float(\"9414513\")"
      ],
      "metadata": {
        "colab": {
          "base_uri": "https://localhost:8080/"
        },
        "id": "0Xx1h8tdtmHM",
        "outputId": "2296fcda-45ba-4701-ecc1-01b9085b889b"
      },
      "id": "0Xx1h8tdtmHM",
      "execution_count": null,
      "outputs": [
        {
          "output_type": "execute_result",
          "data": {
            "text/plain": [
              "9414513.0"
            ]
          },
          "metadata": {},
          "execution_count": 16
        }
      ]
    },
    {
      "cell_type": "code",
      "source": [
        "int(\"一九九九\")"
      ],
      "metadata": {
        "colab": {
          "base_uri": "https://localhost:8080/",
          "height": 166
        },
        "id": "S7n4r8xAttEO",
        "outputId": "201b4e4e-3b10-4d67-acfc-d39d9b93ca1c"
      },
      "id": "S7n4r8xAttEO",
      "execution_count": null,
      "outputs": [
        {
          "output_type": "error",
          "ename": "ValueError",
          "evalue": "ignored",
          "traceback": [
            "\u001b[0;31m---------------------------------------------------------------------------\u001b[0m",
            "\u001b[0;31mValueError\u001b[0m                                Traceback (most recent call last)",
            "\u001b[0;32m<ipython-input-17-c640dbd855a0>\u001b[0m in \u001b[0;36m<cell line: 1>\u001b[0;34m()\u001b[0m\n\u001b[0;32m----> 1\u001b[0;31m \u001b[0mint\u001b[0m\u001b[0;34m(\u001b[0m\u001b[0;34m\"一九九九\"\u001b[0m\u001b[0;34m)\u001b[0m\u001b[0;34m\u001b[0m\u001b[0;34m\u001b[0m\u001b[0m\n\u001b[0m",
            "\u001b[0;31mValueError\u001b[0m: invalid literal for int() with base 10: '一九九九'"
          ]
        }
      ]
    },
    {
      "cell_type": "code",
      "source": [
        "int(\"1,999,000\")"
      ],
      "metadata": {
        "colab": {
          "base_uri": "https://localhost:8080/",
          "height": 166
        },
        "id": "lCad-NIWtx75",
        "outputId": "4c25a21a-39d8-4e8c-e923-f63ac1d63a7e"
      },
      "id": "lCad-NIWtx75",
      "execution_count": null,
      "outputs": [
        {
          "output_type": "error",
          "ename": "ValueError",
          "evalue": "ignored",
          "traceback": [
            "\u001b[0;31m---------------------------------------------------------------------------\u001b[0m",
            "\u001b[0;31mValueError\u001b[0m                                Traceback (most recent call last)",
            "\u001b[0;32m<ipython-input-18-6851fa7d9b6f>\u001b[0m in \u001b[0;36m<cell line: 1>\u001b[0;34m()\u001b[0m\n\u001b[0;32m----> 1\u001b[0;31m \u001b[0mint\u001b[0m\u001b[0;34m(\u001b[0m\u001b[0;34m\"1,999,000\"\u001b[0m\u001b[0;34m)\u001b[0m\u001b[0;34m\u001b[0m\u001b[0;34m\u001b[0m\u001b[0m\n\u001b[0m",
            "\u001b[0;31mValueError\u001b[0m: invalid literal for int() with base 10: '1,999,000'"
          ]
        }
      ]
    },
    {
      "cell_type": "markdown",
      "id": "9fa53536",
      "metadata": {
        "id": "9fa53536"
      },
      "source": [
        "### 文字列\n"
      ]
    },
    {
      "cell_type": "markdown",
      "source": [
        "#### クォーテーションをクォーテーションの文字として表示する方法"
      ],
      "metadata": {
        "id": "99Pgs98wC4_h"
      },
      "id": "99Pgs98wC4_h"
    },
    {
      "cell_type": "code",
      "execution_count": null,
      "id": "ce0246cb",
      "metadata": {
        "id": "ce0246cb",
        "colab": {
          "base_uri": "https://localhost:8080/",
          "height": 145
        },
        "outputId": "44c8fe5c-5c80-4dde-f4e1-846aaffad05f"
      },
      "outputs": [
        {
          "output_type": "error",
          "ename": "SyntaxError",
          "evalue": "ignored",
          "traceback": [
            "\u001b[0;36m  File \u001b[0;32m\"<ipython-input-44-2b8f4a442a40>\"\u001b[0;36m, line \u001b[0;32m1\u001b[0m\n\u001b[0;31m    print(\"Hello, \"Python\" world!\")\u001b[0m\n\u001b[0m          ^\u001b[0m\n\u001b[0;31mSyntaxError\u001b[0m\u001b[0;31m:\u001b[0m invalid syntax. Perhaps you forgot a comma?\n"
          ]
        }
      ],
      "source": [
        "print(\"Hello, \"Python\" world!\")"
      ]
    },
    {
      "cell_type": "code",
      "source": [
        "print('I'm Taro Tech')"
      ],
      "metadata": {
        "colab": {
          "base_uri": "https://localhost:8080/",
          "height": 145
        },
        "id": "eoeN9kx4eQ53",
        "outputId": "3f641255-e861-4887-b9e8-a270551619a6"
      },
      "id": "eoeN9kx4eQ53",
      "execution_count": null,
      "outputs": [
        {
          "output_type": "error",
          "ename": "SyntaxError",
          "evalue": "ignored",
          "traceback": [
            "\u001b[0;36m  File \u001b[0;32m\"<ipython-input-45-4777001e4fe5>\"\u001b[0;36m, line \u001b[0;32m1\u001b[0m\n\u001b[0;31m    print('I'm Taro Tech')\u001b[0m\n\u001b[0m                        ^\u001b[0m\n\u001b[0;31mSyntaxError\u001b[0m\u001b[0;31m:\u001b[0m unterminated string literal (detected at line 1)\n"
          ]
        }
      ]
    },
    {
      "cell_type": "markdown",
      "id": "cd90acca",
      "metadata": {
        "id": "cd90acca"
      },
      "source": [
        "##### （1）別のクォーテーションで囲む"
      ]
    },
    {
      "cell_type": "code",
      "execution_count": null,
      "id": "267716ec",
      "metadata": {
        "id": "267716ec",
        "colab": {
          "base_uri": "https://localhost:8080/"
        },
        "outputId": "8b7b7f28-b737-4ca4-936b-b589edb2f3ad"
      },
      "outputs": [
        {
          "output_type": "stream",
          "name": "stdout",
          "text": [
            "Hello, \"Python\" world!\n"
          ]
        }
      ],
      "source": [
        "print('Hello, \"Python\" world!')"
      ]
    },
    {
      "cell_type": "code",
      "source": [
        "print(\"Hello, 'Python' world!\")"
      ],
      "metadata": {
        "colab": {
          "base_uri": "https://localhost:8080/"
        },
        "id": "GoEZ4qZtlrMP",
        "outputId": "b5af5119-5b69-459b-d310-e05ed24e9bde"
      },
      "id": "GoEZ4qZtlrMP",
      "execution_count": null,
      "outputs": [
        {
          "output_type": "stream",
          "name": "stdout",
          "text": [
            "Hello, 'Python' world!\n"
          ]
        }
      ]
    },
    {
      "cell_type": "code",
      "source": [
        "print('Hello, \"Python\" world! I'm Taro Tech!')"
      ],
      "metadata": {
        "colab": {
          "base_uri": "https://localhost:8080/",
          "height": 145
        },
        "id": "ulwqDGVsfmec",
        "outputId": "9ab1370d-5e4b-4039-9d07-95cb2f9df014"
      },
      "id": "ulwqDGVsfmec",
      "execution_count": null,
      "outputs": [
        {
          "output_type": "error",
          "ename": "SyntaxError",
          "evalue": "ignored",
          "traceback": [
            "\u001b[0;36m  File \u001b[0;32m\"<ipython-input-47-61d7515f10ff>\"\u001b[0;36m, line \u001b[0;32m1\u001b[0m\n\u001b[0;31m    print('Hello, \"Python\" world! I'm Taro Tech!')\u001b[0m\n\u001b[0m                                                ^\u001b[0m\n\u001b[0;31mSyntaxError\u001b[0m\u001b[0;31m:\u001b[0m unterminated string literal (detected at line 1)\n"
          ]
        }
      ]
    },
    {
      "cell_type": "markdown",
      "id": "417539bd",
      "metadata": {
        "id": "417539bd"
      },
      "source": [
        "##### （2）エスケープシーケンスを使う"
      ]
    },
    {
      "cell_type": "code",
      "execution_count": null,
      "id": "39f40c3a",
      "metadata": {
        "id": "39f40c3a",
        "colab": {
          "base_uri": "https://localhost:8080/"
        },
        "outputId": "da846a6c-6bbc-42d7-8ee1-7445806d446b"
      },
      "outputs": [
        {
          "output_type": "stream",
          "name": "stdout",
          "text": [
            "Hello, \"Python\" world!\n"
          ]
        }
      ],
      "source": [
        "print(\"Hello, \\\"Python\\\" world!\")"
      ]
    },
    {
      "cell_type": "code",
      "source": [
        "print('Hello, \\'Python\\' world!')"
      ],
      "metadata": {
        "colab": {
          "base_uri": "https://localhost:8080/"
        },
        "id": "yQJrFvHamSYF",
        "outputId": "91a1e5dd-a31b-44d1-f195-4943f87b2477"
      },
      "id": "yQJrFvHamSYF",
      "execution_count": null,
      "outputs": [
        {
          "output_type": "stream",
          "name": "stdout",
          "text": [
            "Hello, 'Python' world!\n"
          ]
        }
      ]
    },
    {
      "cell_type": "markdown",
      "source": [
        "##### （3）クォーテーションマーク3つで挟む"
      ],
      "metadata": {
        "id": "MyrIStojf_3y"
      },
      "id": "MyrIStojf_3y"
    },
    {
      "cell_type": "code",
      "source": [
        "print(\"\"\"Hello, \"Python\" world!\"\"\")"
      ],
      "metadata": {
        "colab": {
          "base_uri": "https://localhost:8080/"
        },
        "id": "0sJwDJpvgWq2",
        "outputId": "70a71cb1-7e6b-432b-c429-7e50e6b42cfd"
      },
      "id": "0sJwDJpvgWq2",
      "execution_count": null,
      "outputs": [
        {
          "output_type": "stream",
          "name": "stdout",
          "text": [
            "Hello, \"Python\" world!\n"
          ]
        }
      ]
    },
    {
      "cell_type": "code",
      "source": [
        "print('''I'm Taro Tech''')"
      ],
      "metadata": {
        "colab": {
          "base_uri": "https://localhost:8080/"
        },
        "id": "xjf6Lx1mgcDD",
        "outputId": "524babc5-3157-4a35-bfbd-1ec5104b1970"
      },
      "id": "xjf6Lx1mgcDD",
      "execution_count": null,
      "outputs": [
        {
          "output_type": "stream",
          "name": "stdout",
          "text": [
            "I'm Taro Tech\n"
          ]
        }
      ]
    },
    {
      "cell_type": "markdown",
      "id": "629dbc62",
      "metadata": {
        "id": "629dbc62"
      },
      "source": [
        "#### 改行して表示する"
      ]
    },
    {
      "cell_type": "code",
      "execution_count": null,
      "id": "a39f7e8b",
      "metadata": {
        "id": "a39f7e8b",
        "colab": {
          "base_uri": "https://localhost:8080/"
        },
        "outputId": "fbc07001-6b08-4f9f-80bb-4fe8898d13b2"
      },
      "outputs": [
        {
          "output_type": "stream",
          "name": "stdout",
          "text": [
            "統計学\n",
            "---\n",
            "統計学(とうけいがく、英: statistics)とは、統計に関する研究を行う学問である。\n"
          ]
        }
      ],
      "source": [
        "print(\"\"\"統計学\n",
        "---\n",
        "統計学(とうけいがく、英: statistics)とは、統計に関する研究を行う学問である。\"\"\")"
      ]
    },
    {
      "cell_type": "markdown",
      "source": [
        "#### 「エスケープシーケンス」で改行する"
      ],
      "metadata": {
        "id": "iSTv-rxDh0eH"
      },
      "id": "iSTv-rxDh0eH"
    },
    {
      "cell_type": "code",
      "source": [
        "print(\"Hello,\n",
        "Python\n",
        "world!\")"
      ],
      "metadata": {
        "colab": {
          "base_uri": "https://localhost:8080/",
          "height": 145
        },
        "id": "t29uI-H0vUQy",
        "outputId": "826cd7bd-6460-4673-db37-5bf608c11dd2"
      },
      "id": "t29uI-H0vUQy",
      "execution_count": null,
      "outputs": [
        {
          "output_type": "error",
          "ename": "SyntaxError",
          "evalue": "ignored",
          "traceback": [
            "\u001b[0;36m  File \u001b[0;32m\"<ipython-input-53-b714f4af7b65>\"\u001b[0;36m, line \u001b[0;32m1\u001b[0m\n\u001b[0;31m    print(\"Hello,\u001b[0m\n\u001b[0m          ^\u001b[0m\n\u001b[0;31mSyntaxError\u001b[0m\u001b[0;31m:\u001b[0m unterminated string literal (detected at line 1)\n"
          ]
        }
      ]
    },
    {
      "cell_type": "code",
      "execution_count": null,
      "id": "c84588a2",
      "metadata": {
        "id": "c84588a2",
        "colab": {
          "base_uri": "https://localhost:8080/"
        },
        "outputId": "d98ab332-369f-4982-a119-acae43346afd"
      },
      "outputs": [
        {
          "output_type": "stream",
          "name": "stdout",
          "text": [
            "Hello,\n",
            "Python\n",
            "world!\n"
          ]
        }
      ],
      "source": [
        "print(\"Hello,\\nPython\\nworld!\")"
      ]
    },
    {
      "cell_type": "markdown",
      "source": [
        "#### 文字列の掛け算"
      ],
      "metadata": {
        "id": "vBWrsSQI2slF"
      },
      "id": "vBWrsSQI2slF"
    },
    {
      "cell_type": "code",
      "execution_count": null,
      "id": "e1312ba1",
      "metadata": {
        "id": "e1312ba1",
        "colab": {
          "base_uri": "https://localhost:8080/",
          "height": 35
        },
        "outputId": "be371559-7b43-49f2-b98d-32d04a3027b6"
      },
      "outputs": [
        {
          "output_type": "execute_result",
          "data": {
            "text/plain": [
              "'abcabcabc'"
            ],
            "application/vnd.google.colaboratory.intrinsic+json": {
              "type": "string"
            }
          },
          "metadata": {},
          "execution_count": 56
        }
      ],
      "source": [
        "\"abc\" * 3"
      ]
    },
    {
      "cell_type": "markdown",
      "id": "cdcaea50",
      "metadata": {
        "id": "cdcaea50"
      },
      "source": [
        "#### 数値を文字列に変換する"
      ]
    },
    {
      "cell_type": "code",
      "execution_count": null,
      "id": "09845fe8",
      "metadata": {
        "id": "09845fe8",
        "colab": {
          "base_uri": "https://localhost:8080/",
          "height": 35
        },
        "outputId": "7193b5a5-483d-4e27-888a-c1bc418eb348"
      },
      "outputs": [
        {
          "output_type": "execute_result",
          "data": {
            "text/plain": [
              "'123'"
            ],
            "application/vnd.google.colaboratory.intrinsic+json": {
              "type": "string"
            }
          },
          "metadata": {},
          "execution_count": 58
        }
      ],
      "source": [
        "str(123)"
      ]
    },
    {
      "cell_type": "code",
      "source": [
        "type(str(123))"
      ],
      "metadata": {
        "colab": {
          "base_uri": "https://localhost:8080/"
        },
        "id": "NofbQLGC4KvV",
        "outputId": "921f0f39-39cc-41fe-e90c-40dcabf3e5de"
      },
      "id": "NofbQLGC4KvV",
      "execution_count": null,
      "outputs": [
        {
          "output_type": "execute_result",
          "data": {
            "text/plain": [
              "str"
            ]
          },
          "metadata": {},
          "execution_count": 59
        }
      ]
    },
    {
      "cell_type": "code",
      "source": [
        "len(str(123))"
      ],
      "metadata": {
        "colab": {
          "base_uri": "https://localhost:8080/"
        },
        "id": "jIaGbLpVy8Rt",
        "outputId": "dff488d0-99f0-4d8a-bc4c-a3755e52a73e"
      },
      "id": "jIaGbLpVy8Rt",
      "execution_count": null,
      "outputs": [
        {
          "output_type": "execute_result",
          "data": {
            "text/plain": [
              "3"
            ]
          },
          "metadata": {},
          "execution_count": 57
        }
      ]
    },
    {
      "cell_type": "markdown",
      "id": "2d240861",
      "metadata": {
        "id": "2d240861"
      },
      "source": [
        "## 変数"
      ]
    },
    {
      "cell_type": "markdown",
      "source": [
        "### 変数を使ってみる"
      ],
      "metadata": {
        "id": "YSyPrMbK7hQw"
      },
      "id": "YSyPrMbK7hQw"
    },
    {
      "cell_type": "code",
      "source": [
        "a = 2\n",
        "b = 998\n",
        "print(a)"
      ],
      "metadata": {
        "colab": {
          "base_uri": "https://localhost:8080/"
        },
        "id": "-yuLhjJw8wDI",
        "outputId": "09362da2-f438-4421-bf5f-3c1873a2af47"
      },
      "id": "-yuLhjJw8wDI",
      "execution_count": null,
      "outputs": [
        {
          "output_type": "stream",
          "name": "stdout",
          "text": [
            "2\n"
          ]
        }
      ]
    },
    {
      "cell_type": "code",
      "source": [
        "print(b)"
      ],
      "metadata": {
        "colab": {
          "base_uri": "https://localhost:8080/"
        },
        "id": "2JwNP2jvAQde",
        "outputId": "1a6e61fc-b782-4d6e-e124-b753b47b4ca5"
      },
      "id": "2JwNP2jvAQde",
      "execution_count": null,
      "outputs": [
        {
          "output_type": "stream",
          "name": "stdout",
          "text": [
            "998\n"
          ]
        }
      ]
    },
    {
      "cell_type": "code",
      "source": [
        "2+998"
      ],
      "metadata": {
        "colab": {
          "base_uri": "https://localhost:8080/"
        },
        "id": "AfL5UDnUBIwb",
        "outputId": "bfaa9961-dbc8-4230-9d85-711562b5aebe"
      },
      "id": "AfL5UDnUBIwb",
      "execution_count": null,
      "outputs": [
        {
          "output_type": "execute_result",
          "data": {
            "text/plain": [
              "1000"
            ]
          },
          "metadata": {},
          "execution_count": 62
        }
      ]
    },
    {
      "cell_type": "code",
      "source": [
        "a + b"
      ],
      "metadata": {
        "colab": {
          "base_uri": "https://localhost:8080/"
        },
        "id": "7Z5XiAelBKBL",
        "outputId": "aeca15de-6407-4f7b-85f9-918050901109"
      },
      "id": "7Z5XiAelBKBL",
      "execution_count": null,
      "outputs": [
        {
          "output_type": "execute_result",
          "data": {
            "text/plain": [
              "1000"
            ]
          },
          "metadata": {},
          "execution_count": 63
        }
      ]
    },
    {
      "cell_type": "code",
      "source": [
        "a / b"
      ],
      "metadata": {
        "colab": {
          "base_uri": "https://localhost:8080/"
        },
        "id": "O_fmCRe8BTTj",
        "outputId": "62059502-26cb-4722-d4e7-a42dcab43f11"
      },
      "id": "O_fmCRe8BTTj",
      "execution_count": null,
      "outputs": [
        {
          "output_type": "execute_result",
          "data": {
            "text/plain": [
              "0.002004008016032064"
            ]
          },
          "metadata": {},
          "execution_count": 64
        }
      ]
    },
    {
      "cell_type": "code",
      "source": [
        "a * b"
      ],
      "metadata": {
        "colab": {
          "base_uri": "https://localhost:8080/"
        },
        "id": "0zRiA5bnBgkX",
        "outputId": "33b16be2-37fe-4ae6-cff1-79bca43b7785"
      },
      "id": "0zRiA5bnBgkX",
      "execution_count": null,
      "outputs": [
        {
          "output_type": "execute_result",
          "data": {
            "text/plain": [
              "1996"
            ]
          },
          "metadata": {},
          "execution_count": 65
        }
      ]
    },
    {
      "cell_type": "code",
      "source": [
        "a ** b"
      ],
      "metadata": {
        "colab": {
          "base_uri": "https://localhost:8080/"
        },
        "id": "h0uczVN1BiTk",
        "outputId": "eaeb1793-217d-4549-8817-574ccb701b1e"
      },
      "id": "h0uczVN1BiTk",
      "execution_count": null,
      "outputs": [
        {
          "output_type": "execute_result",
          "data": {
            "text/plain": [
              "2678771517965668302371062622650004526403512029263834018609375970925877627812340306232995947039239645318986682293882867062967863214230785108996144393674643700983641943706057746355268651265592785469488545538261618745895485316849691889791385986519265728642799119421635541915107457913156096709301417017344"
            ]
          },
          "metadata": {},
          "execution_count": 66
        }
      ]
    },
    {
      "cell_type": "code",
      "source": [
        "c = a + b"
      ],
      "metadata": {
        "id": "jqEFjNC5CFNs"
      },
      "id": "jqEFjNC5CFNs",
      "execution_count": null,
      "outputs": []
    },
    {
      "cell_type": "code",
      "execution_count": null,
      "id": "3f8665c9",
      "metadata": {
        "id": "3f8665c9",
        "colab": {
          "base_uri": "https://localhost:8080/"
        },
        "outputId": "6195a281-532c-4011-b327-1a55ce92d41d"
      },
      "outputs": [
        {
          "output_type": "execute_result",
          "data": {
            "text/plain": [
              "1000"
            ]
          },
          "metadata": {},
          "execution_count": 68
        }
      ],
      "source": [
        "c"
      ]
    },
    {
      "cell_type": "code",
      "execution_count": null,
      "id": "4a849b98",
      "metadata": {
        "id": "4a849b98",
        "colab": {
          "base_uri": "https://localhost:8080/"
        },
        "outputId": "06945a12-bac6-4c6f-869b-97c602a0f42c"
      },
      "outputs": [
        {
          "output_type": "stream",
          "name": "stdout",
          "text": [
            "11\n"
          ]
        }
      ],
      "source": [
        "d = 10\n",
        "e = d + 1\n",
        "print(e)"
      ]
    },
    {
      "cell_type": "markdown",
      "source": [
        "### 同じ変数に上書きする"
      ],
      "metadata": {
        "id": "1XIT7xUvGdHC"
      },
      "id": "1XIT7xUvGdHC"
    },
    {
      "cell_type": "code",
      "source": [
        "f = 100\n",
        "f = f + 100\n",
        "f"
      ],
      "metadata": {
        "colab": {
          "base_uri": "https://localhost:8080/"
        },
        "id": "FjCSevb2IVJl",
        "outputId": "417c5650-ca10-43d4-e8c8-4aa71579a0b5"
      },
      "id": "FjCSevb2IVJl",
      "execution_count": null,
      "outputs": [
        {
          "output_type": "execute_result",
          "data": {
            "text/plain": [
              "200"
            ]
          },
          "metadata": {},
          "execution_count": 70
        }
      ]
    },
    {
      "cell_type": "markdown",
      "id": "74630acb",
      "metadata": {
        "id": "74630acb"
      },
      "source": [
        "### 変数を破棄する"
      ]
    },
    {
      "cell_type": "code",
      "source": [
        "f"
      ],
      "metadata": {
        "colab": {
          "base_uri": "https://localhost:8080/"
        },
        "id": "nmU0AEkxILcD",
        "outputId": "fce9bc95-641e-4f72-f90f-6f592c6023f7"
      },
      "id": "nmU0AEkxILcD",
      "execution_count": null,
      "outputs": [
        {
          "output_type": "execute_result",
          "data": {
            "text/plain": [
              "200"
            ]
          },
          "metadata": {},
          "execution_count": 71
        }
      ]
    },
    {
      "cell_type": "code",
      "source": [
        "del f\n",
        "f"
      ],
      "metadata": {
        "id": "DRZmfw1xIMsc",
        "colab": {
          "base_uri": "https://localhost:8080/",
          "height": 197
        },
        "outputId": "18bc3f9d-a42e-4514-d15a-2d312c8d7c69"
      },
      "id": "DRZmfw1xIMsc",
      "execution_count": null,
      "outputs": [
        {
          "output_type": "error",
          "ename": "NameError",
          "evalue": "ignored",
          "traceback": [
            "\u001b[0;31m---------------------------------------------------------------------------\u001b[0m",
            "\u001b[0;31mNameError\u001b[0m                                 Traceback (most recent call last)",
            "\u001b[0;32m<ipython-input-72-3d8b1fd05b7d>\u001b[0m in \u001b[0;36m<cell line: 2>\u001b[0;34m()\u001b[0m\n\u001b[1;32m      1\u001b[0m \u001b[0;32mdel\u001b[0m \u001b[0mf\u001b[0m\u001b[0;34m\u001b[0m\u001b[0;34m\u001b[0m\u001b[0m\n\u001b[0;32m----> 2\u001b[0;31m \u001b[0mf\u001b[0m\u001b[0;34m\u001b[0m\u001b[0;34m\u001b[0m\u001b[0m\n\u001b[0m",
            "\u001b[0;31mNameError\u001b[0m: name 'f' is not defined"
          ]
        }
      ]
    },
    {
      "cell_type": "markdown",
      "id": "3ce335a1",
      "metadata": {
        "id": "3ce335a1"
      },
      "source": [
        "### 別の型のデータで変数を上書きする"
      ]
    },
    {
      "cell_type": "code",
      "source": [
        "a = 123\n",
        "type(a)"
      ],
      "metadata": {
        "colab": {
          "base_uri": "https://localhost:8080/"
        },
        "id": "0frFIfYtI7xz",
        "outputId": "b9000460-46de-4863-bcf1-7ac431ca3e72"
      },
      "id": "0frFIfYtI7xz",
      "execution_count": null,
      "outputs": [
        {
          "output_type": "execute_result",
          "data": {
            "text/plain": [
              "int"
            ]
          },
          "metadata": {},
          "execution_count": 73
        }
      ]
    },
    {
      "cell_type": "code",
      "execution_count": null,
      "id": "9c11babb",
      "metadata": {
        "id": "9c11babb",
        "colab": {
          "base_uri": "https://localhost:8080/"
        },
        "outputId": "c112310f-a6a7-4932-caee-06bb5091ac3d"
      },
      "outputs": [
        {
          "output_type": "execute_result",
          "data": {
            "text/plain": [
              "str"
            ]
          },
          "metadata": {},
          "execution_count": 74
        }
      ],
      "source": [
        "a = \"abc\"\n",
        "type(a)"
      ]
    },
    {
      "cell_type": "markdown",
      "source": [
        "## さまざまな演算子\n",
        "\n"
      ],
      "metadata": {
        "id": "0DA7WmavMB_g"
      },
      "id": "0DA7WmavMB_g"
    },
    {
      "cell_type": "markdown",
      "source": [
        "### 代入演算子"
      ],
      "metadata": {
        "id": "HVQZzUEEMGpM"
      },
      "id": "HVQZzUEEMGpM"
    },
    {
      "cell_type": "code",
      "source": [
        "a = 1\n",
        "a = a + 1\n",
        "print(a)"
      ],
      "metadata": {
        "colab": {
          "base_uri": "https://localhost:8080/"
        },
        "id": "c4E1C1CpJsaA",
        "outputId": "d7f9b8a3-64ec-499a-ab9d-9648c8d617b0"
      },
      "id": "c4E1C1CpJsaA",
      "execution_count": null,
      "outputs": [
        {
          "output_type": "stream",
          "name": "stdout",
          "text": [
            "2\n"
          ]
        }
      ]
    },
    {
      "cell_type": "code",
      "execution_count": null,
      "id": "977e3a7d",
      "metadata": {
        "id": "977e3a7d",
        "colab": {
          "base_uri": "https://localhost:8080/"
        },
        "outputId": "f81b04b3-863f-44b8-9975-bdd30aa4f174"
      },
      "outputs": [
        {
          "output_type": "execute_result",
          "data": {
            "text/plain": [
              "2"
            ]
          },
          "metadata": {},
          "execution_count": 76
        }
      ],
      "source": [
        "a = 1\n",
        "a += 1\n",
        "a"
      ]
    },
    {
      "cell_type": "markdown",
      "source": [
        "### 論理値と比較演算子"
      ],
      "metadata": {
        "id": "zGooMzBV8hY_"
      },
      "id": "zGooMzBV8hY_"
    },
    {
      "cell_type": "code",
      "source": [
        "int(True)"
      ],
      "metadata": {
        "colab": {
          "base_uri": "https://localhost:8080/"
        },
        "id": "HAaEF-5xLMl2",
        "outputId": "131009e8-c15e-4a6a-fb15-919aed7229d4"
      },
      "id": "HAaEF-5xLMl2",
      "execution_count": null,
      "outputs": [
        {
          "output_type": "execute_result",
          "data": {
            "text/plain": [
              "1"
            ]
          },
          "metadata": {},
          "execution_count": 77
        }
      ]
    },
    {
      "cell_type": "code",
      "source": [
        "int(False)"
      ],
      "metadata": {
        "colab": {
          "base_uri": "https://localhost:8080/"
        },
        "id": "NjFTUTwxLOXV",
        "outputId": "adc688b6-7a60-4b24-fdc1-85c4f2079ad5"
      },
      "id": "NjFTUTwxLOXV",
      "execution_count": null,
      "outputs": [
        {
          "output_type": "execute_result",
          "data": {
            "text/plain": [
              "0"
            ]
          },
          "metadata": {},
          "execution_count": 78
        }
      ]
    },
    {
      "cell_type": "code",
      "execution_count": null,
      "id": "237f456f",
      "metadata": {
        "id": "237f456f",
        "colab": {
          "base_uri": "https://localhost:8080/"
        },
        "outputId": "0908910e-dcbb-4ac9-e3a0-85f4a0344965"
      },
      "outputs": [
        {
          "output_type": "execute_result",
          "data": {
            "text/plain": [
              "True"
            ]
          },
          "metadata": {},
          "execution_count": 79
        }
      ],
      "source": [
        "age = 25\n",
        "age > 20"
      ]
    },
    {
      "cell_type": "code",
      "source": [
        "age = 18\n",
        "age > 20"
      ],
      "metadata": {
        "colab": {
          "base_uri": "https://localhost:8080/"
        },
        "id": "8GonKdj4Lr6d",
        "outputId": "fe1cceba-b63e-434b-e89a-b645d37388b1"
      },
      "id": "8GonKdj4Lr6d",
      "execution_count": null,
      "outputs": [
        {
          "output_type": "execute_result",
          "data": {
            "text/plain": [
              "False"
            ]
          },
          "metadata": {},
          "execution_count": 80
        }
      ]
    },
    {
      "cell_type": "markdown",
      "id": "05dbed2c",
      "metadata": {
        "id": "05dbed2c"
      },
      "source": [
        "### 論理演算子"
      ]
    },
    {
      "cell_type": "code",
      "source": [
        "age = 70"
      ],
      "metadata": {
        "id": "2aSf-GZBMzVB"
      },
      "id": "2aSf-GZBMzVB",
      "execution_count": null,
      "outputs": []
    },
    {
      "cell_type": "code",
      "source": [
        "(age >= 18) and (age <= 65)"
      ],
      "metadata": {
        "colab": {
          "base_uri": "https://localhost:8080/"
        },
        "id": "HwnaxoqwM1Ss",
        "outputId": "c912fa2a-9d45-48b6-f86f-6587d4498481"
      },
      "id": "HwnaxoqwM1Ss",
      "execution_count": null,
      "outputs": [
        {
          "output_type": "execute_result",
          "data": {
            "text/plain": [
              "False"
            ]
          },
          "metadata": {},
          "execution_count": 82
        }
      ]
    },
    {
      "cell_type": "code",
      "source": [
        "(age >= 18) or (age <= 65)"
      ],
      "metadata": {
        "colab": {
          "base_uri": "https://localhost:8080/"
        },
        "id": "nub_iPPhM3Bx",
        "outputId": "28e55255-70e8-4d0a-b85c-7da86ba492f4"
      },
      "id": "nub_iPPhM3Bx",
      "execution_count": null,
      "outputs": [
        {
          "output_type": "execute_result",
          "data": {
            "text/plain": [
              "True"
            ]
          },
          "metadata": {},
          "execution_count": 83
        }
      ]
    },
    {
      "cell_type": "code",
      "source": [
        "not(age >= 18)"
      ],
      "metadata": {
        "colab": {
          "base_uri": "https://localhost:8080/"
        },
        "id": "tP0Hab7_M4kM",
        "outputId": "16bd4b64-3969-461d-cb18-5de07b838d78"
      },
      "id": "tP0Hab7_M4kM",
      "execution_count": null,
      "outputs": [
        {
          "output_type": "execute_result",
          "data": {
            "text/plain": [
              "False"
            ]
          },
          "metadata": {},
          "execution_count": 84
        }
      ]
    },
    {
      "cell_type": "code",
      "source": [
        "age >= 18 and age <= 65"
      ],
      "metadata": {
        "colab": {
          "base_uri": "https://localhost:8080/"
        },
        "id": "o86V01B2N_7T",
        "outputId": "5cc8c657-8ff9-4a6d-ab95-e778a2092d57"
      },
      "id": "o86V01B2N_7T",
      "execution_count": null,
      "outputs": [
        {
          "output_type": "execute_result",
          "data": {
            "text/plain": [
              "False"
            ]
          },
          "metadata": {},
          "execution_count": 85
        }
      ]
    },
    {
      "cell_type": "code",
      "source": [
        "age >= 18 or age <= 65"
      ],
      "metadata": {
        "colab": {
          "base_uri": "https://localhost:8080/"
        },
        "id": "9ev-QsstODzl",
        "outputId": "127f3427-f305-4b26-c246-9df36e7837a9"
      },
      "id": "9ev-QsstODzl",
      "execution_count": null,
      "outputs": [
        {
          "output_type": "execute_result",
          "data": {
            "text/plain": [
              "True"
            ]
          },
          "metadata": {},
          "execution_count": 86
        }
      ]
    },
    {
      "cell_type": "code",
      "source": [
        "not age >= 18"
      ],
      "metadata": {
        "colab": {
          "base_uri": "https://localhost:8080/"
        },
        "id": "ySW4yvHeOHQd",
        "outputId": "aa6518e6-c00d-44b1-a132-3c4dc53be0f3"
      },
      "id": "ySW4yvHeOHQd",
      "execution_count": null,
      "outputs": [
        {
          "output_type": "execute_result",
          "data": {
            "text/plain": [
              "False"
            ]
          },
          "metadata": {},
          "execution_count": 87
        }
      ]
    },
    {
      "cell_type": "markdown",
      "source": [
        "## コメントと命令文の区切り"
      ],
      "metadata": {
        "id": "I2K0cR3RPiSp"
      },
      "id": "I2K0cR3RPiSp"
    },
    {
      "cell_type": "markdown",
      "id": "35d3da9e",
      "metadata": {
        "id": "35d3da9e"
      },
      "source": [
        "### コメント"
      ]
    },
    {
      "cell_type": "code",
      "execution_count": null,
      "id": "a369d8a4",
      "metadata": {
        "id": "a369d8a4",
        "colab": {
          "base_uri": "https://localhost:8080/",
          "height": 145
        },
        "outputId": "48f58719-f23a-4369-de13-0f88fad09325"
      },
      "outputs": [
        {
          "output_type": "error",
          "ename": "SyntaxError",
          "evalue": "ignored",
          "traceback": [
            "\u001b[0;36m  File \u001b[0;32m\"<ipython-input-88-50e0f0f0da5e>\"\u001b[0;36m, line \u001b[0;32m1\u001b[0m\n\u001b[0;31m    これは普通の日本語のコメントです。\u001b[0m\n\u001b[0m                    ^\u001b[0m\n\u001b[0;31mSyntaxError\u001b[0m\u001b[0;31m:\u001b[0m invalid character '。' (U+3002)\n"
          ]
        }
      ],
      "source": [
        "これは普通の日本語のコメントです。"
      ]
    },
    {
      "cell_type": "code",
      "execution_count": null,
      "id": "dd1c691d",
      "metadata": {
        "id": "dd1c691d",
        "colab": {
          "base_uri": "https://localhost:8080/"
        },
        "outputId": "c8ce2a5f-8479-465f-a10b-f62230273ff7"
      },
      "outputs": [
        {
          "output_type": "stream",
          "name": "stdout",
          "text": [
            "30\n"
          ]
        }
      ],
      "source": [
        "# これは普通の日本語のコメントです。\n",
        "\n",
        "a = 10  # 変数aに10を代入\n",
        "b = 20  # 変数bに20を代入\n",
        "\n",
        "# 以下はaを上書きしているが、コメントにしているので処理は行われない\n",
        "# a = 50\n",
        "\n",
        "# 足し算\n",
        "c = a + b\n",
        "\n",
        "\"\"\"\n",
        "このように記述することで\n",
        "複数行のコメントの記述も可能です。\n",
        "最後にcの中身を表示します。\n",
        "\"\"\"\n",
        "print(c)"
      ]
    },
    {
      "cell_type": "markdown",
      "id": "d75c1bf0",
      "metadata": {
        "id": "d75c1bf0"
      },
      "source": [
        "### 命令文の区切り"
      ]
    },
    {
      "cell_type": "code",
      "source": [
        "a = 10; b = 20; c = 30\n",
        "print(a)\n",
        "print(b)\n",
        "print(c)"
      ],
      "metadata": {
        "colab": {
          "base_uri": "https://localhost:8080/"
        },
        "id": "heCzJF32OM2v",
        "outputId": "3696a40b-3a34-4777-82ed-d9b8df059185"
      },
      "id": "heCzJF32OM2v",
      "execution_count": null,
      "outputs": [
        {
          "output_type": "stream",
          "name": "stdout",
          "text": [
            "10\n",
            "20\n",
            "30\n"
          ]
        }
      ]
    },
    {
      "cell_type": "code",
      "source": [
        "print(a); print(b); print(c)"
      ],
      "metadata": {
        "colab": {
          "base_uri": "https://localhost:8080/"
        },
        "id": "wN9dRpBnOYz4",
        "outputId": "8e4b7600-86d3-4cbb-9659-b1304b32b284"
      },
      "id": "wN9dRpBnOYz4",
      "execution_count": null,
      "outputs": [
        {
          "output_type": "stream",
          "name": "stdout",
          "text": [
            "10\n",
            "20\n",
            "30\n"
          ]
        }
      ]
    },
    {
      "cell_type": "markdown",
      "source": [
        "## さまざまな関数\n"
      ],
      "metadata": {
        "id": "9cyhKwAltSGy"
      },
      "id": "9cyhKwAltSGy"
    },
    {
      "cell_type": "markdown",
      "source": [
        "### 関数とは\n"
      ],
      "metadata": {
        "id": "fbOAF3cZP4St"
      },
      "id": "fbOAF3cZP4St"
    },
    {
      "cell_type": "code",
      "source": [
        "a = print(\"あああ\")"
      ],
      "metadata": {
        "colab": {
          "base_uri": "https://localhost:8080/"
        },
        "id": "gWqAlYXeTfHw",
        "outputId": "09beabf9-d335-43c4-8380-cb602e321917"
      },
      "id": "gWqAlYXeTfHw",
      "execution_count": null,
      "outputs": [
        {
          "output_type": "stream",
          "name": "stdout",
          "text": [
            "あああ\n"
          ]
        }
      ]
    },
    {
      "cell_type": "code",
      "source": [
        "print(a)"
      ],
      "metadata": {
        "colab": {
          "base_uri": "https://localhost:8080/"
        },
        "id": "V8Mfn6WuTZvt",
        "outputId": "7347beb2-e1b7-44b0-b4a0-cb8cf3eaacdf"
      },
      "id": "V8Mfn6WuTZvt",
      "execution_count": null,
      "outputs": [
        {
          "output_type": "stream",
          "name": "stdout",
          "text": [
            "None\n"
          ]
        }
      ]
    },
    {
      "cell_type": "code",
      "source": [
        "type(\"okay\")"
      ],
      "metadata": {
        "colab": {
          "base_uri": "https://localhost:8080/"
        },
        "id": "2HjnIdPvUPhs",
        "outputId": "9b18dc63-87b0-479b-ad93-1a89f80ef50b"
      },
      "id": "2HjnIdPvUPhs",
      "execution_count": null,
      "outputs": [
        {
          "output_type": "execute_result",
          "data": {
            "text/plain": [
              "str"
            ]
          },
          "metadata": {},
          "execution_count": 6
        }
      ]
    },
    {
      "cell_type": "markdown",
      "id": "4f236543",
      "metadata": {
        "id": "4f236543"
      },
      "source": [
        "### 組み込み関数"
      ]
    },
    {
      "cell_type": "markdown",
      "source": [
        "#### 文字数を数える"
      ],
      "metadata": {
        "id": "hrm3g6zCC-le"
      },
      "id": "hrm3g6zCC-le"
    },
    {
      "cell_type": "code",
      "source": [
        "name = \"Taro Kirameki\"\n",
        "len(name)"
      ],
      "metadata": {
        "colab": {
          "base_uri": "https://localhost:8080/"
        },
        "id": "olo58PvpETpx",
        "outputId": "e949de1b-03b3-43e8-e0e9-5895e6e5ada3"
      },
      "id": "olo58PvpETpx",
      "execution_count": null,
      "outputs": [
        {
          "output_type": "execute_result",
          "data": {
            "text/plain": [
              "13"
            ]
          },
          "metadata": {},
          "execution_count": 7
        }
      ]
    },
    {
      "cell_type": "code",
      "source": [
        "num = 10000\n",
        "len(num)"
      ],
      "metadata": {
        "colab": {
          "base_uri": "https://localhost:8080/",
          "height": 197
        },
        "id": "ayK3VuSiFYUQ",
        "outputId": "edcc2c1d-bf76-4149-a3d3-a326a1a38f10"
      },
      "id": "ayK3VuSiFYUQ",
      "execution_count": null,
      "outputs": [
        {
          "output_type": "error",
          "ename": "TypeError",
          "evalue": "ignored",
          "traceback": [
            "\u001b[0;31m---------------------------------------------------------------------------\u001b[0m",
            "\u001b[0;31mTypeError\u001b[0m                                 Traceback (most recent call last)",
            "\u001b[0;32m<ipython-input-8-3806cc03c79a>\u001b[0m in \u001b[0;36m<cell line: 2>\u001b[0;34m()\u001b[0m\n\u001b[1;32m      1\u001b[0m \u001b[0mnum\u001b[0m \u001b[0;34m=\u001b[0m \u001b[0;36m10000\u001b[0m\u001b[0;34m\u001b[0m\u001b[0;34m\u001b[0m\u001b[0m\n\u001b[0;32m----> 2\u001b[0;31m \u001b[0mlen\u001b[0m\u001b[0;34m(\u001b[0m\u001b[0mnum\u001b[0m\u001b[0;34m)\u001b[0m\u001b[0;34m\u001b[0m\u001b[0;34m\u001b[0m\u001b[0m\n\u001b[0m",
            "\u001b[0;31mTypeError\u001b[0m: object of type 'int' has no len()"
          ]
        }
      ]
    },
    {
      "cell_type": "code",
      "source": [
        "num = 10000\n",
        "suuji = str(num)\n",
        "len(suuji)"
      ],
      "metadata": {
        "colab": {
          "base_uri": "https://localhost:8080/"
        },
        "id": "SrbQnCoUFRP5",
        "outputId": "5fede9a6-3fca-4e0f-e41f-baaf3cd78844"
      },
      "id": "SrbQnCoUFRP5",
      "execution_count": null,
      "outputs": [
        {
          "output_type": "execute_result",
          "data": {
            "text/plain": [
              "5"
            ]
          },
          "metadata": {},
          "execution_count": 9
        }
      ]
    },
    {
      "cell_type": "markdown",
      "source": [
        "#### 文字列の入力"
      ],
      "metadata": {
        "id": "5lzwFVdNg-PF"
      },
      "id": "5lzwFVdNg-PF"
    },
    {
      "cell_type": "code",
      "execution_count": null,
      "id": "73ac3320",
      "metadata": {
        "id": "73ac3320",
        "colab": {
          "base_uri": "https://localhost:8080/"
        },
        "outputId": "0bda6865-40d9-46f6-d763-eb05d525db42"
      },
      "outputs": [
        {
          "name": "stdout",
          "output_type": "stream",
          "text": [
            "名前を入力してください：taro kirameki\n"
          ]
        }
      ],
      "source": [
        "name = input(\"名前を入力してください：\")"
      ]
    },
    {
      "cell_type": "code",
      "execution_count": null,
      "id": "57787003",
      "metadata": {
        "id": "57787003",
        "colab": {
          "base_uri": "https://localhost:8080/"
        },
        "outputId": "163a9af3-107a-42df-8f8f-fe7b632d6d3d"
      },
      "outputs": [
        {
          "output_type": "stream",
          "name": "stdout",
          "text": [
            "あなたの名前は taro kirameki ですね。\n"
          ]
        }
      ],
      "source": [
        "print(\"あなたの名前は\", name, \"ですね。\")"
      ]
    },
    {
      "cell_type": "code",
      "source": [
        "print(\"あなたの名前は \" + name + \" ですね。\")"
      ],
      "metadata": {
        "colab": {
          "base_uri": "https://localhost:8080/"
        },
        "id": "q_7rL56iA-C1",
        "outputId": "0b66ebe2-9891-43a5-a5f6-d5d384386d81"
      },
      "id": "q_7rL56iA-C1",
      "execution_count": null,
      "outputs": [
        {
          "output_type": "stream",
          "name": "stdout",
          "text": [
            "あなたの名前は taro kirameki ですね。\n"
          ]
        }
      ]
    },
    {
      "cell_type": "code",
      "source": [
        "print(f\"あなたの名前は {name} ですね。\")"
      ],
      "metadata": {
        "colab": {
          "base_uri": "https://localhost:8080/"
        },
        "id": "M9U4uxIVMSP9",
        "outputId": "130a7d0a-b109-4aa0-ec60-ca5cb031aa61"
      },
      "id": "M9U4uxIVMSP9",
      "execution_count": null,
      "outputs": [
        {
          "output_type": "stream",
          "name": "stdout",
          "text": [
            "あなたの名前は taro kirameki ですね。\n"
          ]
        }
      ]
    },
    {
      "cell_type": "markdown",
      "id": "8e63f9f9",
      "metadata": {
        "id": "8e63f9f9"
      },
      "source": [
        "##### input() の注意点"
      ]
    },
    {
      "cell_type": "code",
      "source": [
        "num = input(\"整数値を入力してみる：\")"
      ],
      "metadata": {
        "colab": {
          "base_uri": "https://localhost:8080/"
        },
        "id": "h6MpJAA2f675",
        "outputId": "d8583c94-ad93-439a-b17d-694a8761e083"
      },
      "id": "h6MpJAA2f675",
      "execution_count": null,
      "outputs": [
        {
          "name": "stdout",
          "output_type": "stream",
          "text": [
            "整数値を入力してみる：10\n"
          ]
        }
      ]
    },
    {
      "cell_type": "code",
      "source": [
        "type(num)"
      ],
      "metadata": {
        "colab": {
          "base_uri": "https://localhost:8080/"
        },
        "id": "3ldTE_pagEL3",
        "outputId": "3fb32ae9-f3c0-424a-db09-55f2ad63de7c"
      },
      "id": "3ldTE_pagEL3",
      "execution_count": null,
      "outputs": [
        {
          "output_type": "execute_result",
          "data": {
            "text/plain": [
              "str"
            ]
          },
          "metadata": {},
          "execution_count": 15
        }
      ]
    },
    {
      "cell_type": "code",
      "source": [
        "num = num + 10"
      ],
      "metadata": {
        "colab": {
          "base_uri": "https://localhost:8080/",
          "height": 180
        },
        "id": "k4yjOziPgCfE",
        "outputId": "cc53c168-2fff-4177-f967-c70c8b674649"
      },
      "id": "k4yjOziPgCfE",
      "execution_count": null,
      "outputs": [
        {
          "output_type": "error",
          "ename": "TypeError",
          "evalue": "ignored",
          "traceback": [
            "\u001b[0;31m---------------------------------------------------------------------------\u001b[0m",
            "\u001b[0;31mTypeError\u001b[0m                                 Traceback (most recent call last)",
            "\u001b[0;32m<ipython-input-16-4a125ceebcfb>\u001b[0m in \u001b[0;36m<cell line: 1>\u001b[0;34m()\u001b[0m\n\u001b[0;32m----> 1\u001b[0;31m \u001b[0mnum\u001b[0m \u001b[0;34m=\u001b[0m \u001b[0mnum\u001b[0m \u001b[0;34m+\u001b[0m \u001b[0;36m10\u001b[0m\u001b[0;34m\u001b[0m\u001b[0;34m\u001b[0m\u001b[0m\n\u001b[0m",
            "\u001b[0;31mTypeError\u001b[0m: can only concatenate str (not \"int\") to str"
          ]
        }
      ]
    },
    {
      "cell_type": "code",
      "execution_count": null,
      "id": "2d842706",
      "metadata": {
        "id": "2d842706",
        "colab": {
          "base_uri": "https://localhost:8080/"
        },
        "outputId": "0f02e519-5c7d-436e-b8f4-ef722cbd2b3f"
      },
      "outputs": [
        {
          "output_type": "execute_result",
          "data": {
            "text/plain": [
              "20"
            ]
          },
          "metadata": {},
          "execution_count": 17
        }
      ],
      "source": [
        "num = int(num)\n",
        "num = num + 10\n",
        "num"
      ]
    },
    {
      "cell_type": "code",
      "source": [
        "num_fake = input(\"整数値を入力：\")\n",
        "num = int(num_fake)\n",
        "num"
      ],
      "metadata": {
        "colab": {
          "base_uri": "https://localhost:8080/",
          "height": 232
        },
        "id": "Say8wumAgcH2",
        "outputId": "a195309e-b138-4cfa-a712-d44612d4ea62"
      },
      "id": "Say8wumAgcH2",
      "execution_count": null,
      "outputs": [
        {
          "name": "stdout",
          "output_type": "stream",
          "text": [
            "整数値を入力：abcde\n"
          ]
        },
        {
          "output_type": "error",
          "ename": "ValueError",
          "evalue": "ignored",
          "traceback": [
            "\u001b[0;31m---------------------------------------------------------------------------\u001b[0m",
            "\u001b[0;31mValueError\u001b[0m                                Traceback (most recent call last)",
            "\u001b[0;32m<ipython-input-18-3fc150b0bd36>\u001b[0m in \u001b[0;36m<cell line: 2>\u001b[0;34m()\u001b[0m\n\u001b[1;32m      1\u001b[0m \u001b[0mnum_fake\u001b[0m \u001b[0;34m=\u001b[0m \u001b[0minput\u001b[0m\u001b[0;34m(\u001b[0m\u001b[0;34m\"整数値を入力：\"\u001b[0m\u001b[0;34m)\u001b[0m\u001b[0;34m\u001b[0m\u001b[0;34m\u001b[0m\u001b[0m\n\u001b[0;32m----> 2\u001b[0;31m \u001b[0mnum\u001b[0m \u001b[0;34m=\u001b[0m \u001b[0mint\u001b[0m\u001b[0;34m(\u001b[0m\u001b[0mnum_fake\u001b[0m\u001b[0;34m)\u001b[0m\u001b[0;34m\u001b[0m\u001b[0;34m\u001b[0m\u001b[0m\n\u001b[0m\u001b[1;32m      3\u001b[0m \u001b[0mnum\u001b[0m\u001b[0;34m\u001b[0m\u001b[0;34m\u001b[0m\u001b[0m\n",
            "\u001b[0;31mValueError\u001b[0m: invalid literal for int() with base 10: 'abcde'"
          ]
        }
      ]
    },
    {
      "cell_type": "markdown",
      "source": [
        "#### コードの実行"
      ],
      "metadata": {
        "id": "S63o9KaptnAy"
      },
      "id": "S63o9KaptnAy"
    },
    {
      "cell_type": "code",
      "source": [
        "\"\"\"a = \"Alphabet\"\n",
        "b = \"Google\"\n",
        "c = a + \"は\" + b + \"の親会社です。\"\n",
        "print(c)\"\"\""
      ],
      "metadata": {
        "colab": {
          "base_uri": "https://localhost:8080/",
          "height": 35
        },
        "id": "zsAt3pP6EGfT",
        "outputId": "a67569d2-f637-47da-9bfa-51217249d1a0"
      },
      "id": "zsAt3pP6EGfT",
      "execution_count": null,
      "outputs": [
        {
          "output_type": "execute_result",
          "data": {
            "text/plain": [
              "'a = \"Alphabet\"\\nb = \"Google\"\\nc = a + \"は\" + b + \"の親会社です。\"\\nprint(c)'"
            ],
            "application/vnd.google.colaboratory.intrinsic+json": {
              "type": "string"
            }
          },
          "metadata": {},
          "execution_count": 19
        }
      ]
    },
    {
      "cell_type": "code",
      "source": [
        "exec(\"\"\"a = \"Alphabet\"\n",
        "b = \"Google\"\n",
        "c = a + \"は\" + b + \"の親会社です。\"\n",
        "print(c)\"\"\")"
      ],
      "metadata": {
        "colab": {
          "base_uri": "https://localhost:8080/"
        },
        "id": "vu87R8Tfvj1E",
        "outputId": "7bedee04-3e72-4825-8a55-b12f998beb11"
      },
      "id": "vu87R8Tfvj1E",
      "execution_count": null,
      "outputs": [
        {
          "output_type": "stream",
          "name": "stdout",
          "text": [
            "AlphabetはGoogleの親会社です。\n"
          ]
        }
      ]
    },
    {
      "cell_type": "code",
      "source": [
        "exec(\"name = 'mario'\")\n",
        "name"
      ],
      "metadata": {
        "id": "mi2HCX0StpYF",
        "colab": {
          "base_uri": "https://localhost:8080/",
          "height": 35
        },
        "outputId": "b1747b10-ac0e-4f13-e7b1-200a57ca26d0"
      },
      "id": "mi2HCX0StpYF",
      "execution_count": null,
      "outputs": [
        {
          "output_type": "execute_result",
          "data": {
            "text/plain": [
              "'mario'"
            ],
            "application/vnd.google.colaboratory.intrinsic+json": {
              "type": "string"
            }
          },
          "metadata": {},
          "execution_count": 21
        }
      ]
    },
    {
      "cell_type": "markdown",
      "source": [
        "### 自作関数"
      ],
      "metadata": {
        "id": "yo_Os7fMxXFz"
      },
      "id": "yo_Os7fMxXFz"
    },
    {
      "cell_type": "markdown",
      "source": [
        "#### 自作関数の作り方の基本"
      ],
      "metadata": {
        "id": "ogZfb9nTId57"
      },
      "id": "ogZfb9nTId57"
    },
    {
      "cell_type": "code",
      "source": [
        "def hello():\n",
        "    print(\"Hello!\")\n",
        "    print(\"It is a fine day today!\")\n",
        "\n",
        "def good_morning():\n",
        "    print(\"Good morning!\")\n",
        "    print(\"Have a nice day!\")\n",
        "\n",
        "hello()\n",
        "good_morning()"
      ],
      "metadata": {
        "colab": {
          "base_uri": "https://localhost:8080/"
        },
        "id": "EmOqmK1o1j7x",
        "outputId": "2c53eefe-85e5-41fc-afde-f1240aafcf92"
      },
      "id": "EmOqmK1o1j7x",
      "execution_count": null,
      "outputs": [
        {
          "output_type": "stream",
          "name": "stdout",
          "text": [
            "Hello!\n",
            "It is a fine day today!\n",
            "Good morning!\n",
            "Have a nice day!\n"
          ]
        }
      ]
    },
    {
      "cell_type": "markdown",
      "source": [
        "#### 引数がある関数"
      ],
      "metadata": {
        "id": "NzcPPRxw3jhC"
      },
      "id": "NzcPPRxw3jhC"
    },
    {
      "cell_type": "code",
      "source": [
        "def introduce(name, age):\n",
        "    print(\"Hello!\")\n",
        "    print(f\"My name is {name}.\")\n",
        "    print(f\"I'm {age} years old.\")\n",
        "\n",
        "introduce(\"tanaka\", 25)\n",
        "introduce(\"suzuki\", 30)"
      ],
      "metadata": {
        "colab": {
          "base_uri": "https://localhost:8080/"
        },
        "id": "wp2ZH1qT3pqE",
        "outputId": "fdaaa1f8-6d68-4aa6-d9d7-42a76b82dbef"
      },
      "id": "wp2ZH1qT3pqE",
      "execution_count": null,
      "outputs": [
        {
          "output_type": "stream",
          "name": "stdout",
          "text": [
            "Hello!\n",
            "My name is tanaka.\n",
            "I'm 25 years old.\n",
            "Hello!\n",
            "My name is suzuki.\n",
            "I'm 30 years old.\n"
          ]
        }
      ]
    },
    {
      "cell_type": "markdown",
      "source": [
        "#### キーワード引数を使う"
      ],
      "metadata": {
        "id": "xanAQWQA3wIn"
      },
      "id": "xanAQWQA3wIn"
    },
    {
      "cell_type": "code",
      "source": [
        "def introduce(name, age):\n",
        "    print(\"Hello!\")\n",
        "    print(f\"My name is {name}.\")\n",
        "    print(f\"I'm {age} years old.\")\n",
        "\n",
        "introduce(\"tanaka\", 25)\n",
        "introduce(\"suzuki\", 30)\n",
        "introduce(name = \"sato\", age = 20)       # 追加\n",
        "introduce(age = 35, name = \"takahashi\")  # 追加"
      ],
      "metadata": {
        "colab": {
          "base_uri": "https://localhost:8080/"
        },
        "id": "7LRO8qoP30Kj",
        "outputId": "7caaa4c4-e374-4857-f0df-e86117e935e2"
      },
      "id": "7LRO8qoP30Kj",
      "execution_count": null,
      "outputs": [
        {
          "output_type": "stream",
          "name": "stdout",
          "text": [
            "Hello!\n",
            "My name is tanaka.\n",
            "I'm 25 years old.\n",
            "Hello!\n",
            "My name is suzuki.\n",
            "I'm 30 years old.\n",
            "Hello!\n",
            "My name is sato.\n",
            "I'm 20 years old.\n",
            "Hello!\n",
            "My name is takahashi.\n",
            "I'm 35 years old.\n"
          ]
        }
      ]
    },
    {
      "cell_type": "markdown",
      "source": [
        "#### 引数のデフォルト値"
      ],
      "metadata": {
        "id": "BUjLo2jn3-d6"
      },
      "id": "BUjLo2jn3-d6"
    },
    {
      "cell_type": "code",
      "source": [
        "def introduce(name = \"nanashi\", age = 18):\n",
        "    print(\"Hello!\")\n",
        "    print(f\"My name is {name}.\")\n",
        "    print(f\"I'm {age} years old.\")\n",
        "\n",
        "introduce(\"tanaka\", 25)  # 引数を全て指定\n",
        "introduce(\"suzuki\")      # age を省略\n",
        "introduce(age = 30)      # name を省略\n",
        "introduce()              # name も age も省略"
      ],
      "metadata": {
        "colab": {
          "base_uri": "https://localhost:8080/"
        },
        "id": "bl__hv0P4Afp",
        "outputId": "d55f196f-19ac-4a81-d67a-8977cc4c12bb"
      },
      "id": "bl__hv0P4Afp",
      "execution_count": null,
      "outputs": [
        {
          "output_type": "stream",
          "name": "stdout",
          "text": [
            "Hello!\n",
            "My name is tanaka.\n",
            "I'm 25 years old.\n",
            "Hello!\n",
            "My name is suzuki.\n",
            "I'm 18 years old.\n",
            "Hello!\n",
            "My name is nanashi.\n",
            "I'm 30 years old.\n",
            "Hello!\n",
            "My name is nanashi.\n",
            "I'm 18 years old.\n"
          ]
        }
      ]
    },
    {
      "cell_type": "markdown",
      "source": [
        "#### 戻り値がある関数の定義"
      ],
      "metadata": {
        "id": "UA9s2Izx4CbX"
      },
      "id": "UA9s2Izx4CbX"
    },
    {
      "cell_type": "code",
      "source": [
        "def calc_bmi(height, weight):\n",
        "    ret = weight / (height ** 2)\n",
        "    return ret\n",
        "\n",
        "height = float(input(\"身長(m)を入力：\"))\n",
        "weight = float(input(\"体重(kg)を入力：\"))\n",
        "\n",
        "bmi = calc_bmi(height, weight)\n",
        "print(f\"BMI値：{bmi:.1f}\")"
      ],
      "metadata": {
        "colab": {
          "base_uri": "https://localhost:8080/"
        },
        "id": "YRCEJ7DJ4EyW",
        "outputId": "1a2e3557-a630-44bc-eb78-14a05f5df258"
      },
      "id": "YRCEJ7DJ4EyW",
      "execution_count": null,
      "outputs": [
        {
          "output_type": "stream",
          "name": "stdout",
          "text": [
            "身長(m)を入力：1.7\n",
            "体重(kg)を入力：60.1\n",
            "BMI値：20.8\n"
          ]
        }
      ]
    },
    {
      "cell_type": "markdown",
      "source": [
        "##### 変数の通用範囲に注意"
      ],
      "metadata": {
        "id": "vhEMlAGK4GUs"
      },
      "id": "vhEMlAGK4GUs"
    },
    {
      "cell_type": "code",
      "source": [
        "def calc_bmi(height, weight):\n",
        "    ret = weight / (height ** 2)\n",
        "    return ret\n",
        "\n",
        "height = float(input(\"身長(m)を入力：\"))\n",
        "weight = float(input(\"体重(kg)を入力：\"))\n",
        "\n",
        "bmi = calc_bmi(height, weight)\n",
        "print(ret)"
      ],
      "metadata": {
        "id": "u9T7Xj55q-O0",
        "colab": {
          "base_uri": "https://localhost:8080/",
          "height": 249
        },
        "outputId": "db59f38c-cc4d-4c26-b69a-aeca45a52f5b"
      },
      "id": "u9T7Xj55q-O0",
      "execution_count": null,
      "outputs": [
        {
          "name": "stdout",
          "output_type": "stream",
          "text": [
            "身長(m)を入力：1.7\n",
            "体重(kg)を入力：60.1\n"
          ]
        },
        {
          "output_type": "error",
          "ename": "NameError",
          "evalue": "ignored",
          "traceback": [
            "\u001b[0;31m---------------------------------------------------------------------------\u001b[0m",
            "\u001b[0;31mNameError\u001b[0m                                 Traceback (most recent call last)",
            "\u001b[0;32m<ipython-input-31-b98284d48a79>\u001b[0m in \u001b[0;36m<cell line: 9>\u001b[0;34m()\u001b[0m\n\u001b[1;32m      7\u001b[0m \u001b[0;34m\u001b[0m\u001b[0m\n\u001b[1;32m      8\u001b[0m \u001b[0mbmi\u001b[0m \u001b[0;34m=\u001b[0m \u001b[0mcalc_bmi\u001b[0m\u001b[0;34m(\u001b[0m\u001b[0mheight\u001b[0m\u001b[0;34m,\u001b[0m \u001b[0mweight\u001b[0m\u001b[0;34m)\u001b[0m\u001b[0;34m\u001b[0m\u001b[0;34m\u001b[0m\u001b[0m\n\u001b[0;32m----> 9\u001b[0;31m \u001b[0mprint\u001b[0m\u001b[0;34m(\u001b[0m\u001b[0mret\u001b[0m\u001b[0;34m)\u001b[0m\u001b[0;34m\u001b[0m\u001b[0;34m\u001b[0m\u001b[0m\n\u001b[0m",
            "\u001b[0;31mNameError\u001b[0m: name 'ret' is not defined"
          ]
        }
      ]
    }
  ],
  "metadata": {
    "colab": {
      "provenance": [],
      "toc_visible": true
    },
    "language_info": {
      "name": "python"
    },
    "kernelspec": {
      "name": "python3",
      "display_name": "Python 3"
    }
  },
  "nbformat": 4,
  "nbformat_minor": 5
}