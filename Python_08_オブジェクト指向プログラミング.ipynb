{
  "cells": [
    {
      "cell_type": "markdown",
      "source": [
        "## クラスとデータ型\n",
        "\n"
      ],
      "metadata": {
        "id": "9iARStSggDQw"
      },
      "id": "9iARStSggDQw"
    },
    {
      "cell_type": "markdown",
      "source": [
        "### 一例：`datetime`"
      ],
      "metadata": {
        "id": "1hg4W2UCaXR1"
      },
      "id": "1hg4W2UCaXR1"
    },
    {
      "cell_type": "code",
      "source": [
        "from datetime import datetime, timedelta, timezone\n",
        "\n",
        "jst = timezone(timedelta(hours=+9), 'JST')\n",
        "\n",
        "now_dtm = datetime.now(jst)\n",
        "\n",
        "print(now_dtm)"
      ],
      "metadata": {
        "colab": {
          "base_uri": "https://localhost:8080/"
        },
        "id": "coQqxA0y0Wh-",
        "outputId": "b4f1bc02-8da9-4e25-a558-ee94eac64259"
      },
      "id": "coQqxA0y0Wh-",
      "execution_count": null,
      "outputs": [
        {
          "output_type": "stream",
          "name": "stdout",
          "text": [
            "2023-08-24 16:34:06.330018+09:00\n"
          ]
        }
      ]
    },
    {
      "cell_type": "code",
      "source": [
        "print(type(now_dtm))"
      ],
      "metadata": {
        "colab": {
          "base_uri": "https://localhost:8080/"
        },
        "id": "_ZEXCQqR1Xzk",
        "outputId": "fb5189c2-7d7b-48ad-ade0-29ee8d88a2bc"
      },
      "id": "_ZEXCQqR1Xzk",
      "execution_count": null,
      "outputs": [
        {
          "output_type": "stream",
          "name": "stdout",
          "text": [
            "<class 'datetime.datetime'>\n"
          ]
        }
      ]
    },
    {
      "cell_type": "code",
      "source": [
        "print(now_dtm.weekday())"
      ],
      "metadata": {
        "colab": {
          "base_uri": "https://localhost:8080/"
        },
        "id": "Eh1T5kuqgJtR",
        "outputId": "6edde1aa-12f1-4bbc-b137-a50b95403c22"
      },
      "id": "Eh1T5kuqgJtR",
      "execution_count": null,
      "outputs": [
        {
          "output_type": "stream",
          "name": "stdout",
          "text": [
            "3\n"
          ]
        }
      ]
    },
    {
      "cell_type": "code",
      "source": [
        "print(now_dtm.__str__())"
      ],
      "metadata": {
        "colab": {
          "base_uri": "https://localhost:8080/"
        },
        "id": "4AfUy6zleK5l",
        "outputId": "77b508f2-832a-4957-9fed-40e3526b111a"
      },
      "id": "4AfUy6zleK5l",
      "execution_count": null,
      "outputs": [
        {
          "output_type": "stream",
          "name": "stdout",
          "text": [
            "2023-08-24 16:34:06.330018+09:00\n"
          ]
        }
      ]
    },
    {
      "cell_type": "markdown",
      "source": [
        "## クラスの作り方とインスタンスの使い方\n"
      ],
      "metadata": {
        "id": "QneM3e7OkzXJ"
      },
      "id": "QneM3e7OkzXJ"
    },
    {
      "cell_type": "markdown",
      "source": [
        "### クラスを作ってみる"
      ],
      "metadata": {
        "id": "cjB3ImAfgAHJ"
      },
      "id": "cjB3ImAfgAHJ"
    },
    {
      "cell_type": "code",
      "execution_count": null,
      "id": "8819b8b6",
      "metadata": {
        "id": "8819b8b6"
      },
      "outputs": [],
      "source": [
        "class Dog:\n",
        "    # property\n",
        "    voice = \"bow!\"\n",
        "\n",
        "    # method\n",
        "    def bark(self):\n",
        "        print(self.voice)"
      ]
    },
    {
      "cell_type": "markdown",
      "source": [
        "### 作ったクラスのインスタンスを使ってみる"
      ],
      "metadata": {
        "id": "BtexooKXh2v9"
      },
      "id": "BtexooKXh2v9"
    },
    {
      "cell_type": "code",
      "execution_count": null,
      "id": "fa40583e",
      "metadata": {
        "id": "fa40583e",
        "colab": {
          "base_uri": "https://localhost:8080/"
        },
        "outputId": "b0f41116-0709-47ea-f8f8-6d14d63ce9b4"
      },
      "outputs": [
        {
          "output_type": "stream",
          "name": "stdout",
          "text": [
            "bow!\n"
          ]
        }
      ],
      "source": [
        "buddy = Dog()\n",
        "buddy.bark()"
      ]
    },
    {
      "cell_type": "markdown",
      "source": [
        "### コンストラクタ"
      ],
      "metadata": {
        "id": "j6ixcUQwnbgZ"
      },
      "id": "j6ixcUQwnbgZ"
    },
    {
      "cell_type": "code",
      "execution_count": null,
      "id": "7b77cba9",
      "metadata": {
        "id": "7b77cba9"
      },
      "outputs": [],
      "source": [
        "class Dog:\n",
        "    # property\n",
        "    voice = \"bow!\"\n",
        "\n",
        "    # constructor\n",
        "    def __init__(self, name = \"Buddy\"):\n",
        "        # property\n",
        "        self.name = name\n",
        "\n",
        "    # method\n",
        "    def bark(self):\n",
        "        print(self.voice)"
      ]
    },
    {
      "cell_type": "code",
      "execution_count": null,
      "id": "8552891b",
      "metadata": {
        "id": "8552891b",
        "colab": {
          "base_uri": "https://localhost:8080/"
        },
        "outputId": "021ea3bb-8953-407a-f304-561badd55b26"
      },
      "outputs": [
        {
          "output_type": "stream",
          "name": "stdout",
          "text": [
            "Buddy\n",
            "bow!\n",
            "Jake\n",
            "bow!\n"
          ]
        }
      ],
      "source": [
        "buddy = Dog()\n",
        "print(buddy.name)\n",
        "buddy.bark()\n",
        "\n",
        "jake = Dog(\"Jake\")\n",
        "print(jake.name)\n",
        "jake.bark()"
      ]
    },
    {
      "cell_type": "markdown",
      "source": [
        "### インスタンスを関数のように呼び出す"
      ],
      "metadata": {
        "id": "8IWhXxPtiafQ"
      },
      "id": "8IWhXxPtiafQ"
    },
    {
      "cell_type": "code",
      "source": [
        "class Suit:\n",
        "    def __init__(self, color, size, brand):\n",
        "        self.color = color\n",
        "        self.size = size\n",
        "        self.brand = brand\n",
        "\n",
        "    def __call__(self, occasion):\n",
        "        return f\"この{self.color}のスーツ（サイズ：{self.size}、ブランド：{self.brand}）は、{occasion}にぴったりです。\"\n",
        "\n",
        "# クラスのインスタンス化\n",
        "my_suit = Suit(color=\"ピンク\", size=\"L\", brand=\"サンプルブランド\")\n",
        "\n",
        "# インスタンスを関数のように呼び出す\n",
        "result = my_suit(\"パーティー\")\n",
        "result"
      ],
      "metadata": {
        "colab": {
          "base_uri": "https://localhost:8080/",
          "height": 35
        },
        "id": "MwdPwAnRjhFS",
        "outputId": "7515ba92-f83e-4cf2-b19f-3d5efdb1d10f"
      },
      "id": "MwdPwAnRjhFS",
      "execution_count": null,
      "outputs": [
        {
          "output_type": "execute_result",
          "data": {
            "text/plain": [
              "'このピンクのスーツ（サイズ：L、ブランド：サンプルブランド）は、パーティーにぴったりです。'"
            ],
            "application/vnd.google.colaboratory.intrinsic+json": {
              "type": "string"
            }
          },
          "metadata": {},
          "execution_count": 13
        }
      ]
    },
    {
      "cell_type": "code",
      "source": [
        "# インスタンスを関数のように呼び出す\n",
        "result = my_suit.__call__(\"a formal event\")\n",
        "result"
      ],
      "metadata": {
        "colab": {
          "base_uri": "https://localhost:8080/",
          "height": 35
        },
        "id": "GxzDQ2-fkg0S",
        "outputId": "5d770dba-68c7-4f63-d66d-2ebf8384bf5e"
      },
      "id": "GxzDQ2-fkg0S",
      "execution_count": null,
      "outputs": [
        {
          "output_type": "execute_result",
          "data": {
            "text/plain": [
              "'このピンクのスーツ（サイズ：L、ブランド：サンプルブランド）は、a formal eventにぴったりです。'"
            ],
            "application/vnd.google.colaboratory.intrinsic+json": {
              "type": "string"
            }
          },
          "metadata": {},
          "execution_count": 14
        }
      ]
    },
    {
      "cell_type": "code",
      "source": [
        "class Dog:\n",
        "    voice = \"bow!\"\n",
        "\n",
        "    def __init__(self, name = \"Buddy\"):\n",
        "        # property\n",
        "        self.name = name\n",
        "\n",
        "    def __call__(self):\n",
        "        return self.bark()\n",
        "\n",
        "    def bark(self):\n",
        "        print(self.voice)\n",
        "\n",
        "buddy = Dog()\n",
        "buddy() # buddy.bark()と同じ"
      ],
      "metadata": {
        "colab": {
          "base_uri": "https://localhost:8080/"
        },
        "id": "krUvz9qwl1G0",
        "outputId": "26c9e578-ef3d-4454-d145-e7bdf67a8161"
      },
      "id": "krUvz9qwl1G0",
      "execution_count": null,
      "outputs": [
        {
          "output_type": "stream",
          "name": "stdout",
          "text": [
            "bow!\n"
          ]
        }
      ]
    },
    {
      "cell_type": "markdown",
      "id": "696f8af2",
      "metadata": {
        "id": "696f8af2"
      },
      "source": [
        "### クラスメソッド"
      ]
    },
    {
      "cell_type": "code",
      "execution_count": null,
      "id": "99ef6f02",
      "metadata": {
        "id": "99ef6f02"
      },
      "outputs": [],
      "source": [
        "class Dog:\n",
        "    # property\n",
        "    voice = \"bow!\"\n",
        "\n",
        "    # constructor\n",
        "    def __init__(self, name = \"Buddy\"):\n",
        "        self.name = name\n",
        "\n",
        "    # method\n",
        "    def bark(self):\n",
        "        print(self.voice)\n",
        "\n",
        "    # class method\n",
        "    @classmethod\n",
        "    def description(self):\n",
        "        print(f\"犬の鳴き声は{self.voice}\")"
      ]
    },
    {
      "cell_type": "code",
      "execution_count": null,
      "id": "056a6178",
      "metadata": {
        "id": "056a6178",
        "colab": {
          "base_uri": "https://localhost:8080/"
        },
        "outputId": "81905463-daf2-43e4-aafe-af89294dd231"
      },
      "outputs": [
        {
          "output_type": "stream",
          "name": "stdout",
          "text": [
            "犬の鳴き声はbow!\n",
            "Buddy\n",
            "bow!\n",
            "Jake\n",
            "bow!\n"
          ]
        }
      ],
      "source": [
        "Dog.description() # この行ではインスタンスを生成していない\n",
        "\n",
        "buddy = Dog()\n",
        "print(buddy.name)\n",
        "buddy.bark()\n",
        "\n",
        "jake = Dog(\"Jake\")\n",
        "print(jake.name)\n",
        "jake.bark()"
      ]
    },
    {
      "cell_type": "markdown",
      "id": "5149909a",
      "metadata": {
        "id": "5149909a"
      },
      "source": [
        "### もう1つクラスを作ってみる"
      ]
    },
    {
      "cell_type": "code",
      "execution_count": null,
      "id": "24805fd3",
      "metadata": {
        "id": "24805fd3"
      },
      "outputs": [],
      "source": [
        "class Dog:\n",
        "    # property\n",
        "    voice = \"bow!\"\n",
        "\n",
        "    # constructor\n",
        "    def __init__(self, name = \"Buddy\"):\n",
        "        self.name = name\n",
        "\n",
        "    # method\n",
        "    def bark(self):\n",
        "        print(self.voice)\n",
        "\n",
        "    # class method\n",
        "    @classmethod\n",
        "    def description(self):\n",
        "        print(f\"犬の鳴き声は{self.voice}\")\n",
        "\n",
        "class Japanese_Dog:\n",
        "    voice = \"ワン！\"\n",
        "\n",
        "    def __init__(self, name = \"ポチ\"):\n",
        "        self.name = name\n",
        "\n",
        "    def bark(self):\n",
        "        print(self.voice)\n",
        "\n",
        "    @classmethod\n",
        "    def description(self):\n",
        "        print(f\"日本の犬の鳴き声は{self.voice}\")"
      ]
    },
    {
      "cell_type": "code",
      "execution_count": null,
      "id": "a9d60469",
      "metadata": {
        "id": "a9d60469",
        "colab": {
          "base_uri": "https://localhost:8080/"
        },
        "outputId": "1f3583cd-bda6-43af-b41e-f6da1682423c"
      },
      "outputs": [
        {
          "output_type": "stream",
          "name": "stdout",
          "text": [
            "犬の鳴き声はbow!\n",
            "Buddy\n",
            "bow!\n",
            "Jake\n",
            "bow!\n",
            "日本の犬の鳴き声はワン！\n",
            "ポチ\n",
            "ワン！\n",
            "シロ\n",
            "ワン！\n"
          ]
        }
      ],
      "source": [
        "Dog.description() # この行ではインスタンスを生成していない\n",
        "\n",
        "buddy = Dog()\n",
        "print(buddy.name)\n",
        "buddy.bark()\n",
        "\n",
        "jake = Dog(\"Jake\")\n",
        "print(jake.name)\n",
        "jake.bark()\n",
        "\n",
        "Japanese_Dog.description() # この行ではインスタンスを生成していない\n",
        "\n",
        "pochi = Japanese_Dog()\n",
        "print(pochi.name)\n",
        "pochi.bark()\n",
        "\n",
        "shiro = Japanese_Dog(\"シロ\")\n",
        "print(shiro.name)\n",
        "shiro.bark()"
      ]
    },
    {
      "cell_type": "markdown",
      "source": [
        "## 継承"
      ],
      "metadata": {
        "id": "QUAvrCAE24UQ"
      },
      "id": "QUAvrCAE24UQ"
    },
    {
      "cell_type": "code",
      "execution_count": null,
      "id": "0acbd37f",
      "metadata": {
        "id": "0acbd37f"
      },
      "outputs": [],
      "source": [
        "class Dog:\n",
        "    def __init__(self, name):\n",
        "        self.name = name\n",
        "\n",
        "    def bark(self):\n",
        "        print(self.voice)\n",
        "\n",
        "class English_Dog(Dog):\n",
        "    voice = \"bow!\"\n",
        "\n",
        "    def __init__(self, name = \"Buddy\"):\n",
        "        super().__init__(name)\n",
        "\n",
        "    @classmethod\n",
        "    def description(self):\n",
        "        print(f\"英語圏の犬の鳴き声は{self.voice}\")\n",
        "\n",
        "class Japanese_Dog(Dog):\n",
        "    voice = \"ワン！\"\n",
        "\n",
        "    def __init__(self, name = \"ポチ\"):\n",
        "        super().__init__(name)\n",
        "\n",
        "    @classmethod\n",
        "    def description(self):\n",
        "        print(f\"日本の犬の鳴き声は{self.voice}\")"
      ]
    },
    {
      "cell_type": "code",
      "execution_count": null,
      "id": "46280b3c",
      "metadata": {
        "id": "46280b3c",
        "colab": {
          "base_uri": "https://localhost:8080/"
        },
        "outputId": "bb5fa536-dbd0-416c-9d1d-9999bf26bf3a"
      },
      "outputs": [
        {
          "output_type": "stream",
          "name": "stdout",
          "text": [
            "英語圏の犬の鳴き声はbow!\n",
            "Buddy\n",
            "bow!\n",
            "Jake\n",
            "bow!\n",
            "日本の犬の鳴き声はワン！\n",
            "ポチ\n",
            "ワン！\n",
            "シロ\n",
            "ワン！\n"
          ]
        }
      ],
      "source": [
        "English_Dog.description()\n",
        "\n",
        "buddy = English_Dog()\n",
        "print(buddy.name)\n",
        "buddy.bark()\n",
        "\n",
        "jake = English_Dog(\"Jake\")\n",
        "print(jake.name)\n",
        "jake.bark()\n",
        "\n",
        "Japanese_Dog.description()\n",
        "\n",
        "pochi = Japanese_Dog()\n",
        "print(pochi.name)\n",
        "pochi.bark()\n",
        "\n",
        "shiro = Japanese_Dog(\"シロ\")\n",
        "print(shiro.name)\n",
        "shiro.bark()"
      ]
    },
    {
      "cell_type": "markdown",
      "id": "dc05c529",
      "metadata": {
        "id": "dc05c529"
      },
      "source": [
        "## 多態性"
      ]
    },
    {
      "cell_type": "markdown",
      "source": [
        "### オーバーライド"
      ],
      "metadata": {
        "id": "b06BLPvX6P4M"
      },
      "id": "b06BLPvX6P4M"
    },
    {
      "cell_type": "code",
      "execution_count": null,
      "id": "599d6744",
      "metadata": {
        "id": "599d6744"
      },
      "outputs": [],
      "source": [
        "class Dog:\n",
        "    voice = \"国によって変わる\"\n",
        "\n",
        "    def __init__(self, name):\n",
        "        self.name = name\n",
        "\n",
        "    def bark(self):\n",
        "        print(self.voice)\n",
        "\n",
        "    @classmethod\n",
        "    def description(self):\n",
        "        print(f\"世界の犬の鳴き声は{self.voice}\")\n",
        "\n",
        "class English_Dog(Dog):\n",
        "    voice = \"bow!\"\n",
        "\n",
        "    def __init__(self, name = \"Buddy\"):\n",
        "        super().__init__(name)\n",
        "\n",
        "    @classmethod\n",
        "    def description(self):\n",
        "        print(f\"英語圏の犬の鳴き声は{self.voice}\")\n",
        "\n",
        "class Japanese_Dog(Dog):\n",
        "    voice = \"ワン！\"\n",
        "\n",
        "    def __init__(self, name = \"ポチ\"):\n",
        "        super().__init__(name)\n",
        "\n",
        "    @classmethod\n",
        "    def description(self):\n",
        "        print(f\"日本の犬の鳴き声は{self.voice}\")"
      ]
    },
    {
      "cell_type": "code",
      "execution_count": null,
      "id": "85951b32",
      "metadata": {
        "id": "85951b32",
        "colab": {
          "base_uri": "https://localhost:8080/"
        },
        "outputId": "c00cfcaf-dc89-479b-a386-358d72a6eb48"
      },
      "outputs": [
        {
          "output_type": "stream",
          "name": "stdout",
          "text": [
            "世界の犬の鳴き声は国によって変わる\n",
            "犬\n",
            "国によって変わる\n",
            "英語圏の犬の鳴き声はbow!\n",
            "Buddy\n",
            "bow!\n",
            "Jake\n",
            "bow!\n",
            "日本の犬の鳴き声はワン！\n",
            "ポチ\n",
            "ワン！\n",
            "シロ\n",
            "ワン！\n"
          ]
        }
      ],
      "source": [
        "Dog.description() # この行ではインスタンスを生成していない\n",
        "\n",
        "dog = Dog(\"犬\")\n",
        "print(dog.name)\n",
        "dog.bark()\n",
        "\n",
        "English_Dog.description() # この行ではインスタンスを生成していない\n",
        "\n",
        "buddy = English_Dog()\n",
        "print(buddy.name)\n",
        "buddy.bark()\n",
        "\n",
        "jake = English_Dog(\"Jake\")\n",
        "print(jake.name)\n",
        "jake.bark()\n",
        "\n",
        "Japanese_Dog.description() # この行ではインスタンスを生成していない\n",
        "\n",
        "pochi = Japanese_Dog()\n",
        "print(pochi.name)\n",
        "pochi.bark()\n",
        "\n",
        "shiro = Japanese_Dog(\"シロ\")\n",
        "print(shiro.name)\n",
        "shiro.bark()"
      ]
    },
    {
      "cell_type": "markdown",
      "id": "08331fbf",
      "metadata": {
        "id": "08331fbf"
      },
      "source": [
        "### （参考）オーバーロード"
      ]
    },
    {
      "cell_type": "code",
      "execution_count": null,
      "id": "7b69d8d8",
      "metadata": {
        "id": "7b69d8d8"
      },
      "outputs": [],
      "source": [
        "class Human:\n",
        "    def greet(self, name = None):\n",
        "        if name == None:\n",
        "            print(\"こんにちは！\")\n",
        "        else:\n",
        "            print(f\"わたしの名前は{name}です！\")"
      ]
    },
    {
      "cell_type": "code",
      "execution_count": null,
      "id": "c39cf4f4",
      "metadata": {
        "id": "c39cf4f4",
        "colab": {
          "base_uri": "https://localhost:8080/"
        },
        "outputId": "67d8f220-c40a-452f-a540-454a41f9282c"
      },
      "outputs": [
        {
          "output_type": "stream",
          "name": "stdout",
          "text": [
            "わたしの名前は田中です！\n",
            "こんにちは！\n"
          ]
        }
      ],
      "source": [
        "human = Human()\n",
        "human.greet(\"田中\")\n",
        "human.greet()"
      ]
    },
    {
      "cell_type": "markdown",
      "id": "68958ef2",
      "metadata": {
        "id": "68958ef2"
      },
      "source": [
        "## カプセル化"
      ]
    },
    {
      "cell_type": "code",
      "execution_count": null,
      "id": "d66966bf",
      "metadata": {
        "id": "d66966bf"
      },
      "outputs": [],
      "source": [
        "class Human2:\n",
        "    def __init__(self, name):\n",
        "        self.name = name"
      ]
    },
    {
      "cell_type": "code",
      "execution_count": null,
      "id": "13c6b652",
      "metadata": {
        "id": "13c6b652",
        "colab": {
          "base_uri": "https://localhost:8080/"
        },
        "outputId": "786acec7-c9fb-4c04-f0ed-fe0f582b5091"
      },
      "outputs": [
        {
          "output_type": "stream",
          "name": "stdout",
          "text": [
            "田中\n"
          ]
        }
      ],
      "source": [
        "tanaka = Human2(\"田中\")\n",
        "print(tanaka.name)"
      ]
    },
    {
      "cell_type": "code",
      "source": [
        "suzuki = Human2(\"鈴木\")\n",
        "print(suzuki.name)"
      ],
      "metadata": {
        "colab": {
          "base_uri": "https://localhost:8080/"
        },
        "id": "6qamCyhb7fpP",
        "outputId": "9561e415-227f-4cc0-e8ea-fc08f0446fc8"
      },
      "id": "6qamCyhb7fpP",
      "execution_count": null,
      "outputs": [
        {
          "output_type": "stream",
          "name": "stdout",
          "text": [
            "鈴木\n"
          ]
        }
      ]
    },
    {
      "cell_type": "code",
      "execution_count": null,
      "id": "c610777e",
      "metadata": {
        "id": "c610777e"
      },
      "outputs": [],
      "source": [
        "class Human2:\n",
        "    def __init__(self, name):\n",
        "        self.__name = name"
      ]
    },
    {
      "cell_type": "code",
      "execution_count": null,
      "id": "5dc62914",
      "metadata": {
        "id": "5dc62914",
        "colab": {
          "base_uri": "https://localhost:8080/",
          "height": 197
        },
        "outputId": "29f3186c-e5e9-477a-9856-5798134e9564"
      },
      "outputs": [
        {
          "output_type": "error",
          "ename": "AttributeError",
          "evalue": "ignored",
          "traceback": [
            "\u001b[0;31m---------------------------------------------------------------------------\u001b[0m",
            "\u001b[0;31mAttributeError\u001b[0m                            Traceback (most recent call last)",
            "\u001b[0;32m<ipython-input-37-5458956a858d>\u001b[0m in \u001b[0;36m<cell line: 2>\u001b[0;34m()\u001b[0m\n\u001b[1;32m      1\u001b[0m \u001b[0mtanaka\u001b[0m \u001b[0;34m=\u001b[0m \u001b[0mHuman2\u001b[0m\u001b[0;34m(\u001b[0m\u001b[0;34m\"田中\"\u001b[0m\u001b[0;34m)\u001b[0m\u001b[0;34m\u001b[0m\u001b[0;34m\u001b[0m\u001b[0m\n\u001b[0;32m----> 2\u001b[0;31m \u001b[0mprint\u001b[0m\u001b[0;34m(\u001b[0m\u001b[0mtanaka\u001b[0m\u001b[0;34m.\u001b[0m\u001b[0m__name\u001b[0m\u001b[0;34m)\u001b[0m\u001b[0;34m\u001b[0m\u001b[0;34m\u001b[0m\u001b[0m\n\u001b[0m",
            "\u001b[0;31mAttributeError\u001b[0m: 'Human2' object has no attribute '__name'"
          ]
        }
      ],
      "source": [
        "tanaka = Human2(\"田中\")\n",
        "print(tanaka.__name)"
      ]
    },
    {
      "cell_type": "code",
      "source": [
        "suzuki = Human2(\"鈴木\")\n",
        "print(suzuki.__name)"
      ],
      "metadata": {
        "colab": {
          "base_uri": "https://localhost:8080/",
          "height": 197
        },
        "id": "Ff3pLau37bIg",
        "outputId": "f2a1fce3-67a0-4809-ef13-39322a65ee2e"
      },
      "id": "Ff3pLau37bIg",
      "execution_count": null,
      "outputs": [
        {
          "output_type": "error",
          "ename": "AttributeError",
          "evalue": "ignored",
          "traceback": [
            "\u001b[0;31m---------------------------------------------------------------------------\u001b[0m",
            "\u001b[0;31mAttributeError\u001b[0m                            Traceback (most recent call last)",
            "\u001b[0;32m<ipython-input-39-33c30ed24056>\u001b[0m in \u001b[0;36m<cell line: 2>\u001b[0;34m()\u001b[0m\n\u001b[1;32m      1\u001b[0m \u001b[0msuzuki\u001b[0m \u001b[0;34m=\u001b[0m \u001b[0mHuman2\u001b[0m\u001b[0;34m(\u001b[0m\u001b[0;34m\"鈴木\"\u001b[0m\u001b[0;34m)\u001b[0m\u001b[0;34m\u001b[0m\u001b[0;34m\u001b[0m\u001b[0m\n\u001b[0;32m----> 2\u001b[0;31m \u001b[0mprint\u001b[0m\u001b[0;34m(\u001b[0m\u001b[0msuzuki\u001b[0m\u001b[0;34m.\u001b[0m\u001b[0m__name\u001b[0m\u001b[0;34m)\u001b[0m\u001b[0;34m\u001b[0m\u001b[0;34m\u001b[0m\u001b[0m\n\u001b[0m",
            "\u001b[0;31mAttributeError\u001b[0m: 'Human2' object has no attribute '__name'"
          ]
        }
      ]
    },
    {
      "cell_type": "code",
      "execution_count": null,
      "id": "fd2ae664",
      "metadata": {
        "id": "fd2ae664",
        "colab": {
          "base_uri": "https://localhost:8080/"
        },
        "outputId": "69391fae-302e-4c8a-ae0e-f1c2422e8775"
      },
      "outputs": [
        {
          "output_type": "stream",
          "name": "stdout",
          "text": [
            "田中\n"
          ]
        }
      ],
      "source": [
        "tanaka = Human2(\"田中\")\n",
        "print(tanaka._Human2__name)"
      ]
    },
    {
      "cell_type": "code",
      "source": [
        "suzuki = Human2(\"鈴木\")\n",
        "print(suzuki._Human2__name)"
      ],
      "metadata": {
        "colab": {
          "base_uri": "https://localhost:8080/"
        },
        "id": "mflrbl8C8sia",
        "outputId": "b715a14f-b7ff-44d7-d457-175a3af6caf7"
      },
      "id": "mflrbl8C8sia",
      "execution_count": null,
      "outputs": [
        {
          "output_type": "stream",
          "name": "stdout",
          "text": [
            "鈴木\n"
          ]
        }
      ]
    },
    {
      "cell_type": "code",
      "execution_count": null,
      "id": "54ced826",
      "metadata": {
        "id": "54ced826"
      },
      "outputs": [],
      "source": [
        "class Human2:\n",
        "    def __init__(self, name):\n",
        "        self.set_name(name)\n",
        "\n",
        "    # ゲッター\n",
        "    def get_name(self):\n",
        "        return self.__name\n",
        "\n",
        "    # セッター\n",
        "    def set_name(self, name):\n",
        "        self.__name = name"
      ]
    },
    {
      "cell_type": "code",
      "execution_count": null,
      "id": "cbd3725b",
      "metadata": {
        "id": "cbd3725b",
        "colab": {
          "base_uri": "https://localhost:8080/"
        },
        "outputId": "20750e78-d3b9-49f8-d5de-7d4e01f6e358"
      },
      "outputs": [
        {
          "output_type": "stream",
          "name": "stdout",
          "text": [
            "田中\n"
          ]
        }
      ],
      "source": [
        "tanaka = Human2(\"田中\")\n",
        "\n",
        "# ゲッターを使用して値を取得\n",
        "print(tanaka.get_name())"
      ]
    },
    {
      "cell_type": "code",
      "source": [
        "suzuki = Human2(\"鈴木\")\n",
        "\n",
        "# ゲッターを使用して値を取得\n",
        "print(suzuki.get_name())"
      ],
      "metadata": {
        "colab": {
          "base_uri": "https://localhost:8080/"
        },
        "id": "MS4yRpuh9v4H",
        "outputId": "d71a06ef-798f-44ce-9320-96863face1db"
      },
      "id": "MS4yRpuh9v4H",
      "execution_count": null,
      "outputs": [
        {
          "output_type": "stream",
          "name": "stdout",
          "text": [
            "鈴木\n"
          ]
        }
      ]
    },
    {
      "cell_type": "markdown",
      "source": [
        "## 補足"
      ],
      "metadata": {
        "id": "1ZZtelHeh7CE"
      },
      "id": "1ZZtelHeh7CE"
    },
    {
      "cell_type": "markdown",
      "source": [
        "### 定義したクラスをインポートして使う"
      ],
      "metadata": {
        "id": "vWfCUtjveKZf"
      },
      "id": "vWfCUtjveKZf"
    },
    {
      "cell_type": "code",
      "source": [
        "%%writefile dogs.py\n",
        "class Dog2:\n",
        "    country = \"世界\"\n",
        "    voice = \"国によって変わる\"\n",
        "\n",
        "    def __init__(self, name):\n",
        "        self.name = name\n",
        "\n",
        "    def bark(self):\n",
        "        print(self.voice)\n",
        "\n",
        "    @classmethod\n",
        "    def description(self):\n",
        "        print(f\"{self.country}の犬の鳴き声は{self.voice}\")\n",
        "\n",
        "class English_Dog2(Dog2):\n",
        "    country = \"英語圏\"\n",
        "    voice = \"bow!\"\n",
        "\n",
        "    def __init__(self, name = \"Buddy\"):\n",
        "        super().__init__(name)\n",
        "\n",
        "class Japanese_Dog2(Dog2):\n",
        "    country = \"日本\"\n",
        "    voice = \"ワン！\"\n",
        "\n",
        "    def __init__(self, name = \"ポチ\"):\n",
        "        super().__init__(name)"
      ],
      "metadata": {
        "id": "4c4a8706",
        "outputId": "192dee3c-608a-4e1a-cbd8-4834b8f15bc8",
        "colab": {
          "base_uri": "https://localhost:8080/"
        }
      },
      "id": "4c4a8706",
      "execution_count": null,
      "outputs": [
        {
          "output_type": "stream",
          "name": "stdout",
          "text": [
            "Writing dogs.py\n"
          ]
        }
      ]
    },
    {
      "cell_type": "code",
      "source": [
        "from dogs import Dog2, English_Dog2, Japanese_Dog2"
      ],
      "metadata": {
        "id": "GKoqCCtei0cU"
      },
      "id": "GKoqCCtei0cU",
      "execution_count": null,
      "outputs": []
    },
    {
      "cell_type": "code",
      "execution_count": null,
      "id": "8ef021eb",
      "metadata": {
        "id": "8ef021eb",
        "colab": {
          "base_uri": "https://localhost:8080/"
        },
        "outputId": "3862f401-3442-43fa-89e9-a78d45d0a311"
      },
      "outputs": [
        {
          "output_type": "stream",
          "name": "stdout",
          "text": [
            "世界の犬の鳴き声は国によって変わる\n",
            "犬\n",
            "国によって変わる\n",
            "英語圏の犬の鳴き声はbow!\n",
            "Buddy\n",
            "bow!\n",
            "Jake\n",
            "bow!\n",
            "日本の犬の鳴き声はワン！\n",
            "ポチ\n",
            "ワン！\n",
            "シロ\n",
            "ワン！\n"
          ]
        }
      ],
      "source": [
        "Dog2.description()\n",
        "\n",
        "dog = Dog2(\"犬\")\n",
        "print(dog.name)\n",
        "dog.bark()\n",
        "\n",
        "English_Dog2.description()\n",
        "\n",
        "buddy = English_Dog2()\n",
        "print(buddy.name)\n",
        "buddy.bark()\n",
        "\n",
        "jake = English_Dog2(\"Jake\")\n",
        "print(jake.name)\n",
        "jake.bark()\n",
        "\n",
        "Japanese_Dog2.description()\n",
        "\n",
        "pochi = Japanese_Dog2()\n",
        "print(pochi.name)\n",
        "pochi.bark()\n",
        "\n",
        "shiro = Japanese_Dog2(\"シロ\")\n",
        "print(shiro.name)\n",
        "shiro.bark()"
      ]
    }
  ],
  "metadata": {
    "colab": {
      "provenance": []
    },
    "language_info": {
      "name": "python"
    },
    "kernelspec": {
      "name": "python3",
      "display_name": "Python 3"
    }
  },
  "nbformat": 4,
  "nbformat_minor": 5
}