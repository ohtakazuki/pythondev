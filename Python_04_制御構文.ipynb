{
  "cells": [
    {
      "cell_type": "markdown",
      "source": [
        "## 条件分岐\n",
        "\n"
      ],
      "metadata": {
        "id": "PWMpdUbMMv5R"
      },
      "id": "PWMpdUbMMv5R"
    },
    {
      "cell_type": "markdown",
      "id": "565a666d",
      "metadata": {
        "id": "565a666d"
      },
      "source": [
        "### if文"
      ]
    },
    {
      "cell_type": "code",
      "execution_count": null,
      "id": "037ecde4",
      "metadata": {
        "colab": {
          "base_uri": "https://localhost:8080/"
        },
        "id": "037ecde4",
        "outputId": "ba61f6be-e3b3-4a00-81c8-9962af6d09ee"
      },
      "outputs": [
        {
          "output_type": "stream",
          "name": "stdout",
          "text": [
            "点数を入力してください: 60\n",
            "合格です\n",
            "処理を終了します\n"
          ]
        }
      ],
      "source": [
        "score = int(input(\"点数を入力してください: \"))\n",
        "\n",
        "if score >= 60:\n",
        "    print(\"合格です\")\n",
        "\n",
        "print(\"処理を終了します\")"
      ]
    },
    {
      "cell_type": "code",
      "execution_count": null,
      "id": "412c7626",
      "metadata": {
        "id": "412c7626"
      },
      "outputs": [],
      "source": [
        "def exam(score):\n",
        "    if score >= 60:\n",
        "        print(\"合格です\")\n",
        "        print(\"おめでとうございます！\")\n",
        "    print(\"処理を終了します\")"
      ]
    },
    {
      "cell_type": "code",
      "execution_count": null,
      "id": "7985813c",
      "metadata": {
        "attributes": {
          "classes": [
            "txt"
          ],
          "id": ""
        },
        "colab": {
          "base_uri": "https://localhost:8080/"
        },
        "id": "7985813c",
        "outputId": "988b2b5f-5eee-444b-aa9f-330d072fe5fa"
      },
      "outputs": [
        {
          "output_type": "stream",
          "name": "stdout",
          "text": [
            "合格です\n",
            "おめでとうございます！\n",
            "処理を終了します\n"
          ]
        }
      ],
      "source": [
        "exam(80)"
      ]
    },
    {
      "cell_type": "code",
      "source": [
        "exam(40)"
      ],
      "metadata": {
        "colab": {
          "base_uri": "https://localhost:8080/"
        },
        "id": "FE7uU7lqjSOZ",
        "outputId": "6b879e5a-301c-41c0-bb4a-3af2c1a8db7e"
      },
      "id": "FE7uU7lqjSOZ",
      "execution_count": null,
      "outputs": [
        {
          "output_type": "stream",
          "name": "stdout",
          "text": [
            "処理を終了します\n"
          ]
        }
      ]
    },
    {
      "cell_type": "markdown",
      "source": [
        "### 複数の条件式を指定する"
      ],
      "metadata": {
        "id": "JKB1osw5jeuF"
      },
      "id": "JKB1osw5jeuF"
    },
    {
      "cell_type": "code",
      "execution_count": null,
      "id": "2af1cd5d",
      "metadata": {
        "colab": {
          "base_uri": "https://localhost:8080/"
        },
        "id": "2af1cd5d",
        "outputId": "1c5b3e26-1df3-47bf-d3b6-4a8b8e89a660"
      },
      "outputs": [
        {
          "output_type": "stream",
          "name": "stdout",
          "text": [
            "年齢を入力してください: 25\n",
            "どうぞお乗りください\n",
            "処理を終了します\n"
          ]
        }
      ],
      "source": [
        "age = int(input(\"年齢を入力してください: \"))\n",
        "\n",
        "if (age >= 18) and (age <= 65):\n",
        "    print(\"どうぞお乗りください\")\n",
        "\n",
        "print(\"処理を終了します\")"
      ]
    },
    {
      "cell_type": "markdown",
      "id": "6ecc449a",
      "metadata": {
        "id": "6ecc449a"
      },
      "source": [
        "### if文の中にif文を記述する（ネスト）"
      ]
    },
    {
      "cell_type": "code",
      "execution_count": null,
      "id": "5e4b084a",
      "metadata": {
        "colab": {
          "base_uri": "https://localhost:8080/"
        },
        "id": "5e4b084a",
        "outputId": "28f974f8-7193-4116-8134-b294d57e7bb0"
      },
      "outputs": [
        {
          "output_type": "stream",
          "name": "stdout",
          "text": [
            "年齢を入力してください: 25\n",
            "どうぞお乗りください\n",
            "処理を終了します\n"
          ]
        }
      ],
      "source": [
        "age = int(input(\"年齢を入力してください: \"))\n",
        "\n",
        "if age >= 18:\n",
        "    if age <= 65:\n",
        "        print(\"どうぞお乗りください\")\n",
        "\n",
        "print(\"処理を終了します\")"
      ]
    },
    {
      "cell_type": "markdown",
      "id": "9737d579",
      "metadata": {
        "id": "9737d579"
      },
      "source": [
        "### if-else文"
      ]
    },
    {
      "cell_type": "code",
      "execution_count": null,
      "id": "adf6329e",
      "metadata": {
        "colab": {
          "base_uri": "https://localhost:8080/"
        },
        "id": "adf6329e",
        "outputId": "443a64db-ca62-4e1d-bbc8-87e3890f1dfc"
      },
      "outputs": [
        {
          "output_type": "stream",
          "name": "stdout",
          "text": [
            "点数を入力してください: 40\n",
            "不合格です\n",
            "もっとがんばりましょう\n",
            "処理を終了します\n"
          ]
        }
      ],
      "source": [
        "score = int(input(\"点数を入力してください: \"))\n",
        "\n",
        "if score >= 60:\n",
        "    print(\"合格です\")\n",
        "    print(\"おめでとうございます！\")\n",
        "else:\n",
        "    print(\"不合格です\")\n",
        "    print(\"もっとがんばりましょう\")\n",
        "\n",
        "print(\"処理を終了します\")"
      ]
    },
    {
      "cell_type": "markdown",
      "source": [
        "### if-elif-else文"
      ],
      "metadata": {
        "id": "veD0PhzGkZnj"
      },
      "id": "veD0PhzGkZnj"
    },
    {
      "cell_type": "code",
      "execution_count": null,
      "id": "7d406251",
      "metadata": {
        "colab": {
          "base_uri": "https://localhost:8080/"
        },
        "id": "7d406251",
        "outputId": "f489c7cf-5fca-40d8-8943-2c1e82302ec6"
      },
      "outputs": [
        {
          "output_type": "stream",
          "name": "stdout",
          "text": [
            "点数を入力してください: 75\n",
            "合格です\n",
            "おめでとうございます！\n",
            "処理を終了します\n"
          ]
        }
      ],
      "source": [
        "score = int(input(\"点数を入力してください: \"))\n",
        "\n",
        "if score >= 90:\n",
        "    print(\"優秀です\")\n",
        "    print(\"大変よくできました！！\")\n",
        "else:\n",
        "    if score >= 60:\n",
        "        print(\"合格です\")\n",
        "        print(\"おめでとうございます！\")\n",
        "    else:\n",
        "        print(\"不合格です\")\n",
        "        print(\"もっとがんばりましょう\")\n",
        "\n",
        "print(\"処理を終了します\")"
      ]
    },
    {
      "cell_type": "markdown",
      "id": "dfc7ec49",
      "metadata": {
        "id": "dfc7ec49"
      },
      "source": [
        "#### 補足1：別の多分岐の方法"
      ]
    },
    {
      "cell_type": "code",
      "execution_count": null,
      "id": "220e1132",
      "metadata": {
        "colab": {
          "base_uri": "https://localhost:8080/"
        },
        "id": "220e1132",
        "outputId": "73721a6c-4111-466d-efb1-23e358e45d0a"
      },
      "outputs": [
        {
          "output_type": "stream",
          "name": "stdout",
          "text": [
            "点数を入力してください: 95\n",
            "優秀です\n",
            "大変よくできました！！\n",
            "処理を終了します\n"
          ]
        }
      ],
      "source": [
        "score = int(input(\"点数を入力してください: \"))\n",
        "\n",
        "if score >= 90:\n",
        "    print(\"優秀です\")\n",
        "    print(\"大変よくできました！！\")\n",
        "\n",
        "elif score >= 60:\n",
        "    print(\"合格です\")\n",
        "    print(\"おめでとうございます！\")\n",
        "\n",
        "else:\n",
        "    print(\"不合格です\")\n",
        "    print(\"もっとがんばりましょう\")\n",
        "\n",
        "print(\"処理を終了します\")"
      ]
    },
    {
      "cell_type": "markdown",
      "source": [
        "#### 補足2：4つ以上の分岐では `elif` を複数記述する"
      ],
      "metadata": {
        "id": "z-KGfi5h7pwV"
      },
      "id": "z-KGfi5h7pwV"
    },
    {
      "cell_type": "code",
      "execution_count": null,
      "id": "ca02436a",
      "metadata": {
        "colab": {
          "base_uri": "https://localhost:8080/"
        },
        "id": "ca02436a",
        "outputId": "4c445837-27b4-48a9-aa9d-25826a76666c"
      },
      "outputs": [
        {
          "output_type": "stream",
          "name": "stdout",
          "text": [
            "季節を入力してください: 春\n",
            "春はあけぼの\n",
            "処理を終了します\n"
          ]
        }
      ],
      "source": [
        "season = input(\"季節を入力してください: \")\n",
        "\n",
        "if season == \"春\":\n",
        "    print(\"春はあけぼの\")\n",
        "elif season == \"夏\":\n",
        "    print(\"夏は夜\")\n",
        "elif season == \"秋\":\n",
        "    print(\"秋は夕暮れ\")\n",
        "elif season == \"冬\":\n",
        "    print(\"冬はつとめて\")\n",
        "else:\n",
        "    print(\"エラー\")\n",
        "\n",
        "print(\"処理を終了します\")"
      ]
    },
    {
      "cell_type": "markdown",
      "source": [
        "### match文"
      ],
      "metadata": {
        "id": "PMzBLk3ge_XD"
      },
      "id": "PMzBLk3ge_XD"
    },
    {
      "cell_type": "code",
      "source": [
        "season = input(\"季節を入力してください: \")\n",
        "\n",
        "match season:\n",
        "    case \"春\":\n",
        "        print(\"春はあけぼの\")\n",
        "    case \"夏\":\n",
        "        print(\"夏は夜\")\n",
        "    case \"秋\":\n",
        "        print(\"秋は夕暮れ\")\n",
        "    case \"冬\":\n",
        "        print(\"冬はつとめて\")\n",
        "    case _:\n",
        "        print(\"エラー\")\n",
        "\n",
        "print(\"処理を終了します\")"
      ],
      "metadata": {
        "colab": {
          "base_uri": "https://localhost:8080/"
        },
        "id": "G4x250Kwe-U2",
        "outputId": "bdb60778-0dfc-47d7-9c88-ed9a322bfc8b"
      },
      "id": "G4x250Kwe-U2",
      "execution_count": null,
      "outputs": [
        {
          "output_type": "stream",
          "name": "stdout",
          "text": [
            "季節を入力してください: 夏\n",
            "夏は夜\n",
            "処理を終了します\n"
          ]
        }
      ]
    },
    {
      "cell_type": "markdown",
      "id": "7f898910",
      "metadata": {
        "id": "7f898910"
      },
      "source": [
        "## 繰り返し"
      ]
    },
    {
      "cell_type": "code",
      "execution_count": null,
      "id": "518ed78a",
      "metadata": {
        "colab": {
          "base_uri": "https://localhost:8080/"
        },
        "id": "518ed78a",
        "outputId": "f9062264-09c8-485e-ef14-191592cab85b"
      },
      "outputs": [
        {
          "output_type": "stream",
          "name": "stdout",
          "text": [
            "1\n",
            "2\n",
            "3\n",
            "4\n",
            "5\n",
            "6\n",
            "7\n",
            "8\n",
            "9\n",
            "10\n"
          ]
        }
      ],
      "source": [
        "i = 0\n",
        "\n",
        "i += 1\n",
        "print(i)\n",
        "\n",
        "i += 1\n",
        "print(i)\n",
        "\n",
        "i += 1\n",
        "print(i)\n",
        "\n",
        "i += 1\n",
        "print(i)\n",
        "\n",
        "i += 1\n",
        "print(i)\n",
        "\n",
        "i += 1\n",
        "print(i)\n",
        "\n",
        "i += 1\n",
        "print(i)\n",
        "\n",
        "i += 1\n",
        "print(i)\n",
        "\n",
        "i += 1\n",
        "print(i)\n",
        "\n",
        "i += 1\n",
        "print(i)"
      ]
    },
    {
      "cell_type": "markdown",
      "source": [
        "### while文"
      ],
      "metadata": {
        "id": "1WPJh17bldWx"
      },
      "id": "1WPJh17bldWx"
    },
    {
      "cell_type": "code",
      "execution_count": null,
      "id": "23e6c00b",
      "metadata": {
        "colab": {
          "base_uri": "https://localhost:8080/"
        },
        "id": "23e6c00b",
        "outputId": "62203868-cfad-4b11-8a17-476e7eacae97"
      },
      "outputs": [
        {
          "output_type": "stream",
          "name": "stdout",
          "text": [
            "1\n",
            "2\n",
            "3\n",
            "4\n",
            "5\n",
            "6\n",
            "7\n",
            "8\n",
            "9\n",
            "10\n",
            "処理を終了します\n"
          ]
        }
      ],
      "source": [
        "i = 0\n",
        "\n",
        "while i < 10:\n",
        "    i += 1\n",
        "    print(i)\n",
        "\n",
        "print(\"処理を終了します\")"
      ]
    },
    {
      "cell_type": "markdown",
      "source": [
        "### break"
      ],
      "metadata": {
        "id": "rVLH81axl5g7"
      },
      "id": "rVLH81axl5g7"
    },
    {
      "cell_type": "code",
      "execution_count": null,
      "id": "65efc227",
      "metadata": {
        "colab": {
          "base_uri": "https://localhost:8080/"
        },
        "id": "65efc227",
        "outputId": "f668933d-5a68-467f-b111-c3409959b396"
      },
      "outputs": [
        {
          "output_type": "stream",
          "name": "stdout",
          "text": [
            "1\n",
            "2\n",
            "3\n",
            "4\n",
            "5\n",
            "6\n",
            "7\n",
            "8\n",
            "9\n",
            "10\n",
            "処理を終了します\n"
          ]
        }
      ],
      "source": [
        "i = 0\n",
        "\n",
        "while True:\n",
        "    i += 1\n",
        "\n",
        "    if i > 10:\n",
        "        break\n",
        "\n",
        "    print(i)\n",
        "\n",
        "print(\"処理を終了します\")"
      ]
    },
    {
      "cell_type": "markdown",
      "source": [
        "### continue"
      ],
      "metadata": {
        "id": "5RxDuYC-l_fA"
      },
      "id": "5RxDuYC-l_fA"
    },
    {
      "cell_type": "code",
      "execution_count": null,
      "id": "c939ffe9",
      "metadata": {
        "colab": {
          "base_uri": "https://localhost:8080/"
        },
        "id": "c939ffe9",
        "outputId": "e11f4f04-72b0-4880-f7d7-476ce92c26e8"
      },
      "outputs": [
        {
          "output_type": "stream",
          "name": "stdout",
          "text": [
            "2\n",
            "4\n",
            "6\n",
            "8\n",
            "10\n",
            "処理を終了します\n"
          ]
        }
      ],
      "source": [
        "i = 0\n",
        "\n",
        "while True:\n",
        "    i += 1\n",
        "\n",
        "    if i > 10:\n",
        "        break\n",
        "\n",
        "    if i % 2 == 1:\n",
        "        continue\n",
        "\n",
        "    print(i)\n",
        "\n",
        "print(\"処理を終了します\")"
      ]
    },
    {
      "cell_type": "markdown",
      "source": [
        "### for文"
      ],
      "metadata": {
        "id": "fcMmCEu4mC1A"
      },
      "id": "fcMmCEu4mC1A"
    },
    {
      "cell_type": "code",
      "execution_count": null,
      "id": "8e4f2f38",
      "metadata": {
        "colab": {
          "base_uri": "https://localhost:8080/"
        },
        "id": "8e4f2f38",
        "outputId": "8dffec82-51e4-4da7-fe7a-b6fe78a1a65f"
      },
      "outputs": [
        {
          "output_type": "stream",
          "name": "stdout",
          "text": [
            "0\n",
            "1\n",
            "2\n",
            "3\n",
            "4\n",
            "5\n",
            "6\n",
            "7\n",
            "8\n",
            "9\n",
            "10\n"
          ]
        }
      ],
      "source": [
        "for i in range(11):\n",
        "    print(i)"
      ]
    },
    {
      "cell_type": "markdown",
      "source": [
        "### 補足：range()関数の詳細と応用的な使い方"
      ],
      "metadata": {
        "id": "DGzdflzcmF97"
      },
      "id": "DGzdflzcmF97"
    },
    {
      "cell_type": "code",
      "source": [
        "type(range(11))"
      ],
      "metadata": {
        "colab": {
          "base_uri": "https://localhost:8080/"
        },
        "id": "LqLASyYKVGGe",
        "outputId": "f554223e-9bdc-488d-cf6f-eb74fe165d57"
      },
      "id": "LqLASyYKVGGe",
      "execution_count": null,
      "outputs": [
        {
          "output_type": "execute_result",
          "data": {
            "text/plain": [
              "range"
            ]
          },
          "metadata": {},
          "execution_count": 1
        }
      ]
    },
    {
      "cell_type": "code",
      "execution_count": null,
      "id": "3489bf67",
      "metadata": {
        "colab": {
          "base_uri": "https://localhost:8080/"
        },
        "id": "3489bf67",
        "outputId": "8d651a9d-59d1-437b-f61d-21e82b8b4121"
      },
      "outputs": [
        {
          "output_type": "stream",
          "name": "stdout",
          "text": [
            "1\n",
            "2\n",
            "3\n",
            "4\n",
            "5\n",
            "6\n",
            "7\n",
            "8\n",
            "9\n",
            "10\n"
          ]
        }
      ],
      "source": [
        "for i in range(1, 11):\n",
        "    print(i)"
      ]
    },
    {
      "cell_type": "code",
      "execution_count": null,
      "id": "996cb8ee",
      "metadata": {
        "colab": {
          "base_uri": "https://localhost:8080/"
        },
        "id": "996cb8ee",
        "outputId": "862032c0-d1af-49d3-f304-7942b8f64810"
      },
      "outputs": [
        {
          "output_type": "stream",
          "name": "stdout",
          "text": [
            "2\n",
            "4\n",
            "6\n",
            "8\n",
            "10\n"
          ]
        }
      ],
      "source": [
        "for i in range(2, 11, 2):\n",
        "    print(i)"
      ]
    },
    {
      "cell_type": "code",
      "execution_count": null,
      "id": "fb9e58b1",
      "metadata": {
        "colab": {
          "base_uri": "https://localhost:8080/"
        },
        "id": "fb9e58b1",
        "outputId": "1e892d54-0210-4dd2-e00a-ae1519a59eac"
      },
      "outputs": [
        {
          "output_type": "stream",
          "name": "stdout",
          "text": [
            "10\n",
            "8\n",
            "6\n",
            "4\n",
            "2\n"
          ]
        }
      ],
      "source": [
        "for i in range(10, 0, -2):\n",
        "    print(i)"
      ]
    },
    {
      "cell_type": "code",
      "execution_count": null,
      "id": "f605deac",
      "metadata": {
        "colab": {
          "base_uri": "https://localhost:8080/"
        },
        "id": "f605deac",
        "outputId": "a5b98d7a-f1ad-4516-ef01-dcda0490bc65"
      },
      "outputs": [
        {
          "output_type": "stream",
          "name": "stdout",
          "text": [
            "0 + 0 = 0\n",
            "0 + 1 = 1\n",
            "0 + 2 = 2\n",
            "0 + 3 = 3\n",
            "0 + 4 = 4\n",
            "0 + 5 = 5\n",
            "0 + 6 = 6\n",
            "0 + 7 = 7\n",
            "0 + 8 = 8\n",
            "0 + 9 = 9\n",
            "0 + 10 = 10\n",
            "1 + 0 = 1\n",
            "1 + 1 = 2\n",
            "1 + 2 = 3\n",
            "1 + 3 = 4\n",
            "1 + 4 = 5\n",
            "1 + 5 = 6\n",
            "1 + 6 = 7\n",
            "1 + 7 = 8\n",
            "1 + 8 = 9\n",
            "1 + 9 = 10\n",
            "1 + 10 = 11\n",
            "2 + 0 = 2\n",
            "2 + 1 = 3\n",
            "2 + 2 = 4\n",
            "2 + 3 = 5\n",
            "2 + 4 = 6\n",
            "2 + 5 = 7\n",
            "2 + 6 = 8\n",
            "2 + 7 = 9\n",
            "2 + 8 = 10\n",
            "2 + 9 = 11\n",
            "2 + 10 = 12\n",
            "3 + 0 = 3\n",
            "3 + 1 = 4\n",
            "3 + 2 = 5\n",
            "3 + 3 = 6\n",
            "3 + 4 = 7\n",
            "3 + 5 = 8\n",
            "3 + 6 = 9\n",
            "3 + 7 = 10\n",
            "3 + 8 = 11\n",
            "3 + 9 = 12\n",
            "3 + 10 = 13\n",
            "4 + 0 = 4\n",
            "4 + 1 = 5\n",
            "4 + 2 = 6\n",
            "4 + 3 = 7\n",
            "4 + 4 = 8\n",
            "4 + 5 = 9\n",
            "4 + 6 = 10\n",
            "4 + 7 = 11\n",
            "4 + 8 = 12\n",
            "4 + 9 = 13\n",
            "4 + 10 = 14\n",
            "5 + 0 = 5\n",
            "5 + 1 = 6\n",
            "5 + 2 = 7\n",
            "5 + 3 = 8\n",
            "5 + 4 = 9\n",
            "5 + 5 = 10\n",
            "5 + 6 = 11\n",
            "5 + 7 = 12\n",
            "5 + 8 = 13\n",
            "5 + 9 = 14\n",
            "5 + 10 = 15\n",
            "6 + 0 = 6\n",
            "6 + 1 = 7\n",
            "6 + 2 = 8\n",
            "6 + 3 = 9\n",
            "6 + 4 = 10\n",
            "6 + 5 = 11\n",
            "6 + 6 = 12\n",
            "6 + 7 = 13\n",
            "6 + 8 = 14\n",
            "6 + 9 = 15\n",
            "6 + 10 = 16\n",
            "7 + 0 = 7\n",
            "7 + 1 = 8\n",
            "7 + 2 = 9\n",
            "7 + 3 = 10\n",
            "7 + 4 = 11\n",
            "7 + 5 = 12\n",
            "7 + 6 = 13\n",
            "7 + 7 = 14\n",
            "7 + 8 = 15\n",
            "7 + 9 = 16\n",
            "7 + 10 = 17\n",
            "8 + 0 = 8\n",
            "8 + 1 = 9\n",
            "8 + 2 = 10\n",
            "8 + 3 = 11\n",
            "8 + 4 = 12\n",
            "8 + 5 = 13\n",
            "8 + 6 = 14\n",
            "8 + 7 = 15\n",
            "8 + 8 = 16\n",
            "8 + 9 = 17\n",
            "8 + 10 = 18\n",
            "9 + 0 = 9\n",
            "9 + 1 = 10\n",
            "9 + 2 = 11\n",
            "9 + 3 = 12\n",
            "9 + 4 = 13\n",
            "9 + 5 = 14\n",
            "9 + 6 = 15\n",
            "9 + 7 = 16\n",
            "9 + 8 = 17\n",
            "9 + 9 = 18\n",
            "9 + 10 = 19\n",
            "10 + 0 = 10\n",
            "10 + 1 = 11\n",
            "10 + 2 = 12\n",
            "10 + 3 = 13\n",
            "10 + 4 = 14\n",
            "10 + 5 = 15\n",
            "10 + 6 = 16\n",
            "10 + 7 = 17\n",
            "10 + 8 = 18\n",
            "10 + 9 = 19\n",
            "10 + 10 = 20\n"
          ]
        }
      ],
      "source": [
        "for i in range(11):\n",
        "    for j in range(11):\n",
        "        print(f\"{i} + {j} = {i + j}\")"
      ]
    },
    {
      "cell_type": "markdown",
      "id": "40458b66",
      "metadata": {
        "id": "40458b66"
      },
      "source": [
        "### カウンタ変数の使い方に注意\n"
      ]
    },
    {
      "cell_type": "code",
      "source": [
        "for i in range(3):\n",
        "    for j in range(3):\n",
        "        print(f\"{i} + {j} = {i + j}\")\n",
        "\n",
        "print(i)\n",
        "print(j)"
      ],
      "metadata": {
        "colab": {
          "base_uri": "https://localhost:8080/"
        },
        "id": "PTYHAHqTQj8m",
        "outputId": "bd231f13-7554-4c07-a6f9-9beef334a073"
      },
      "id": "PTYHAHqTQj8m",
      "execution_count": null,
      "outputs": [
        {
          "output_type": "stream",
          "name": "stdout",
          "text": [
            "0 + 0 = 0\n",
            "0 + 1 = 1\n",
            "0 + 2 = 2\n",
            "1 + 0 = 1\n",
            "1 + 1 = 2\n",
            "1 + 2 = 3\n",
            "2 + 0 = 2\n",
            "2 + 1 = 3\n",
            "2 + 2 = 4\n",
            "2\n",
            "2\n"
          ]
        }
      ]
    },
    {
      "cell_type": "markdown",
      "source": [
        "### pass"
      ],
      "metadata": {
        "id": "1Mo4vEQWmYxU"
      },
      "id": "1Mo4vEQWmYxU"
    },
    {
      "cell_type": "code",
      "source": [
        "i = 0\n",
        "\n",
        "while True:\n",
        "    i += 1\n",
        "\n",
        "    if i > 10:\n",
        "        break\n",
        "\n",
        "    if i % 2 == 1:\n",
        "        pass\n",
        "\n",
        "    print(i)\n",
        "\n",
        "print(\"処理を終了します\")"
      ],
      "metadata": {
        "colab": {
          "base_uri": "https://localhost:8080/"
        },
        "id": "yqU-ZHWSVqN4",
        "outputId": "4dd2dfe1-e387-4de2-ddac-b9eb1d06c908"
      },
      "id": "yqU-ZHWSVqN4",
      "execution_count": null,
      "outputs": [
        {
          "output_type": "stream",
          "name": "stdout",
          "text": [
            "1\n",
            "2\n",
            "3\n",
            "4\n",
            "5\n",
            "6\n",
            "7\n",
            "8\n",
            "9\n",
            "10\n",
            "処理を終了します\n"
          ]
        }
      ]
    },
    {
      "cell_type": "markdown",
      "id": "8aefae4b",
      "metadata": {
        "id": "8aefae4b"
      },
      "source": [
        "## 例外処理"
      ]
    },
    {
      "cell_type": "markdown",
      "source": [
        "### 実行時エラー(例外)と例外処理"
      ],
      "metadata": {
        "id": "3LX3VbaQnJ_h"
      },
      "id": "3LX3VbaQnJ_h"
    },
    {
      "cell_type": "code",
      "source": [
        "score = int(input(\"点数を入力してください: \"))"
      ],
      "metadata": {
        "colab": {
          "base_uri": "https://localhost:8080/",
          "height": 197
        },
        "id": "6wZzL82nnewE",
        "outputId": "7209064a-8543-40d1-e208-7d2b426210de"
      },
      "id": "6wZzL82nnewE",
      "execution_count": null,
      "outputs": [
        {
          "name": "stdout",
          "output_type": "stream",
          "text": [
            "点数を入力してください: あいうえお\n"
          ]
        },
        {
          "output_type": "error",
          "ename": "ValueError",
          "evalue": "ignored",
          "traceback": [
            "\u001b[0;31m---------------------------------------------------------------------------\u001b[0m",
            "\u001b[0;31mValueError\u001b[0m                                Traceback (most recent call last)",
            "\u001b[0;32m<ipython-input-9-24d5b466d53b>\u001b[0m in \u001b[0;36m<cell line: 1>\u001b[0;34m()\u001b[0m\n\u001b[0;32m----> 1\u001b[0;31m \u001b[0mscore\u001b[0m \u001b[0;34m=\u001b[0m \u001b[0mint\u001b[0m\u001b[0;34m(\u001b[0m\u001b[0minput\u001b[0m\u001b[0;34m(\u001b[0m\u001b[0;34m\"点数を入力してください: \"\u001b[0m\u001b[0;34m)\u001b[0m\u001b[0;34m)\u001b[0m\u001b[0;34m\u001b[0m\u001b[0;34m\u001b[0m\u001b[0m\n\u001b[0m",
            "\u001b[0;31mValueError\u001b[0m: invalid literal for int() with base 10: 'あいうえお'"
          ]
        }
      ]
    },
    {
      "cell_type": "markdown",
      "source": [
        "### try-catch文"
      ],
      "metadata": {
        "id": "RFkV6DnhnpEJ"
      },
      "id": "RFkV6DnhnpEJ"
    },
    {
      "cell_type": "code",
      "source": [
        "try:\n",
        "    score = int(input(\"点数を入力してください: \"))\n",
        "except ValueError:\n",
        "    print(\"エラー: 数値を入力してください\")\n",
        "except:\n",
        "    print(\"エラー: 何らかのエラーが発生しました\")\n",
        "else:\n",
        "    if score >= 60:\n",
        "        print(\"合格です\")\n",
        "        print(\"おめでとうございます！\")\n",
        "finally:\n",
        "    print(\"処理を終了します\")"
      ],
      "metadata": {
        "colab": {
          "base_uri": "https://localhost:8080/"
        },
        "id": "cIc-wQjenuGM",
        "outputId": "529c3b5e-5a70-41a9-b719-d8a9637ad4f1"
      },
      "id": "cIc-wQjenuGM",
      "execution_count": null,
      "outputs": [
        {
          "output_type": "stream",
          "name": "stdout",
          "text": [
            "点数を入力してください: oeuia\n",
            "エラー: 数値を入力してください\n",
            "処理を終了します\n"
          ]
        }
      ]
    },
    {
      "cell_type": "markdown",
      "metadata": {
        "id": "59872112"
      },
      "source": [
        "## エラーの訂正（デバッグ）"
      ],
      "id": "59872112"
    },
    {
      "cell_type": "markdown",
      "source": [
        "### プリントデバッグ"
      ],
      "metadata": {
        "id": "DSm7XZKu0wsA"
      },
      "id": "DSm7XZKu0wsA"
    },
    {
      "cell_type": "code",
      "execution_count": null,
      "metadata": {
        "id": "e9d75b46",
        "colab": {
          "base_uri": "https://localhost:8080/",
          "height": 35
        },
        "outputId": "6ae9e4be-cea9-4ad7-d594-d7e4730b0d7e"
      },
      "outputs": [
        {
          "output_type": "execute_result",
          "data": {
            "text/plain": [
              "'東京から新橋までの運賃は140円です。'"
            ],
            "application/vnd.google.colaboratory.intrinsic+json": {
              "type": "string"
            }
          },
          "metadata": {},
          "execution_count": 12
        }
      ],
      "source": [
        "station1 = \"東京\"\n",
        "station2 = \"新橋\"\n",
        "price = 140\n",
        "f\"{station1}から{station2}までの運賃は{price}円です。\""
      ],
      "id": "e9d75b46"
    },
    {
      "cell_type": "code",
      "source": [
        "print(f\"{station1=} {station2=} {price=}\")"
      ],
      "metadata": {
        "id": "durhM_TSvBLB",
        "colab": {
          "base_uri": "https://localhost:8080/"
        },
        "outputId": "25259ed9-a764-43f1-eb39-888c74eaee23"
      },
      "execution_count": null,
      "outputs": [
        {
          "output_type": "stream",
          "name": "stdout",
          "text": [
            "station1='東京' station2='新橋' price=140\n"
          ]
        }
      ],
      "id": "durhM_TSvBLB"
    },
    {
      "cell_type": "markdown",
      "source": [
        "### assert文"
      ],
      "metadata": {
        "id": "YGnpuGD2vlBV"
      },
      "id": "YGnpuGD2vlBV"
    },
    {
      "cell_type": "code",
      "source": [
        "station1 = \"東京\"\n",
        "station2 = \"新橋\"\n",
        "price = 140"
      ],
      "metadata": {
        "id": "xN3B26001xD_"
      },
      "id": "xN3B26001xD_",
      "execution_count": null,
      "outputs": []
    },
    {
      "cell_type": "code",
      "source": [
        "price < 100"
      ],
      "metadata": {
        "colab": {
          "base_uri": "https://localhost:8080/"
        },
        "id": "9vgjGMJv1ns2",
        "outputId": "82cdb7ce-e5cd-4a24-9cf4-bf1c4d9ffbf9"
      },
      "id": "9vgjGMJv1ns2",
      "execution_count": null,
      "outputs": [
        {
          "output_type": "execute_result",
          "data": {
            "text/plain": [
              "False"
            ]
          },
          "metadata": {},
          "execution_count": 15
        }
      ]
    },
    {
      "cell_type": "code",
      "source": [
        "assert price < 100"
      ],
      "metadata": {
        "colab": {
          "base_uri": "https://localhost:8080/",
          "height": 180
        },
        "id": "y1QKbCWOwVVS",
        "outputId": "5cd60ab2-2e1f-4e5a-ae16-9947535527f1"
      },
      "execution_count": null,
      "outputs": [
        {
          "output_type": "error",
          "ename": "AssertionError",
          "evalue": "ignored",
          "traceback": [
            "\u001b[0;31m---------------------------------------------------------------------------\u001b[0m",
            "\u001b[0;31mAssertionError\u001b[0m                            Traceback (most recent call last)",
            "\u001b[0;32m<ipython-input-16-cd2d5fb2f980>\u001b[0m in \u001b[0;36m<cell line: 1>\u001b[0;34m()\u001b[0m\n\u001b[0;32m----> 1\u001b[0;31m \u001b[0;32massert\u001b[0m \u001b[0mprice\u001b[0m \u001b[0;34m<\u001b[0m \u001b[0;36m100\u001b[0m\u001b[0;34m\u001b[0m\u001b[0;34m\u001b[0m\u001b[0m\n\u001b[0m",
            "\u001b[0;31mAssertionError\u001b[0m: "
          ]
        }
      ],
      "id": "y1QKbCWOwVVS"
    },
    {
      "cell_type": "code",
      "source": [
        "assert price <= 100, \"手持ちが100円しかないので、その電車には乗れません。\""
      ],
      "metadata": {
        "colab": {
          "base_uri": "https://localhost:8080/",
          "height": 166
        },
        "id": "DVYARTZpww3s",
        "outputId": "d8302892-7379-43a8-a663-7bc102405a21"
      },
      "execution_count": null,
      "outputs": [
        {
          "output_type": "error",
          "ename": "AssertionError",
          "evalue": "ignored",
          "traceback": [
            "\u001b[0;31m---------------------------------------------------------------------------\u001b[0m",
            "\u001b[0;31mAssertionError\u001b[0m                            Traceback (most recent call last)",
            "\u001b[0;32m<ipython-input-6-c079f98ef956>\u001b[0m in \u001b[0;36m<cell line: 1>\u001b[0;34m()\u001b[0m\n\u001b[0;32m----> 1\u001b[0;31m \u001b[0;32massert\u001b[0m \u001b[0mprice\u001b[0m \u001b[0;34m<=\u001b[0m \u001b[0;36m100\u001b[0m\u001b[0;34m,\u001b[0m \u001b[0;34m\"手持ちが100円しかないので、その電車には乗れません。\"\u001b[0m\u001b[0;34m\u001b[0m\u001b[0;34m\u001b[0m\u001b[0m\n\u001b[0m",
            "\u001b[0;31mAssertionError\u001b[0m: 手持ちが100円しかないので、その電車には乗れません。"
          ]
        }
      ],
      "id": "DVYARTZpww3s"
    },
    {
      "cell_type": "markdown",
      "source": [
        "### raise文"
      ],
      "metadata": {
        "id": "AEwVre942AMS"
      },
      "id": "AEwVre942AMS"
    },
    {
      "cell_type": "code",
      "source": [
        "budget = 100\n",
        "price = 1000\n",
        "\n",
        "if price <= 100:\n",
        "    print(\"電車に乗れます\")\n",
        "else:\n",
        "    raise ValueError(f\"{budget}円しかないので、その電車に乗れません。\")"
      ],
      "metadata": {
        "colab": {
          "base_uri": "https://localhost:8080/",
          "height": 214
        },
        "id": "rZ-mMkq42VwA",
        "outputId": "e796b1e9-c0e6-4fbe-b359-e0aa9ed7a8f8"
      },
      "id": "rZ-mMkq42VwA",
      "execution_count": null,
      "outputs": [
        {
          "output_type": "error",
          "ename": "ValueError",
          "evalue": "ignored",
          "traceback": [
            "\u001b[0;31m---------------------------------------------------------------------------\u001b[0m",
            "\u001b[0;31mValueError\u001b[0m                                Traceback (most recent call last)",
            "\u001b[0;32m<ipython-input-17-027553d4461a>\u001b[0m in \u001b[0;36m<cell line: 4>\u001b[0;34m()\u001b[0m\n\u001b[1;32m      5\u001b[0m     \u001b[0mprint\u001b[0m\u001b[0;34m(\u001b[0m\u001b[0;34m\"電車に乗れます\"\u001b[0m\u001b[0;34m)\u001b[0m\u001b[0;34m\u001b[0m\u001b[0;34m\u001b[0m\u001b[0m\n\u001b[1;32m      6\u001b[0m \u001b[0;32melse\u001b[0m\u001b[0;34m:\u001b[0m\u001b[0;34m\u001b[0m\u001b[0;34m\u001b[0m\u001b[0m\n\u001b[0;32m----> 7\u001b[0;31m     \u001b[0;32mraise\u001b[0m \u001b[0mValueError\u001b[0m\u001b[0;34m(\u001b[0m\u001b[0;34mf\"{budget}円しかないので、その電車に乗れません。\"\u001b[0m\u001b[0;34m)\u001b[0m\u001b[0;34m\u001b[0m\u001b[0;34m\u001b[0m\u001b[0m\n\u001b[0m",
            "\u001b[0;31mValueError\u001b[0m: 100円しかないので、その電車に乗れません。"
          ]
        }
      ]
    }
  ],
  "metadata": {
    "colab": {
      "provenance": []
    },
    "language_info": {
      "name": "python"
    },
    "kernelspec": {
      "name": "python3",
      "display_name": "Python 3"
    }
  },
  "nbformat": 4,
  "nbformat_minor": 5
}