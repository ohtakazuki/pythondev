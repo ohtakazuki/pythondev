{
  "cells": [
    {
      "cell_type": "markdown",
      "source": [
        "## テキストファイルを読み込む"
      ],
      "metadata": {
        "id": "xtbrPT0b1b8J"
      },
      "id": "xtbrPT0b1b8J"
    },
    {
      "cell_type": "markdown",
      "source": [
        "### 全データを読み込む"
      ],
      "metadata": {
        "id": "fctoZKjRo8bh"
      },
      "id": "fctoZKjRo8bh"
    },
    {
      "cell_type": "code",
      "execution_count": null,
      "id": "ac9764a2",
      "metadata": {
        "id": "ac9764a2",
        "colab": {
          "base_uri": "https://localhost:8080/"
        },
        "outputId": "56613371-7b23-481a-9768-7a76d52989e9"
      },
      "outputs": [
        {
          "output_type": "stream",
          "name": "stdout",
          "text": [
            "This directory includes a few sample datasets to get you started.\n",
            "\n",
            "*   `california_housing_data*.csv` is California housing data from the 1990 US\n",
            "    Census; more information is available at:\n",
            "    https://developers.google.com/machine-learning/crash-course/california-housing-data-description\n",
            "\n",
            "*   `mnist_*.csv` is a small sample of the\n",
            "    [MNIST database](https://en.wikipedia.org/wiki/MNIST_database), which is\n",
            "    described at: http://yann.lecun.com/exdb/mnist/\n",
            "\n",
            "*   `anscombe.json` contains a copy of\n",
            "    [Anscombe's quartet](https://en.wikipedia.org/wiki/Anscombe%27s_quartet); it\n",
            "    was originally described in\n",
            "\n",
            "    Anscombe, F. J. (1973). 'Graphs in Statistical Analysis'. American\n",
            "    Statistician. 27 (1): 17-21. JSTOR 2682899.\n",
            "\n",
            "    and our copy was prepared by the\n",
            "    [vega_datasets library](https://github.com/altair-viz/vega_datasets/blob/4f67bdaad10f45e3549984e17e1b3088c731503d/vega_datasets/_data/anscombe.json).\n",
            "\n"
          ]
        }
      ],
      "source": [
        "with open(\"./sample_data/README.md\", \"r\") as f:\n",
        "    text = f.read()\n",
        "\n",
        "print(text)"
      ]
    },
    {
      "cell_type": "markdown",
      "source": [
        "### リストとして読み込む"
      ],
      "metadata": {
        "id": "thAuaq8GpY3V"
      },
      "id": "thAuaq8GpY3V"
    },
    {
      "cell_type": "code",
      "execution_count": null,
      "id": "682db11f",
      "metadata": {
        "id": "682db11f",
        "colab": {
          "base_uri": "https://localhost:8080/"
        },
        "outputId": "668f71dc-aebf-453d-c64a-f5839e85590b"
      },
      "outputs": [
        {
          "output_type": "execute_result",
          "data": {
            "text/plain": [
              "['This directory includes a few sample datasets to get you started.\\n',\n",
              " '\\n',\n",
              " '*   `california_housing_data*.csv` is California housing data from the 1990 US\\n',\n",
              " '    Census; more information is available at:\\n',\n",
              " '    https://developers.google.com/machine-learning/crash-course/california-housing-data-description\\n',\n",
              " '\\n',\n",
              " '*   `mnist_*.csv` is a small sample of the\\n',\n",
              " '    [MNIST database](https://en.wikipedia.org/wiki/MNIST_database), which is\\n',\n",
              " '    described at: http://yann.lecun.com/exdb/mnist/\\n',\n",
              " '\\n',\n",
              " '*   `anscombe.json` contains a copy of\\n',\n",
              " \"    [Anscombe's quartet](https://en.wikipedia.org/wiki/Anscombe%27s_quartet); it\\n\",\n",
              " '    was originally described in\\n',\n",
              " '\\n',\n",
              " \"    Anscombe, F. J. (1973). 'Graphs in Statistical Analysis'. American\\n\",\n",
              " '    Statistician. 27 (1): 17-21. JSTOR 2682899.\\n',\n",
              " '\\n',\n",
              " '    and our copy was prepared by the\\n',\n",
              " '    [vega_datasets library](https://github.com/altair-viz/vega_datasets/blob/4f67bdaad10f45e3549984e17e1b3088c731503d/vega_datasets/_data/anscombe.json).\\n']"
            ]
          },
          "metadata": {},
          "execution_count": 2
        }
      ],
      "source": [
        "with open(\"./sample_data/README.md\") as f:\n",
        "    lines = f.readlines()\n",
        "\n",
        "lines"
      ]
    },
    {
      "cell_type": "markdown",
      "metadata": {
        "id": "81aefdf2"
      },
      "source": [
        "## テキストファイルに書き込む"
      ],
      "id": "81aefdf2"
    },
    {
      "cell_type": "code",
      "execution_count": null,
      "metadata": {
        "id": "822b17d6"
      },
      "outputs": [],
      "source": [
        "with open(\"kakikomi.txt\", \"w\") as f:\n",
        "    f.write(\"これはサンプル文です。\")"
      ],
      "id": "822b17d6"
    },
    {
      "cell_type": "code",
      "source": [
        "with open(\"kakikomi-multiline.txt\", \"w\") as f:\n",
        "    f.write(\"おはよう\\nこんにちは\\nおやすみ\\n\")"
      ],
      "metadata": {
        "id": "Hv-L9HlTIvUi"
      },
      "id": "Hv-L9HlTIvUi",
      "execution_count": null,
      "outputs": []
    },
    {
      "cell_type": "code",
      "source": [
        "sample = \"\"\"これはサンプル文です。\n",
        "このように...\n",
        "複数行にまたがる複数行の文字列も\n",
        "しっかり書き込めます。\"\"\"\n",
        "with open(\"kakikomi-here.txt\", \"w\") as f:\n",
        "    f.write(sample)"
      ],
      "metadata": {
        "id": "DR-0wwjPCdBo"
      },
      "id": "DR-0wwjPCdBo",
      "execution_count": null,
      "outputs": []
    },
    {
      "cell_type": "markdown",
      "source": [
        "## さまざまなデータを読み書きする\n"
      ],
      "metadata": {
        "id": "LF375hXWQZIN"
      },
      "id": "LF375hXWQZIN"
    },
    {
      "cell_type": "markdown",
      "id": "3a636da6",
      "metadata": {
        "id": "3a636da6"
      },
      "source": [
        "### テーブルデータ（CSV）"
      ]
    },
    {
      "cell_type": "markdown",
      "source": [
        "#### 読み込み"
      ],
      "metadata": {
        "id": "GIkOmByWqvAz"
      },
      "id": "GIkOmByWqvAz"
    },
    {
      "cell_type": "code",
      "source": [
        "import csv"
      ],
      "metadata": {
        "id": "YxGFr2MDtC-5"
      },
      "id": "YxGFr2MDtC-5",
      "execution_count": null,
      "outputs": []
    },
    {
      "cell_type": "code",
      "execution_count": null,
      "id": "f6a735be",
      "metadata": {
        "id": "f6a735be",
        "colab": {
          "base_uri": "https://localhost:8080/"
        },
        "outputId": "89d5f158-0fb8-42b1-8031-df8f11b5d1c3"
      },
      "outputs": [
        {
          "output_type": "execute_result",
          "data": {
            "text/plain": [
              "[['longitude',\n",
              "  'latitude',\n",
              "  'housing_median_age',\n",
              "  'total_rooms',\n",
              "  'total_bedrooms',\n",
              "  'population',\n",
              "  'households',\n",
              "  'median_income',\n",
              "  'median_house_value'],\n",
              " ['-122.050000',\n",
              "  '37.370000',\n",
              "  '27.000000',\n",
              "  '3885.000000',\n",
              "  '661.000000',\n",
              "  '1537.000000',\n",
              "  '606.000000',\n",
              "  '6.608500',\n",
              "  '344700.000000'],\n",
              " ['-118.300000',\n",
              "  '34.260000',\n",
              "  '43.000000',\n",
              "  '1510.000000',\n",
              "  '310.000000',\n",
              "  '809.000000',\n",
              "  '277.000000',\n",
              "  '3.599000',\n",
              "  '176500.000000'],\n",
              " ['-117.810000',\n",
              "  '33.780000',\n",
              "  '27.000000',\n",
              "  '3589.000000',\n",
              "  '507.000000',\n",
              "  '1484.000000',\n",
              "  '495.000000',\n",
              "  '5.793400',\n",
              "  '270500.000000'],\n",
              " ['-118.360000',\n",
              "  '33.820000',\n",
              "  '28.000000',\n",
              "  '67.000000',\n",
              "  '15.000000',\n",
              "  '49.000000',\n",
              "  '11.000000',\n",
              "  '6.135900',\n",
              "  '330000.000000']]"
            ]
          },
          "metadata": {},
          "execution_count": 7
        }
      ],
      "source": [
        "with open(\"./sample_data/california_housing_test.csv\") as f:\n",
        "    reader = csv.reader(f)\n",
        "    content = list(reader)\n",
        "    # content = [line for line in reader] でも可\n",
        "\n",
        "content[:5]"
      ]
    },
    {
      "cell_type": "code",
      "source": [
        "len(content)"
      ],
      "metadata": {
        "colab": {
          "base_uri": "https://localhost:8080/"
        },
        "id": "5g5ErxZDR3Cy",
        "outputId": "ab2ce469-12aa-4df9-8a3f-d5aef1f23879"
      },
      "id": "5g5ErxZDR3Cy",
      "execution_count": null,
      "outputs": [
        {
          "output_type": "execute_result",
          "data": {
            "text/plain": [
              "3001"
            ]
          },
          "metadata": {},
          "execution_count": 8
        }
      ]
    },
    {
      "cell_type": "code",
      "source": [
        "print(content[0][0])\n",
        "print(content[1][0])"
      ],
      "metadata": {
        "colab": {
          "base_uri": "https://localhost:8080/"
        },
        "id": "HWEm-h7ZM1Fp",
        "outputId": "b75916b0-ffb3-46fe-da23-c4a2e0ee209b"
      },
      "id": "HWEm-h7ZM1Fp",
      "execution_count": null,
      "outputs": [
        {
          "output_type": "stream",
          "name": "stdout",
          "text": [
            "longitude\n",
            "-122.050000\n"
          ]
        }
      ]
    },
    {
      "cell_type": "markdown",
      "metadata": {
        "id": "846bb421"
      },
      "source": [
        "#### 書き込み"
      ],
      "id": "846bb421"
    },
    {
      "cell_type": "code",
      "execution_count": null,
      "metadata": {
        "id": "18fa1e70"
      },
      "outputs": [],
      "source": [
        "import csv\n",
        "\n",
        "menu_data = [\n",
        "    [\"商品名\", \"説明\", \"値段\"],\n",
        "    [\"特製ハンバーガー\", \"特製パティを使ったジューシーなハンバーガー\", 1200],\n",
        "    [\"シーフードパスタ\", \"甘みとコクが特長のシーフードパスタ\", 1800],\n",
        "    [\"野菜たっぷりサラダ\", \"新鮮な季節野菜がたっぷりのヘルシーサラダ\", 900],\n",
        "    [\"シェフ特製デザート\", \"シェフ自慢のデザートの盛り合わせ\", 1500],\n",
        "    [\"贅沢フルコースコース\", \"前菜、スープ、メイン、デザートが楽しめるフルコース\", 4500],\n",
        "    [\"季節限定ドリンク\", \"旬のフルーツを使用した季節限定の特製ドリンク\", 800]\n",
        "]\n",
        "\n",
        "with open(\"menu.csv\", \"w\") as f:\n",
        "    writer = csv.writer(f)\n",
        "    writer.writerows(menu_data)"
      ],
      "id": "18fa1e70"
    },
    {
      "cell_type": "code",
      "execution_count": null,
      "metadata": {
        "id": "ecd30a28"
      },
      "outputs": [],
      "source": [
        "archery_data = [\n",
        "    [\"商品名\", \"説明\", \"価格\"],\n",
        "    [\"トップレベルリカーブボウ\", \"プロフェッショナル向けのトップレベルリカーブボウ\", 35000],\n",
        "    [\"エントリーレベルリカーブボウ\", \"初心者向けのエントリーレベルリカーブボウ\", 12000],\n",
        "    [\"コンパウンドボウ\", \"調整が容易で高い命中精度を持つコンパウンドボウ\", 28000],\n",
        "    [\"矢（アロー）10本セット\", \"信頼性のある矢（アロー）のセット（10本）\", 5000],\n",
        "    [\"アーチェリーグローブ\", \"手の保護に適したアーチェリーグローブ\", 2500],\n",
        "    [\"アーチェリーターゲット\", \"耐久性が高く矢を止めやすいアーチェリーターゲット\", 8000]\n",
        "]\n",
        "\n",
        "with open(\"archery.csv\", \"w\") as f:\n",
        "    writer = csv.writer(f)\n",
        "    for row in archery_data:\n",
        "    \twriter.writerow(row)"
      ],
      "id": "ecd30a28"
    },
    {
      "cell_type": "code",
      "source": [
        "archery_data = [\n",
        "    [\"商品名\", \"説明\", \"価格\"],\n",
        "    [\"トップレベルリカーブボウ\", \"プロフェッショナル向けのトップレベルリカーブボウ\", 35000],\n",
        "    [\"エントリーレベルリカーブボウ\", \"初心者向けのエントリーレベルリカーブボウ\", 12000],\n",
        "    [\"コンパウンドボウ\", \"調整が容易で高い命中精度を持つコンパウンドボウ\", 28000],\n",
        "    [\"矢（アロー）10本セット\", \"信頼性のある矢（アロー）のセット（10本）\", 5000],\n",
        "    [\"アーチェリーグローブ\", \"手の保護に適したアーチェリーグローブ\", 2500],\n",
        "    [\"アーチェリーターゲット\", \"耐久性が高く矢を止めやすいアーチェリーターゲット\", 8000]\n",
        "]\n",
        "\n",
        "budget = 10000 # 予算を決める\n",
        "with open(\"archery-cheap.csv\", \"w\") as f:\n",
        "    writer = csv.writer(f)\n",
        "    for i, row in enumerate(archery_data):\n",
        "        if i: # ヘッダーの場合はFalseと同等の0になるため、該当しない\n",
        "            if row[-1] > budget: # 価格が予算を超える行をスキップする\n",
        "                continue\n",
        "        writer.writerow(row)"
      ],
      "metadata": {
        "id": "0YMrgx5IXZDU"
      },
      "id": "0YMrgx5IXZDU",
      "execution_count": null,
      "outputs": []
    },
    {
      "cell_type": "markdown",
      "source": [
        "### JSONデータ"
      ],
      "metadata": {
        "id": "laCD42KZbN1Y"
      },
      "id": "laCD42KZbN1Y"
    },
    {
      "cell_type": "code",
      "source": [
        "!wget https://huggingface.co/google/flan-t5-xxl/raw/main/config.json"
      ],
      "metadata": {
        "colab": {
          "base_uri": "https://localhost:8080/"
        },
        "id": "iNieNy95bPiz",
        "outputId": "8e0aa4a2-ee7f-44c8-852d-416e6397423c"
      },
      "id": "iNieNy95bPiz",
      "execution_count": null,
      "outputs": [
        {
          "output_type": "stream",
          "name": "stdout",
          "text": [
            "--2023-08-29 09:40:54--  https://huggingface.co/google/flan-t5-xxl/raw/main/config.json\n",
            "Resolving huggingface.co (huggingface.co)... 18.154.227.87, 18.154.227.69, 18.154.227.7, ...\n",
            "Connecting to huggingface.co (huggingface.co)|18.154.227.87|:443... connected.\n",
            "HTTP request sent, awaiting response... 200 OK\n",
            "Length: 674 [text/plain]\n",
            "Saving to: ‘config.json’\n",
            "\n",
            "\rconfig.json           0%[                    ]       0  --.-KB/s               \rconfig.json         100%[===================>]     674  --.-KB/s    in 0s      \n",
            "\n",
            "2023-08-29 09:40:54 (421 MB/s) - ‘config.json’ saved [674/674]\n",
            "\n"
          ]
        }
      ]
    },
    {
      "cell_type": "code",
      "source": [
        "import json\n",
        "\n",
        "with open(\"./config.json\") as f:\n",
        "    data = json.load(f)\n",
        "\n",
        "data"
      ],
      "metadata": {
        "colab": {
          "base_uri": "https://localhost:8080/"
        },
        "id": "UKV4AKmNY4ti",
        "outputId": "6e4e85ec-60de-414d-b22c-f5f0fd66a44b"
      },
      "id": "UKV4AKmNY4ti",
      "execution_count": null,
      "outputs": [
        {
          "output_type": "execute_result",
          "data": {
            "text/plain": [
              "{'architectures': ['T5ForConditionalGeneration'],\n",
              " 'd_ff': 10240,\n",
              " 'd_kv': 64,\n",
              " 'd_model': 4096,\n",
              " 'decoder_start_token_id': 0,\n",
              " 'dropout_rate': 0.1,\n",
              " 'eos_token_id': 1,\n",
              " 'feed_forward_proj': 'gated-gelu',\n",
              " 'initializer_factor': 1.0,\n",
              " 'is_encoder_decoder': True,\n",
              " 'layer_norm_epsilon': 1e-06,\n",
              " 'model_type': 't5',\n",
              " 'num_decoder_layers': 24,\n",
              " 'num_heads': 64,\n",
              " 'num_layers': 24,\n",
              " 'output_past': True,\n",
              " 'pad_token_id': 0,\n",
              " 'relative_attention_max_distance': 128,\n",
              " 'relative_attention_num_buckets': 32,\n",
              " 'tie_word_embeddings': False,\n",
              " 'torch_dtype': 'float32',\n",
              " 'transformers_version': '4.24.0.dev0',\n",
              " 'use_cache': True,\n",
              " 'vocab_size': 32128}"
            ]
          },
          "metadata": {},
          "execution_count": 6
        }
      ]
    },
    {
      "cell_type": "code",
      "source": [
        "type(data)"
      ],
      "metadata": {
        "colab": {
          "base_uri": "https://localhost:8080/"
        },
        "id": "oBLOCVcRc8Ht",
        "outputId": "a7636de3-0ae0-443c-910f-10a7fb8e732e"
      },
      "id": "oBLOCVcRc8Ht",
      "execution_count": null,
      "outputs": [
        {
          "output_type": "execute_result",
          "data": {
            "text/plain": [
              "dict"
            ]
          },
          "metadata": {},
          "execution_count": 7
        }
      ]
    },
    {
      "cell_type": "code",
      "source": [
        "data[\"feed_forward_proj\"]"
      ],
      "metadata": {
        "colab": {
          "base_uri": "https://localhost:8080/",
          "height": 35
        },
        "id": "Ayaivz43qdW_",
        "outputId": "54f59cb7-309c-4b44-d8d4-012a7c941f8a"
      },
      "id": "Ayaivz43qdW_",
      "execution_count": null,
      "outputs": [
        {
          "output_type": "execute_result",
          "data": {
            "text/plain": [
              "'gated-gelu'"
            ],
            "application/vnd.google.colaboratory.intrinsic+json": {
              "type": "string"
            }
          },
          "metadata": {},
          "execution_count": 8
        }
      ]
    },
    {
      "cell_type": "code",
      "source": [
        "person_str = \"\"\"{\n",
        "    \"name\": \"田中\",\n",
        "    \"age\": 25,\n",
        "    \"prefecture\": \"東京都\",\n",
        "    \"hobby\": [\n",
        "        {\n",
        "            \"id\": 1,\n",
        "            \"name\": \"映画鑑賞\"\n",
        "        },\n",
        "        {\n",
        "            \"id\": 2,\n",
        "            \"name\": \"ジョギング\"\n",
        "        }\n",
        "    ]\n",
        "}\"\"\"\n",
        "\n",
        "person_data = json.loads(person_str)\n",
        "type(person_data)"
      ],
      "metadata": {
        "colab": {
          "base_uri": "https://localhost:8080/"
        },
        "id": "LpjE6Bkwo1GM",
        "outputId": "0e68a6c3-43c6-4c8e-b8f8-69139c410d9e"
      },
      "id": "LpjE6Bkwo1GM",
      "execution_count": null,
      "outputs": [
        {
          "output_type": "execute_result",
          "data": {
            "text/plain": [
              "dict"
            ]
          },
          "metadata": {},
          "execution_count": 12
        }
      ]
    },
    {
      "cell_type": "code",
      "source": [
        "person_data[\"hobby\"][0][\"name\"]"
      ],
      "metadata": {
        "colab": {
          "base_uri": "https://localhost:8080/",
          "height": 35
        },
        "id": "wK-7OcIIr-x9",
        "outputId": "4bc54165-06de-405a-8117-fbe922fa878c"
      },
      "id": "wK-7OcIIr-x9",
      "execution_count": null,
      "outputs": [
        {
          "output_type": "execute_result",
          "data": {
            "text/plain": [
              "'映画鑑賞'"
            ],
            "application/vnd.google.colaboratory.intrinsic+json": {
              "type": "string"
            }
          },
          "metadata": {},
          "execution_count": 11
        }
      ]
    },
    {
      "cell_type": "code",
      "source": [
        "company_data = {\n",
        "  \"company_name\": \"株式会社〇〇\",\n",
        "  \"establishment_date\": \"2023-07-21\",\n",
        "  \"founders\": [\n",
        "    {\n",
        "      \"name\": \"田中太郎\",\n",
        "      \"position\": \"代表取締役社長\"\n",
        "    },\n",
        "    {\n",
        "      \"name\": \"山田花子\",\n",
        "      \"position\": \"取締役\"\n",
        "    }\n",
        "  ],\n",
        "  \"capital\": \"1,000万円\",\n",
        "  \"address\": \"東京都渋谷区〇〇町1-2-3\",\n",
        "  \"contact\": {\n",
        "    \"phone\": \"03-1234-5678\",\n",
        "    \"email\": \"info@example.com\"\n",
        "  },\n",
        "  \"business_description\": \"情報技術に関するサービスの提供\",\n",
        "  \"business_activities\": [\n",
        "    \"ソフトウェア開発\",\n",
        "    \"ウェブデザイン\",\n",
        "    \"ITコンサルティング\"\n",
        "  ],\n",
        "  \"shareholders\": [\n",
        "    {\n",
        "      \"name\": \"株式会社ABC\",\n",
        "      \"shares\": \"500株\"\n",
        "    },\n",
        "    {\n",
        "      \"name\": \"山田花子\",\n",
        "      \"shares\": \"300株\"\n",
        "    },\n",
        "    {\n",
        "      \"name\": \"田中太郎\",\n",
        "      \"shares\": \"200株\"\n",
        "    }\n",
        "  ],\n",
        "  \"website\": \"https://example.com\"\n",
        "}\n",
        "\n",
        "with open(\"company_data.json\", \"w\") as f:\n",
        "    json.dump(company_data, f)"
      ],
      "metadata": {
        "id": "5Mcf6uBScSsO"
      },
      "id": "5Mcf6uBScSsO",
      "execution_count": null,
      "outputs": []
    },
    {
      "cell_type": "code",
      "source": [
        "with open(\"company_data.json\", \"w\") as f:\n",
        "    json.dump(company_data, f, ensure_ascii=False)"
      ],
      "metadata": {
        "id": "uJ6RX5XLfyBI"
      },
      "id": "uJ6RX5XLfyBI",
      "execution_count": null,
      "outputs": []
    },
    {
      "cell_type": "code",
      "source": [
        "with open(\"company_data.json\", \"w\") as f:\n",
        "    json.dump(company_data, f, ensure_ascii=False, indent=2)"
      ],
      "metadata": {
        "id": "qUDY_-iRgOd9"
      },
      "id": "qUDY_-iRgOd9",
      "execution_count": null,
      "outputs": []
    },
    {
      "cell_type": "code",
      "source": [
        "founders = [\n",
        "    {'name': 'Aristotle Amedas', \"share\": 0.50, 'note': None},\n",
        "    {'name': 'Erno Emerald', \"share\": 0.25, 'note': '譲渡制限付'},\n",
        "]\n",
        "\n",
        "with open(\"founders.json\", \"w\") as f:\n",
        "    json.dump(founders, f, ensure_ascii=False, indent=2)"
      ],
      "metadata": {
        "id": "WG--PxUmeBfv"
      },
      "id": "WG--PxUmeBfv",
      "execution_count": null,
      "outputs": []
    },
    {
      "cell_type": "markdown",
      "source": [
        "### Pythonオブジェクト"
      ],
      "metadata": {
        "id": "UNUp-463ntZG"
      },
      "id": "UNUp-463ntZG"
    },
    {
      "cell_type": "code",
      "source": [
        "class Suit:\n",
        "    def __init__(self, color, size, brand):\n",
        "        self.color = color\n",
        "        self.size = size\n",
        "        self.brand = brand\n",
        "\n",
        "    def __call__(self, occasion=\"ビジネス\"):\n",
        "        return f\"この{self.color}のスーツ（サイズ：{self.size}、ブランド：{self.brand}）は、{occasion}にぴったりです。\"\n",
        "\n",
        "my_suit = Suit(color=\"ピンク\", size=\"L\", brand=\"サンプルブランド\")"
      ],
      "metadata": {
        "id": "sikM-FJcoa0M"
      },
      "id": "sikM-FJcoa0M",
      "execution_count": null,
      "outputs": []
    },
    {
      "cell_type": "code",
      "source": [
        "import pickle\n",
        "\n",
        "with open('suit.pkl', 'wb') as f:\n",
        "    pickle.dump(my_suit, f)"
      ],
      "metadata": {
        "id": "P6_Xpcr3pnF4"
      },
      "id": "P6_Xpcr3pnF4",
      "execution_count": null,
      "outputs": []
    },
    {
      "cell_type": "code",
      "source": [
        "# オブジェクトを読み込む\n",
        "with open('suit.pkl', 'rb') as f:\n",
        "    my_suit_reloaded = pickle.load(f)"
      ],
      "metadata": {
        "id": "mCGeXgjDogt0"
      },
      "id": "mCGeXgjDogt0",
      "execution_count": null,
      "outputs": []
    },
    {
      "cell_type": "code",
      "source": [
        "my_suit_reloaded(\"パーティー\")"
      ],
      "metadata": {
        "id": "3N_DqsCVomYK",
        "colab": {
          "base_uri": "https://localhost:8080/",
          "height": 35
        },
        "outputId": "fa2d7f70-c197-4698-8873-5af1c6a355b5"
      },
      "id": "3N_DqsCVomYK",
      "execution_count": null,
      "outputs": [
        {
          "output_type": "execute_result",
          "data": {
            "text/plain": [
              "'このピンクのスーツ（サイズ：L、ブランド：サンプルブランド）は、パーティーにぴったりです。'"
            ],
            "application/vnd.google.colaboratory.intrinsic+json": {
              "type": "string"
            }
          },
          "metadata": {},
          "execution_count": 32
        }
      ]
    }
  ],
  "metadata": {
    "colab": {
      "provenance": [],
      "toc_visible": true
    },
    "language_info": {
      "name": "python"
    },
    "kernelspec": {
      "name": "python3",
      "display_name": "Python 3"
    }
  },
  "nbformat": 4,
  "nbformat_minor": 5
}