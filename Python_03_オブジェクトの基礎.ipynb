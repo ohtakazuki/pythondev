{
  "cells": [
    {
      "cell_type": "markdown",
      "source": [
        "## 文字列のメソッド"
      ],
      "metadata": {
        "id": "LOPxwCSNUri-"
      },
      "id": "LOPxwCSNUri-"
    },
    {
      "cell_type": "markdown",
      "id": "b5e0283b",
      "metadata": {
        "id": "b5e0283b"
      },
      "source": [
        "### 文字列の置換"
      ]
    },
    {
      "cell_type": "code",
      "execution_count": null,
      "id": "8e10c7ba",
      "metadata": {
        "id": "8e10c7ba",
        "colab": {
          "base_uri": "https://localhost:8080/",
          "height": 35
        },
        "outputId": "9d04be7b-7f18-4b91-b14b-3fcf777af06b"
      },
      "outputs": [
        {
          "output_type": "execute_result",
          "data": {
            "text/plain": [
              "'Today is a rainy day.'"
            ],
            "application/vnd.google.colaboratory.intrinsic+json": {
              "type": "string"
            }
          },
          "metadata": {},
          "execution_count": 1
        }
      ],
      "source": [
        "a = \"Today is a sunny day.\"\n",
        "a.replace(\"sunny\", \"rainy\")"
      ]
    },
    {
      "cell_type": "code",
      "source": [
        "a = \"Today is a sunny day.\"\n",
        "a.replace(\"sunny\", \"rainy\")\n",
        "a"
      ],
      "metadata": {
        "colab": {
          "base_uri": "https://localhost:8080/",
          "height": 35
        },
        "id": "Xt8Xpm8qavxr",
        "outputId": "d499037a-74c1-4e5e-b9bf-603ba205693b"
      },
      "id": "Xt8Xpm8qavxr",
      "execution_count": null,
      "outputs": [
        {
          "output_type": "execute_result",
          "data": {
            "text/plain": [
              "'Today is a sunny day.'"
            ],
            "application/vnd.google.colaboratory.intrinsic+json": {
              "type": "string"
            }
          },
          "metadata": {},
          "execution_count": 3
        }
      ]
    },
    {
      "cell_type": "code",
      "source": [
        "a = \"Today is a sunny day.\"\n",
        "a = a.replace(\"sunny\", \"rainy\")\n",
        "a"
      ],
      "metadata": {
        "colab": {
          "base_uri": "https://localhost:8080/",
          "height": 35
        },
        "id": "KI4-V05ETf5o",
        "outputId": "04f92ad3-c3dd-430f-aaf4-18d0bf050417"
      },
      "id": "KI4-V05ETf5o",
      "execution_count": null,
      "outputs": [
        {
          "output_type": "execute_result",
          "data": {
            "text/plain": [
              "'Today is a rainy day.'"
            ],
            "application/vnd.google.colaboratory.intrinsic+json": {
              "type": "string"
            }
          },
          "metadata": {},
          "execution_count": 4
        }
      ]
    },
    {
      "cell_type": "markdown",
      "id": "190aca5d",
      "metadata": {
        "id": "190aca5d"
      },
      "source": [
        "### 英字を大文字化・小文字化"
      ]
    },
    {
      "cell_type": "code",
      "source": [
        "a = \"Tech Academy\"\n",
        "a"
      ],
      "metadata": {
        "colab": {
          "base_uri": "https://localhost:8080/",
          "height": 35
        },
        "id": "10RVgDraWZS9",
        "outputId": "9a06afb5-6a68-4e75-d8cf-64a8658fc2b4"
      },
      "id": "10RVgDraWZS9",
      "execution_count": null,
      "outputs": [
        {
          "output_type": "execute_result",
          "data": {
            "text/plain": [
              "'Tech Academy'"
            ],
            "application/vnd.google.colaboratory.intrinsic+json": {
              "type": "string"
            }
          },
          "metadata": {},
          "execution_count": 5
        }
      ]
    },
    {
      "cell_type": "code",
      "source": [
        "a.lower()"
      ],
      "metadata": {
        "colab": {
          "base_uri": "https://localhost:8080/",
          "height": 35
        },
        "id": "6YPErpKhWa5c",
        "outputId": "e1380a29-61ea-41c9-e3ac-797ae5a4a51b"
      },
      "id": "6YPErpKhWa5c",
      "execution_count": null,
      "outputs": [
        {
          "output_type": "execute_result",
          "data": {
            "text/plain": [
              "'tech academy'"
            ],
            "application/vnd.google.colaboratory.intrinsic+json": {
              "type": "string"
            }
          },
          "metadata": {},
          "execution_count": 6
        }
      ]
    },
    {
      "cell_type": "code",
      "source": [
        "a.upper()"
      ],
      "metadata": {
        "colab": {
          "base_uri": "https://localhost:8080/",
          "height": 35
        },
        "id": "EqMBCGiZWdj3",
        "outputId": "d0dee5e9-4850-4df0-e218-200d634f4771"
      },
      "id": "EqMBCGiZWdj3",
      "execution_count": null,
      "outputs": [
        {
          "output_type": "execute_result",
          "data": {
            "text/plain": [
              "'TECH ACADEMY'"
            ],
            "application/vnd.google.colaboratory.intrinsic+json": {
              "type": "string"
            }
          },
          "metadata": {},
          "execution_count": 7
        }
      ]
    },
    {
      "cell_type": "code",
      "source": [
        "a = \"Tech Academy\"\n",
        "a = a.lower()\n",
        "a"
      ],
      "metadata": {
        "colab": {
          "base_uri": "https://localhost:8080/",
          "height": 35
        },
        "id": "q-ssKX6aaR5K",
        "outputId": "ededdc40-d656-46bb-d3c7-1ad7d7588ae5"
      },
      "id": "q-ssKX6aaR5K",
      "execution_count": null,
      "outputs": [
        {
          "output_type": "execute_result",
          "data": {
            "text/plain": [
              "'tech academy'"
            ],
            "application/vnd.google.colaboratory.intrinsic+json": {
              "type": "string"
            }
          },
          "metadata": {},
          "execution_count": 8
        }
      ]
    },
    {
      "cell_type": "markdown",
      "id": "f28444d9",
      "metadata": {
        "id": "f28444d9"
      },
      "source": [
        "### 文字のカウント"
      ]
    },
    {
      "cell_type": "code",
      "source": [
        "a.count(\"e\")"
      ],
      "metadata": {
        "colab": {
          "base_uri": "https://localhost:8080/"
        },
        "id": "LCnNz7WfXu3p",
        "outputId": "9417d4af-6c38-4093-bafb-9860f3c37a3a"
      },
      "id": "LCnNz7WfXu3p",
      "execution_count": null,
      "outputs": [
        {
          "output_type": "execute_result",
          "data": {
            "text/plain": [
              "2"
            ]
          },
          "metadata": {},
          "execution_count": 9
        }
      ]
    },
    {
      "cell_type": "code",
      "source": [
        "a.count(\"b\")"
      ],
      "metadata": {
        "colab": {
          "base_uri": "https://localhost:8080/"
        },
        "id": "Lsva7T8wXvac",
        "outputId": "1db3a06e-4497-4d2d-982c-0275208ae2f7"
      },
      "id": "Lsva7T8wXvac",
      "execution_count": null,
      "outputs": [
        {
          "output_type": "execute_result",
          "data": {
            "text/plain": [
              "0"
            ]
          },
          "metadata": {},
          "execution_count": 10
        }
      ]
    },
    {
      "cell_type": "markdown",
      "id": "45d132df",
      "metadata": {
        "id": "45d132df"
      },
      "source": [
        "### 文字列のトリム"
      ]
    },
    {
      "cell_type": "code",
      "execution_count": null,
      "id": "244e47f7",
      "metadata": {
        "id": "244e47f7",
        "colab": {
          "base_uri": "https://localhost:8080/",
          "height": 35
        },
        "outputId": "de0e46ba-6429-4682-8aaf-5b447add2c64"
      },
      "outputs": [
        {
          "output_type": "execute_result",
          "data": {
            "text/plain": [
              "'Tech Academy'"
            ],
            "application/vnd.google.colaboratory.intrinsic+json": {
              "type": "string"
            }
          },
          "metadata": {},
          "execution_count": 11
        }
      ],
      "source": [
        "a = \"      Tech Academy         \"\n",
        "a = a.strip()\n",
        "a"
      ]
    },
    {
      "cell_type": "code",
      "source": [
        "a = \"\"\"\n",
        "ゥ\n",
        "\n",
        "\"\"\"\n",
        "a = a.strip()\n",
        "a"
      ],
      "metadata": {
        "colab": {
          "base_uri": "https://localhost:8080/",
          "height": 35
        },
        "id": "ZG9Nf9T8yXyL",
        "outputId": "7216125e-e540-401f-a2e5-a5acfe50ad04"
      },
      "id": "ZG9Nf9T8yXyL",
      "execution_count": null,
      "outputs": [
        {
          "output_type": "execute_result",
          "data": {
            "text/plain": [
              "'ゥ'"
            ],
            "application/vnd.google.colaboratory.intrinsic+json": {
              "type": "string"
            }
          },
          "metadata": {},
          "execution_count": 13
        }
      ]
    },
    {
      "cell_type": "markdown",
      "id": "322bc44c",
      "metadata": {
        "id": "322bc44c"
      },
      "source": [
        "\n",
        "### 文字列の中に変数の中身の埋め込み"
      ]
    },
    {
      "cell_type": "code",
      "execution_count": null,
      "id": "830e5e5d",
      "metadata": {
        "id": "830e5e5d",
        "colab": {
          "base_uri": "https://localhost:8080/",
          "height": 35
        },
        "outputId": "125963b2-cd1e-42e0-ea7e-4abe6a9e97cd"
      },
      "outputs": [
        {
          "output_type": "execute_result",
          "data": {
            "text/plain": [
              "'信号の色は赤と青と黄色'"
            ],
            "application/vnd.google.colaboratory.intrinsic+json": {
              "type": "string"
            }
          },
          "metadata": {},
          "execution_count": 14
        }
      ],
      "source": [
        "str1 = \"信号の色は{}と{}と{}\"\n",
        "str1 = str1.format(\"赤\", \"青\", \"黄色\")\n",
        "str1"
      ]
    },
    {
      "cell_type": "markdown",
      "id": "50e31c14",
      "metadata": {
        "id": "50e31c14"
      },
      "source": [
        "#### 便利なフォーマッティング（f-string）"
      ]
    },
    {
      "cell_type": "code",
      "execution_count": null,
      "id": "6e9f3d2c",
      "metadata": {
        "id": "6e9f3d2c",
        "colab": {
          "base_uri": "https://localhost:8080/",
          "height": 35
        },
        "outputId": "7f1c8783-8797-42c0-9292-f6a69c35b591"
      },
      "outputs": [
        {
          "output_type": "execute_result",
          "data": {
            "text/plain": [
              "'東京から新橋までの運賃は140円です。'"
            ],
            "application/vnd.google.colaboratory.intrinsic+json": {
              "type": "string"
            }
          },
          "metadata": {},
          "execution_count": 15
        }
      ],
      "source": [
        "station1 = \"東京\"\n",
        "station2 = \"新橋\"\n",
        "price = 140\n",
        "str1 = f\"{station1}から{station2}までの運賃は{price}円です。\"\n",
        "str1"
      ]
    },
    {
      "cell_type": "code",
      "execution_count": null,
      "id": "330e1c93",
      "metadata": {
        "id": "330e1c93",
        "colab": {
          "base_uri": "https://localhost:8080/"
        },
        "outputId": "0a804c85-9706-4829-ba52-95dc733bc1e6"
      },
      "outputs": [
        {
          "output_type": "stream",
          "name": "stdout",
          "text": [
            "税込価格で2000円です。\n"
          ]
        }
      ],
      "source": [
        "price = 2000\n",
        "print(f\"税込価格で{price}円です。\")"
      ]
    },
    {
      "cell_type": "code",
      "execution_count": null,
      "id": "e21e07fd",
      "metadata": {
        "id": "e21e07fd",
        "colab": {
          "base_uri": "https://localhost:8080/"
        },
        "outputId": "45e38f76-daa1-4262-9ed5-ab66f6355de9"
      },
      "outputs": [
        {
          "output_type": "stream",
          "name": "stdout",
          "text": [
            "税込価格で2,000円です。\n"
          ]
        }
      ],
      "source": [
        "price = 2000\n",
        "print(f\"税込価格で{price:,}円です。\")"
      ]
    }
  ],
  "metadata": {
    "colab": {
      "provenance": []
    },
    "language_info": {
      "name": "python"
    },
    "kernelspec": {
      "name": "python3",
      "display_name": "Python 3"
    }
  },
  "nbformat": 4,
  "nbformat_minor": 5
}