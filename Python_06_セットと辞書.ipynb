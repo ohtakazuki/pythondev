{
  "cells": [
    {
      "cell_type": "markdown",
      "source": [
        "## セット（Set・集合）を作る"
      ],
      "metadata": {
        "id": "sfPnSOI6_O9Q"
      },
      "id": "sfPnSOI6_O9Q"
    },
    {
      "cell_type": "markdown",
      "source": [
        "### `{ }` で作る"
      ],
      "metadata": {
        "id": "2xkdvsnGYYUH"
      },
      "id": "2xkdvsnGYYUH"
    },
    {
      "cell_type": "code",
      "execution_count": null,
      "id": "98346a6e",
      "metadata": {
        "id": "98346a6e",
        "colab": {
          "base_uri": "https://localhost:8080/"
        },
        "outputId": "2d721314-520d-41c9-ab6c-9fc3b5e4bf66"
      },
      "outputs": [
        {
          "output_type": "stream",
          "name": "stdout",
          "text": [
            "{1, 2, 3, 4, 5, 6, 7}\n",
            "{'banana', 'apple', 'orange', 'peach'}\n",
            "{}\n",
            "{'fuga', 1, 'hoge', 4, 'bar', 7}\n"
          ]
        }
      ],
      "source": [
        "a = {2, 5, 7, 1, 3, 6, 4}\n",
        "b = {\"apple\", \"banana\", \"orange\", \"peach\"}\n",
        "c = {}\n",
        "d = {1, \"hoge\", 4, \"fuga\", \"bar\", 7}\n",
        "\n",
        "print(a)\n",
        "print(b)\n",
        "print(c)\n",
        "print(d)"
      ]
    },
    {
      "cell_type": "code",
      "execution_count": null,
      "id": "f98748f9",
      "metadata": {
        "id": "f98748f9",
        "colab": {
          "base_uri": "https://localhost:8080/"
        },
        "outputId": "ed7b1075-c605-49d8-afd4-c93b442ee4f9"
      },
      "outputs": [
        {
          "output_type": "stream",
          "name": "stdout",
          "text": [
            "<class 'set'> <class 'set'> <class 'dict'>\n"
          ]
        }
      ],
      "source": [
        "print(type(a), type(b), type(c))"
      ]
    },
    {
      "cell_type": "code",
      "execution_count": null,
      "id": "e35acdd5",
      "metadata": {
        "id": "e35acdd5",
        "colab": {
          "base_uri": "https://localhost:8080/"
        },
        "outputId": "e611a0fb-49ac-4886-a0b2-78e9dc68aacf"
      },
      "outputs": [
        {
          "output_type": "execute_result",
          "data": {
            "text/plain": [
              "{'apple', 'banana', 'orange', 'peach'}"
            ]
          },
          "metadata": {},
          "execution_count": 3
        }
      ],
      "source": [
        "b = {\"apple\", \"banana\", \"banana\", \"orange\", \"banana\", \"peach\"}\n",
        "b"
      ]
    },
    {
      "cell_type": "markdown",
      "source": [
        "### `set()`"
      ],
      "metadata": {
        "id": "Ue0tuYK9YcHR"
      },
      "id": "Ue0tuYK9YcHR"
    },
    {
      "cell_type": "code",
      "execution_count": null,
      "id": "9a4e657d",
      "metadata": {
        "id": "9a4e657d",
        "colab": {
          "base_uri": "https://localhost:8080/"
        },
        "outputId": "873e9f4a-0ef0-4486-acc0-1a4bbe96cebe"
      },
      "outputs": [
        {
          "output_type": "stream",
          "name": "stdout",
          "text": [
            "{'d', 'm', 'e', 'h', 'c', 'a', 'T', 'y', 'A'}\n",
            "{1, 3, 5, 7, 9}\n",
            "set()\n"
          ]
        }
      ],
      "source": [
        "e = set(\"TechAcademy\")\n",
        "f = set(range(1, 11, 2))\n",
        "g = set()\n",
        "print(e)\n",
        "print(f)\n",
        "print(g)"
      ]
    },
    {
      "cell_type": "markdown",
      "id": "c991f538",
      "metadata": {
        "id": "c991f538"
      },
      "source": [
        "### セットの内包表記"
      ]
    },
    {
      "cell_type": "code",
      "execution_count": null,
      "id": "eb76654f",
      "metadata": {
        "id": "eb76654f",
        "colab": {
          "base_uri": "https://localhost:8080/"
        },
        "outputId": "3645f4a1-ae82-492a-eb1c-24a33d51bc94"
      },
      "outputs": [
        {
          "output_type": "execute_result",
          "data": {
            "text/plain": [
              "{0, 2, 4, 6, 8, 10, 12, 14, 16, 18, 20}"
            ]
          },
          "metadata": {},
          "execution_count": 6
        }
      ],
      "source": [
        "nums_d = {num * 2 for num in range(0, 11)}\n",
        "nums_d"
      ]
    },
    {
      "cell_type": "markdown",
      "id": "4ef04be8",
      "metadata": {
        "id": "4ef04be8"
      },
      "source": [
        "## セットを使う"
      ]
    },
    {
      "cell_type": "markdown",
      "source": [
        "### 要素の新規登録"
      ],
      "metadata": {
        "id": "4NjwXvBLY3Ar"
      },
      "id": "4NjwXvBLY3Ar"
    },
    {
      "cell_type": "code",
      "execution_count": null,
      "id": "cdb254b4",
      "metadata": {
        "id": "cdb254b4",
        "colab": {
          "base_uri": "https://localhost:8080/"
        },
        "outputId": "fd278569-f3fe-4a60-e80c-eba54f5284c1"
      },
      "outputs": [
        {
          "output_type": "stream",
          "name": "stdout",
          "text": [
            "{'baseball'}\n",
            "{'soccer', 'baseball'}\n",
            "{'soccer', 'baseball'}\n"
          ]
        }
      ],
      "source": [
        "sports = set()\n",
        "sports.add(\"baseball\")\n",
        "print(sports)\n",
        "sports.add(\"soccer\")\n",
        "print(sports)\n",
        "sports.add(\"soccer\")\n",
        "print(sports)"
      ]
    },
    {
      "cell_type": "markdown",
      "id": "e531600d",
      "metadata": {
        "id": "e531600d"
      },
      "source": [
        "### 要素の削除と更新\n"
      ]
    },
    {
      "cell_type": "code",
      "execution_count": null,
      "id": "bae0b840",
      "metadata": {
        "id": "bae0b840",
        "colab": {
          "base_uri": "https://localhost:8080/"
        },
        "outputId": "254c1eb3-81e9-4d3d-dee2-3ae16d5f1f62"
      },
      "outputs": [
        {
          "output_type": "execute_result",
          "data": {
            "text/plain": [
              "{'baseball', 'soccer', 'volleyball'}"
            ]
          },
          "metadata": {},
          "execution_count": 8
        }
      ],
      "source": [
        "sports = set()\n",
        "sports.add(\"baseball\")\n",
        "sports.add(\"soccer\")\n",
        "sports.add(\"golf\")\n",
        "sports.add(\"volleyball\")\n",
        "sports.remove(\"golf\")\n",
        "sports"
      ]
    },
    {
      "cell_type": "code",
      "source": [
        "sports.remove(\"golf\")"
      ],
      "metadata": {
        "colab": {
          "base_uri": "https://localhost:8080/",
          "height": 180
        },
        "id": "JmlpLQ0bDHTg",
        "outputId": "2f25d321-0c2c-4cd3-beb7-464e3751e814"
      },
      "id": "JmlpLQ0bDHTg",
      "execution_count": null,
      "outputs": [
        {
          "output_type": "error",
          "ename": "KeyError",
          "evalue": "ignored",
          "traceback": [
            "\u001b[0;31m---------------------------------------------------------------------------\u001b[0m",
            "\u001b[0;31mKeyError\u001b[0m                                  Traceback (most recent call last)",
            "\u001b[0;32m<ipython-input-9-afc7018bb8bb>\u001b[0m in \u001b[0;36m<cell line: 1>\u001b[0;34m()\u001b[0m\n\u001b[0;32m----> 1\u001b[0;31m \u001b[0msports\u001b[0m\u001b[0;34m.\u001b[0m\u001b[0mremove\u001b[0m\u001b[0;34m(\u001b[0m\u001b[0;34m\"golf\"\u001b[0m\u001b[0;34m)\u001b[0m\u001b[0;34m\u001b[0m\u001b[0;34m\u001b[0m\u001b[0m\n\u001b[0m",
            "\u001b[0;31mKeyError\u001b[0m: 'golf'"
          ]
        }
      ]
    },
    {
      "cell_type": "code",
      "source": [
        "sports.discard(\"golf\")"
      ],
      "metadata": {
        "id": "lCl5nq8TDebF"
      },
      "id": "lCl5nq8TDebF",
      "execution_count": null,
      "outputs": []
    },
    {
      "cell_type": "code",
      "source": [
        "sports"
      ],
      "metadata": {
        "colab": {
          "base_uri": "https://localhost:8080/"
        },
        "id": "JI__borWEE08",
        "outputId": "b0155c1e-28bd-40ac-e1bf-8594a7dd1121"
      },
      "id": "JI__borWEE08",
      "execution_count": null,
      "outputs": [
        {
          "output_type": "execute_result",
          "data": {
            "text/plain": [
              "{'baseball', 'soccer', 'volleyball'}"
            ]
          },
          "metadata": {},
          "execution_count": 11
        }
      ]
    },
    {
      "cell_type": "code",
      "source": [
        "sports.clear()\n",
        "sports"
      ],
      "metadata": {
        "colab": {
          "base_uri": "https://localhost:8080/"
        },
        "id": "gFzxibsCEFlW",
        "outputId": "4dc128d7-a82d-422a-bde1-79c8e8c04295"
      },
      "id": "gFzxibsCEFlW",
      "execution_count": null,
      "outputs": [
        {
          "output_type": "execute_result",
          "data": {
            "text/plain": [
              "set()"
            ]
          },
          "metadata": {},
          "execution_count": 12
        }
      ]
    },
    {
      "cell_type": "code",
      "source": [
        "sports = {'baseball', 'soccer', 'volleyball'}\n",
        "sports = set()\n",
        "sports"
      ],
      "metadata": {
        "colab": {
          "base_uri": "https://localhost:8080/"
        },
        "id": "1OpQntfnEOao",
        "outputId": "1d56c52d-0762-478f-bf91-910c6b104753"
      },
      "id": "1OpQntfnEOao",
      "execution_count": null,
      "outputs": [
        {
          "output_type": "execute_result",
          "data": {
            "text/plain": [
              "set()"
            ]
          },
          "metadata": {},
          "execution_count": 14
        }
      ]
    },
    {
      "cell_type": "code",
      "source": [
        "sports = {'baseball', 'soccer', 'volleyball'}\n",
        "sports[2] = \"kickboxing\""
      ],
      "metadata": {
        "colab": {
          "base_uri": "https://localhost:8080/",
          "height": 197
        },
        "id": "IR6J4dPpES7o",
        "outputId": "089751e5-155c-4ffc-854f-b2f84a641826"
      },
      "id": "IR6J4dPpES7o",
      "execution_count": null,
      "outputs": [
        {
          "output_type": "error",
          "ename": "TypeError",
          "evalue": "ignored",
          "traceback": [
            "\u001b[0;31m---------------------------------------------------------------------------\u001b[0m",
            "\u001b[0;31mTypeError\u001b[0m                                 Traceback (most recent call last)",
            "\u001b[0;32m<ipython-input-15-690d578ee920>\u001b[0m in \u001b[0;36m<cell line: 2>\u001b[0;34m()\u001b[0m\n\u001b[1;32m      1\u001b[0m \u001b[0msports\u001b[0m \u001b[0;34m=\u001b[0m \u001b[0;34m{\u001b[0m\u001b[0;34m'baseball'\u001b[0m\u001b[0;34m,\u001b[0m \u001b[0;34m'soccer'\u001b[0m\u001b[0;34m,\u001b[0m \u001b[0;34m'volleyball'\u001b[0m\u001b[0;34m}\u001b[0m\u001b[0;34m\u001b[0m\u001b[0;34m\u001b[0m\u001b[0m\n\u001b[0;32m----> 2\u001b[0;31m \u001b[0msports\u001b[0m\u001b[0;34m[\u001b[0m\u001b[0;36m2\u001b[0m\u001b[0;34m]\u001b[0m \u001b[0;34m=\u001b[0m \u001b[0;34m\"kickboxing\"\u001b[0m\u001b[0;34m\u001b[0m\u001b[0;34m\u001b[0m\u001b[0m\n\u001b[0m",
            "\u001b[0;31mTypeError\u001b[0m: 'set' object does not support item assignment"
          ]
        }
      ]
    },
    {
      "cell_type": "markdown",
      "id": "21089469",
      "metadata": {
        "id": "21089469"
      },
      "source": [
        "### 要素の検索"
      ]
    },
    {
      "cell_type": "code",
      "source": [
        "sports = {'baseball', 'soccer', 'volleyball'}\n",
        "sports"
      ],
      "metadata": {
        "colab": {
          "base_uri": "https://localhost:8080/"
        },
        "id": "f5ebG2vvEbfx",
        "outputId": "322c1ab9-cb3b-4f42-aa22-0f9830f7da10"
      },
      "id": "f5ebG2vvEbfx",
      "execution_count": null,
      "outputs": [
        {
          "output_type": "execute_result",
          "data": {
            "text/plain": [
              "{'baseball', 'soccer', 'volleyball'}"
            ]
          },
          "metadata": {},
          "execution_count": 16
        }
      ]
    },
    {
      "cell_type": "code",
      "source": [
        "\"baseball\" in sports"
      ],
      "metadata": {
        "colab": {
          "base_uri": "https://localhost:8080/"
        },
        "id": "-pIk17SUEgQd",
        "outputId": "859c4a61-4104-4d0e-f614-b551c74b8003"
      },
      "id": "-pIk17SUEgQd",
      "execution_count": null,
      "outputs": [
        {
          "output_type": "execute_result",
          "data": {
            "text/plain": [
              "True"
            ]
          },
          "metadata": {},
          "execution_count": 17
        }
      ]
    },
    {
      "cell_type": "code",
      "execution_count": null,
      "id": "1a7c9ab2",
      "metadata": {
        "id": "1a7c9ab2",
        "colab": {
          "base_uri": "https://localhost:8080/"
        },
        "outputId": "8cba8222-5cac-4548-b7a1-f100bed7af87"
      },
      "outputs": [
        {
          "output_type": "execute_result",
          "data": {
            "text/plain": [
              "False"
            ]
          },
          "metadata": {},
          "execution_count": 18
        }
      ],
      "source": [
        "\"tennis\" in sports"
      ]
    },
    {
      "cell_type": "code",
      "source": [
        "\"tennis\" not in sports"
      ],
      "metadata": {
        "colab": {
          "base_uri": "https://localhost:8080/"
        },
        "id": "5ZoFVMLnDONB",
        "outputId": "3a9fa9d7-a3dd-4563-95cf-3ca5e4a23411"
      },
      "id": "5ZoFVMLnDONB",
      "execution_count": null,
      "outputs": [
        {
          "output_type": "execute_result",
          "data": {
            "text/plain": [
              "True"
            ]
          },
          "metadata": {},
          "execution_count": 54
        }
      ]
    },
    {
      "cell_type": "markdown",
      "id": "af6f3354",
      "metadata": {
        "id": "af6f3354"
      },
      "source": [
        "### 変更不可のセット（frozenset）"
      ]
    },
    {
      "cell_type": "code",
      "source": [
        "sports = frozenset(sports)\n",
        "sports.add(\"golf\")"
      ],
      "metadata": {
        "colab": {
          "base_uri": "https://localhost:8080/",
          "height": 197
        },
        "id": "R7qnbILxEi-N",
        "outputId": "1c474b73-3394-424f-d071-1e04bdb3cd56"
      },
      "id": "R7qnbILxEi-N",
      "execution_count": null,
      "outputs": [
        {
          "output_type": "error",
          "ename": "AttributeError",
          "evalue": "ignored",
          "traceback": [
            "\u001b[0;31m---------------------------------------------------------------------------\u001b[0m",
            "\u001b[0;31mAttributeError\u001b[0m                            Traceback (most recent call last)",
            "\u001b[0;32m<ipython-input-19-c50e82b4eac9>\u001b[0m in \u001b[0;36m<cell line: 2>\u001b[0;34m()\u001b[0m\n\u001b[1;32m      1\u001b[0m \u001b[0msports\u001b[0m \u001b[0;34m=\u001b[0m \u001b[0mfrozenset\u001b[0m\u001b[0;34m(\u001b[0m\u001b[0msports\u001b[0m\u001b[0;34m)\u001b[0m\u001b[0;34m\u001b[0m\u001b[0;34m\u001b[0m\u001b[0m\n\u001b[0;32m----> 2\u001b[0;31m \u001b[0msports\u001b[0m\u001b[0;34m.\u001b[0m\u001b[0madd\u001b[0m\u001b[0;34m(\u001b[0m\u001b[0;34m\"golf\"\u001b[0m\u001b[0;34m)\u001b[0m\u001b[0;34m\u001b[0m\u001b[0;34m\u001b[0m\u001b[0m\n\u001b[0m",
            "\u001b[0;31mAttributeError\u001b[0m: 'frozenset' object has no attribute 'add'"
          ]
        }
      ]
    },
    {
      "cell_type": "markdown",
      "id": "0f62dff2",
      "metadata": {
        "id": "0f62dff2"
      },
      "source": [
        "## セットの集合演算"
      ]
    },
    {
      "cell_type": "code",
      "source": [],
      "metadata": {
        "id": "CZmuZ2f35O33"
      },
      "id": "CZmuZ2f35O33",
      "execution_count": null,
      "outputs": []
    },
    {
      "cell_type": "markdown",
      "source": [
        "### 和集合"
      ],
      "metadata": {
        "id": "XkGWrkLfanAw"
      },
      "id": "XkGWrkLfanAw"
    },
    {
      "cell_type": "code",
      "execution_count": null,
      "id": "cfa1cea4",
      "metadata": {
        "id": "cfa1cea4",
        "colab": {
          "base_uri": "https://localhost:8080/"
        },
        "outputId": "a355558d-7b22-4964-9171-e94c8b9d91e9"
      },
      "outputs": [
        {
          "output_type": "execute_result",
          "data": {
            "text/plain": [
              "{'apple', 'banana', 'grape', 'orange', 'peach'}"
            ]
          },
          "metadata": {},
          "execution_count": 21
        }
      ],
      "source": [
        "f1 = {\"apple\", \"banana\", \"orange\"}\n",
        "f2 = {\"peach\", \"orange\", \"grape\"}\n",
        "f3 = f1 | f2\n",
        "f3"
      ]
    },
    {
      "cell_type": "markdown",
      "id": "33ec980a",
      "metadata": {
        "id": "33ec980a"
      },
      "source": [
        "### 積集合"
      ]
    },
    {
      "cell_type": "code",
      "execution_count": null,
      "id": "304ce606",
      "metadata": {
        "id": "304ce606",
        "colab": {
          "base_uri": "https://localhost:8080/"
        },
        "outputId": "c1451095-c348-4086-d375-d9956dae51e8"
      },
      "outputs": [
        {
          "output_type": "execute_result",
          "data": {
            "text/plain": [
              "{'orange'}"
            ]
          },
          "metadata": {},
          "execution_count": 22
        }
      ],
      "source": [
        "f4 = f1 & f2\n",
        "f4"
      ]
    },
    {
      "cell_type": "markdown",
      "id": "57a44f59",
      "metadata": {
        "id": "57a44f59"
      },
      "source": [
        "### 差集合"
      ]
    },
    {
      "cell_type": "code",
      "execution_count": null,
      "id": "4d7dff88",
      "metadata": {
        "id": "4d7dff88",
        "colab": {
          "base_uri": "https://localhost:8080/"
        },
        "outputId": "875fef84-406d-4913-af3c-29cfb77f38d2"
      },
      "outputs": [
        {
          "output_type": "execute_result",
          "data": {
            "text/plain": [
              "{'apple', 'banana'}"
            ]
          },
          "metadata": {},
          "execution_count": 29
        }
      ],
      "source": [
        "f5 = f1 - f2\n",
        "f5"
      ]
    },
    {
      "cell_type": "markdown",
      "id": "050bb593",
      "metadata": {
        "id": "050bb593"
      },
      "source": [
        "### 破壊的な集合演算"
      ]
    },
    {
      "cell_type": "code",
      "execution_count": null,
      "id": "83ee2661",
      "metadata": {
        "id": "83ee2661",
        "colab": {
          "base_uri": "https://localhost:8080/"
        },
        "outputId": "4faea399-9646-4af6-fe56-5303c0b027de"
      },
      "outputs": [
        {
          "output_type": "execute_result",
          "data": {
            "text/plain": [
              "{'apple', 'banana', 'grape', 'orange', 'peach'}"
            ]
          },
          "metadata": {},
          "execution_count": 23
        }
      ],
      "source": [
        "# 破壊的な和集合：|= 演算子\n",
        "f01 = {\"apple\", \"banana\", \"orange\"}\n",
        "f02 = {\"orange\", \"peach\", \"grape\"}\n",
        "f01 |= f02\n",
        "f01"
      ]
    },
    {
      "cell_type": "code",
      "source": [
        "# 破壊的な積集合：&= 演算子\n",
        "f01 = {\"apple\", \"banana\", \"orange\"}\n",
        "f02 = {\"orange\", \"peach\", \"grape\"}\n",
        "f01 &= f02\n",
        "f01"
      ],
      "metadata": {
        "colab": {
          "base_uri": "https://localhost:8080/"
        },
        "id": "3jQTqOAe6Ck7",
        "outputId": "f0cbfe20-005b-42ce-d459-330f948656da"
      },
      "id": "3jQTqOAe6Ck7",
      "execution_count": null,
      "outputs": [
        {
          "output_type": "execute_result",
          "data": {
            "text/plain": [
              "{'orange'}"
            ]
          },
          "metadata": {},
          "execution_count": 25
        }
      ]
    },
    {
      "cell_type": "code",
      "source": [
        "# 破壊的な差集合：-= 演算子\n",
        "f01 = {\"apple\", \"banana\", \"orange\"}\n",
        "f02 = {\"orange\", \"peach\", \"grape\"}\n",
        "f01 -= f02\n",
        "f01"
      ],
      "metadata": {
        "colab": {
          "base_uri": "https://localhost:8080/"
        },
        "id": "uT4N2_6r6gBE",
        "outputId": "78e73fb8-47a8-4c4a-b1de-bab730cb7084"
      },
      "id": "uT4N2_6r6gBE",
      "execution_count": null,
      "outputs": [
        {
          "output_type": "execute_result",
          "data": {
            "text/plain": [
              "{'apple', 'banana'}"
            ]
          },
          "metadata": {},
          "execution_count": 27
        }
      ]
    },
    {
      "cell_type": "markdown",
      "id": "b580d11c",
      "metadata": {
        "id": "b580d11c"
      },
      "source": [
        "### 部分集合"
      ]
    },
    {
      "cell_type": "code",
      "execution_count": null,
      "id": "59eeaf19",
      "metadata": {
        "id": "59eeaf19",
        "colab": {
          "base_uri": "https://localhost:8080/"
        },
        "outputId": "94ad1534-0340-4500-b65f-ebc8bbb52c25"
      },
      "outputs": [
        {
          "output_type": "stream",
          "name": "stdout",
          "text": [
            "True\n"
          ]
        }
      ],
      "source": [
        "a = {\"apple\", \"banana\"}\n",
        "b = {\"apple\", \"banana\", \"orange\", \"peach\", \"grape\"}\n",
        "print(a <= b)"
      ]
    },
    {
      "cell_type": "code",
      "source": [
        "a = {\"apple\", \"banana\", \"bilingual\"}\n",
        "b = {\"apple\", \"banana\", \"orange\", \"peach\", \"grape\"}\n",
        "print(a <= b)"
      ],
      "metadata": {
        "colab": {
          "base_uri": "https://localhost:8080/"
        },
        "id": "Ig099O07GOyc",
        "outputId": "408fc705-a3d3-4c04-a1ff-0042b262b331"
      },
      "id": "Ig099O07GOyc",
      "execution_count": null,
      "outputs": [
        {
          "output_type": "stream",
          "name": "stdout",
          "text": [
            "False\n"
          ]
        }
      ]
    },
    {
      "cell_type": "markdown",
      "source": [
        "## 辞書を作る"
      ],
      "metadata": {
        "id": "V9CDZCKZHJeG"
      },
      "id": "V9CDZCKZHJeG"
    },
    {
      "cell_type": "markdown",
      "source": [
        "### `{ }` で作る"
      ],
      "metadata": {
        "id": "qHOcALn_8ofP"
      },
      "id": "qHOcALn_8ofP"
    },
    {
      "cell_type": "code",
      "execution_count": null,
      "id": "a7de4fb9",
      "metadata": {
        "id": "a7de4fb9",
        "colab": {
          "base_uri": "https://localhost:8080/"
        },
        "outputId": "c832d73f-66a2-44e5-e589-98bf39be6bf9"
      },
      "outputs": [
        {
          "output_type": "execute_result",
          "data": {
            "text/plain": [
              "{'first_name': 'Taro',\n",
              " 'last_name': 'Tanaka',\n",
              " 'age': 25,\n",
              " 'is_male': True,\n",
              " 'tel_no': '090-1234-5678'}"
            ]
          },
          "metadata": {},
          "execution_count": 33
        }
      ],
      "source": [
        "contact = {\"first_name\": \"Taro\", \"last_name\": \"Tanaka\", \"age\": 25, \"is_male\": True, \"tel_no\": \"090-1234-5678\"}\n",
        "contact"
      ]
    },
    {
      "cell_type": "code",
      "execution_count": null,
      "id": "0d8c84e3",
      "metadata": {
        "id": "0d8c84e3",
        "colab": {
          "base_uri": "https://localhost:8080/"
        },
        "outputId": "fdff98d4-17e5-400d-bfdf-26e41f8fafe0"
      },
      "outputs": [
        {
          "output_type": "execute_result",
          "data": {
            "text/plain": [
              "{'foo': 3, 'bar': 5, 'hoge': 7}"
            ]
          },
          "metadata": {},
          "execution_count": 34
        }
      ],
      "source": [
        "d = {\"foo\": 1, \"foo\": 3, \"bar\": 5, \"hoge\": 7}\n",
        "d"
      ]
    },
    {
      "cell_type": "code",
      "execution_count": null,
      "id": "8807015d",
      "metadata": {
        "id": "8807015d",
        "colab": {
          "base_uri": "https://localhost:8080/"
        },
        "outputId": "179faada-e653-4225-a24d-dd700ef3acb9"
      },
      "outputs": [
        {
          "output_type": "execute_result",
          "data": {
            "text/plain": [
              "{1: 10, 3: 30, 5: 50, 7: 70}"
            ]
          },
          "metadata": {},
          "execution_count": 35
        }
      ],
      "source": [
        "nums = {1: 10, 3: 30, 5: 50, 7: 70}\n",
        "nums"
      ]
    },
    {
      "cell_type": "code",
      "execution_count": null,
      "id": "8b4bfd12",
      "metadata": {
        "id": "8b4bfd12",
        "colab": {
          "base_uri": "https://localhost:8080/"
        },
        "outputId": "477e28ac-96a6-49fa-d773-b028dba172af"
      },
      "outputs": [
        {
          "output_type": "execute_result",
          "data": {
            "text/plain": [
              "{(2018, 5, 1): 28, (2018, 5, 2): 25, (2018, 5, 3): 27, (2018, 5, 4): 24}"
            ]
          },
          "metadata": {},
          "execution_count": 36
        }
      ],
      "source": [
        "high_degree = {(2018, 5, 1): 28, (2018, 5, 2): 25, (2018, 5, 3): 27, (2018, 5, 4): 24}\n",
        "high_degree"
      ]
    },
    {
      "cell_type": "markdown",
      "id": "81326491",
      "metadata": {
        "id": "81326491"
      },
      "source": [
        "### `dict()`"
      ]
    },
    {
      "cell_type": "markdown",
      "source": [
        "#### タプルを複数もつリストから作る"
      ],
      "metadata": {
        "id": "0JLmdlzxAys_"
      },
      "id": "0JLmdlzxAys_"
    },
    {
      "cell_type": "code",
      "execution_count": null,
      "id": "7aca07da",
      "metadata": {
        "id": "7aca07da",
        "colab": {
          "base_uri": "https://localhost:8080/"
        },
        "outputId": "2761451a-8e52-4ce3-be38-5ed2d91fafae"
      },
      "outputs": [
        {
          "output_type": "execute_result",
          "data": {
            "text/plain": [
              "{'foo': 3, 'bar': 5, 'hoge': 7}"
            ]
          },
          "metadata": {},
          "execution_count": 37
        }
      ],
      "source": [
        "d1 = dict( [ (\"foo\", 3), (\"bar\", 5), (\"hoge\", 7) ] )\n",
        "d1"
      ]
    },
    {
      "cell_type": "markdown",
      "id": "909a4e98",
      "metadata": {
        "id": "909a4e98"
      },
      "source": [
        "#### `zip()`から作る"
      ]
    },
    {
      "cell_type": "code",
      "execution_count": null,
      "id": "93ead903",
      "metadata": {
        "id": "93ead903",
        "colab": {
          "base_uri": "https://localhost:8080/"
        },
        "outputId": "b75ab6b5-b48f-438b-9e48-81750147c9e1"
      },
      "outputs": [
        {
          "output_type": "execute_result",
          "data": {
            "text/plain": [
              "{'foo': 3, 'bar': 5, 'hoge': 7}"
            ]
          },
          "metadata": {},
          "execution_count": 38
        }
      ],
      "source": [
        "keys = [\"foo\", \"bar\", \"hoge\"]\n",
        "values = [3, 5, 7]\n",
        "d2 = dict( zip(keys, values) )\n",
        "d2"
      ]
    },
    {
      "cell_type": "markdown",
      "id": "3373e365",
      "metadata": {
        "id": "3373e365"
      },
      "source": [
        "#### 「`キー=値`」という記述から作る"
      ]
    },
    {
      "cell_type": "code",
      "execution_count": null,
      "id": "077b4b07",
      "metadata": {
        "id": "077b4b07",
        "colab": {
          "base_uri": "https://localhost:8080/"
        },
        "outputId": "c491a544-5829-4a4b-c0ac-8b5068cb6b21"
      },
      "outputs": [
        {
          "output_type": "execute_result",
          "data": {
            "text/plain": [
              "{'foo': 3, 'bar': 5, 'hoge': 7}"
            ]
          },
          "metadata": {},
          "execution_count": 39
        }
      ],
      "source": [
        "d3 = dict(foo = 3, bar = 5, hoge = 7)\n",
        "d3"
      ]
    },
    {
      "cell_type": "markdown",
      "source": [
        "#### `dict.fromkeys()`を使う"
      ],
      "metadata": {
        "id": "KlYcNxsz-X_o"
      },
      "id": "KlYcNxsz-X_o"
    },
    {
      "cell_type": "code",
      "source": [
        "char_count = dict.fromkeys(list(\"python\"), 0)\n",
        "char_count"
      ],
      "metadata": {
        "colab": {
          "base_uri": "https://localhost:8080/"
        },
        "id": "9oEQdyOZ-cy2",
        "outputId": "38947dee-b24a-4b08-e6b0-41adbd319e97"
      },
      "id": "9oEQdyOZ-cy2",
      "execution_count": null,
      "outputs": [
        {
          "output_type": "execute_result",
          "data": {
            "text/plain": [
              "{'p': 0, 'y': 0, 't': 0, 'h': 0, 'o': 0, 'n': 0}"
            ]
          },
          "metadata": {},
          "execution_count": 1
        }
      ]
    },
    {
      "cell_type": "markdown",
      "id": "7701b5d9",
      "metadata": {
        "id": "7701b5d9"
      },
      "source": [
        "### 辞書の内包表記"
      ]
    },
    {
      "cell_type": "code",
      "execution_count": null,
      "id": "2a7c9558",
      "metadata": {
        "id": "2a7c9558",
        "colab": {
          "base_uri": "https://localhost:8080/"
        },
        "outputId": "60a380a3-e609-4095-b8f2-313f1a788d96"
      },
      "outputs": [
        {
          "output_type": "execute_result",
          "data": {
            "text/plain": [
              "{0: 0, 1: 2, 2: 4, 3: 6, 4: 8, 5: 10}"
            ]
          },
          "metadata": {},
          "execution_count": 41
        }
      ],
      "source": [
        "nums = {i: i*2 for i in range(6)}\n",
        "nums"
      ]
    },
    {
      "cell_type": "markdown",
      "id": "c7668699",
      "metadata": {
        "id": "c7668699"
      },
      "source": [
        "## 辞書を使う"
      ]
    },
    {
      "cell_type": "markdown",
      "source": [
        "### 要素の追加・更新と参照"
      ],
      "metadata": {
        "id": "OkYjpPA6BAEO"
      },
      "id": "OkYjpPA6BAEO"
    },
    {
      "cell_type": "code",
      "source": [
        "pref_code = {}\n",
        "pref_code[\"Hokkaido\"] = 1\n",
        "pref_code[\"Aomori\"] = 2\n",
        "pref_code[\"Tokyo\"] = 12\n",
        "pref_code[\"Tokyo\"] = 13\n",
        "pref_code[\"Osaka\"] = 27\n",
        "pref_code"
      ],
      "metadata": {
        "colab": {
          "base_uri": "https://localhost:8080/"
        },
        "id": "fZUZzQbuIMHE",
        "outputId": "099ef4f1-324b-4940-fd9f-8aa796220637"
      },
      "id": "fZUZzQbuIMHE",
      "execution_count": null,
      "outputs": [
        {
          "output_type": "execute_result",
          "data": {
            "text/plain": [
              "{'Hokkaido': 1, 'Aomori': 2, 'Tokyo': 13, 'Osaka': 27}"
            ]
          },
          "metadata": {},
          "execution_count": 42
        }
      ]
    },
    {
      "cell_type": "code",
      "source": [
        "pref_code[\"Tokyo\"]"
      ],
      "metadata": {
        "colab": {
          "base_uri": "https://localhost:8080/"
        },
        "id": "E6g5jHEBINVk",
        "outputId": "c6d841ff-14e5-4fc8-d32c-a57e1f3866a3"
      },
      "id": "E6g5jHEBINVk",
      "execution_count": null,
      "outputs": [
        {
          "output_type": "execute_result",
          "data": {
            "text/plain": [
              "13"
            ]
          },
          "metadata": {},
          "execution_count": 43
        }
      ]
    },
    {
      "cell_type": "code",
      "execution_count": null,
      "id": "fc18c7a9",
      "metadata": {
        "id": "fc18c7a9",
        "colab": {
          "base_uri": "https://localhost:8080/",
          "height": 180
        },
        "outputId": "bd872234-8b73-4c40-c60d-b2cb8583b758"
      },
      "outputs": [
        {
          "output_type": "error",
          "ename": "KeyError",
          "evalue": "ignored",
          "traceback": [
            "\u001b[0;31m---------------------------------------------------------------------------\u001b[0m",
            "\u001b[0;31mKeyError\u001b[0m                                  Traceback (most recent call last)",
            "\u001b[0;32m<ipython-input-44-1aeca036efcb>\u001b[0m in \u001b[0;36m<cell line: 1>\u001b[0;34m()\u001b[0m\n\u001b[0;32m----> 1\u001b[0;31m \u001b[0mpref_code\u001b[0m\u001b[0;34m[\u001b[0m\u001b[0;34m\"Fukuoka\"\u001b[0m\u001b[0;34m]\u001b[0m\u001b[0;34m\u001b[0m\u001b[0;34m\u001b[0m\u001b[0m\n\u001b[0m",
            "\u001b[0;31mKeyError\u001b[0m: 'Fukuoka'"
          ]
        }
      ],
      "source": [
        "pref_code[\"Fukuoka\"]"
      ]
    },
    {
      "cell_type": "code",
      "source": [
        "pref_code.get(\"Hokkaido\")"
      ],
      "metadata": {
        "colab": {
          "base_uri": "https://localhost:8080/"
        },
        "id": "XKNDTbazISuH",
        "outputId": "6e9d1f92-5c82-436a-869e-cf11c6e9b1e6"
      },
      "id": "XKNDTbazISuH",
      "execution_count": null,
      "outputs": [
        {
          "output_type": "execute_result",
          "data": {
            "text/plain": [
              "1"
            ]
          },
          "metadata": {},
          "execution_count": 45
        }
      ]
    },
    {
      "cell_type": "code",
      "execution_count": null,
      "id": "aaf5da9e",
      "metadata": {
        "id": "aaf5da9e"
      },
      "outputs": [],
      "source": [
        "pref_code.get(\"Okinawa\")"
      ]
    },
    {
      "cell_type": "code",
      "source": [
        "high_degree = {(2018, 5, 1): 28, (2018, 5, 2): 25, (2018, 5, 3): 27, (2018, 5, 4): 24}"
      ],
      "metadata": {
        "id": "v9NHb636IVjB"
      },
      "id": "v9NHb636IVjB",
      "execution_count": null,
      "outputs": []
    },
    {
      "cell_type": "code",
      "source": [
        "high_degree[(2018, 5, 2)]"
      ],
      "metadata": {
        "colab": {
          "base_uri": "https://localhost:8080/"
        },
        "id": "ZGZdlfxbIXIs",
        "outputId": "bb42b031-c855-439d-fd2b-79d5ba1d7f07"
      },
      "id": "ZGZdlfxbIXIs",
      "execution_count": null,
      "outputs": [
        {
          "output_type": "execute_result",
          "data": {
            "text/plain": [
              "25"
            ]
          },
          "metadata": {},
          "execution_count": 48
        }
      ]
    },
    {
      "cell_type": "code",
      "execution_count": null,
      "id": "48551233",
      "metadata": {
        "id": "48551233",
        "colab": {
          "base_uri": "https://localhost:8080/"
        },
        "outputId": "a2ebd0e6-3671-4867-82a3-70ec975ef466"
      },
      "outputs": [
        {
          "output_type": "execute_result",
          "data": {
            "text/plain": [
              "27"
            ]
          },
          "metadata": {},
          "execution_count": 49
        }
      ],
      "source": [
        "high_degree.get((2018, 5, 3))"
      ]
    },
    {
      "cell_type": "markdown",
      "id": "4dd5058d",
      "metadata": {
        "id": "4dd5058d"
      },
      "source": [
        "### 要素の削除"
      ]
    },
    {
      "cell_type": "code",
      "source": [
        "pref_code.pop(\"Hokkaido\")"
      ],
      "metadata": {
        "colab": {
          "base_uri": "https://localhost:8080/"
        },
        "id": "TdPo2J_kIbCU",
        "outputId": "c216a6dc-b108-4207-bfcc-739aacce4b71"
      },
      "id": "TdPo2J_kIbCU",
      "execution_count": null,
      "outputs": [
        {
          "output_type": "execute_result",
          "data": {
            "text/plain": [
              "1"
            ]
          },
          "metadata": {},
          "execution_count": 50
        }
      ]
    },
    {
      "cell_type": "code",
      "execution_count": null,
      "id": "f6362fa7",
      "metadata": {
        "id": "f6362fa7",
        "colab": {
          "base_uri": "https://localhost:8080/"
        },
        "outputId": "a30f0538-6139-4689-b61c-89290a82ba1b"
      },
      "outputs": [
        {
          "output_type": "execute_result",
          "data": {
            "text/plain": [
              "{'Aomori': 2, 'Tokyo': 13, 'Osaka': 27}"
            ]
          },
          "metadata": {},
          "execution_count": 51
        }
      ],
      "source": [
        "pref_code"
      ]
    },
    {
      "cell_type": "code",
      "source": [
        "pref_code2 = {'Hokkaido': 1, 'Aomori': 2, 'Tokyo': 13, 'Osaka': 27}\n",
        "pref_code2"
      ],
      "metadata": {
        "colab": {
          "base_uri": "https://localhost:8080/"
        },
        "id": "milOkeuTCil1",
        "outputId": "c3429715-d3ac-44fb-a453-4b5172b35caa"
      },
      "id": "milOkeuTCil1",
      "execution_count": null,
      "outputs": [
        {
          "output_type": "execute_result",
          "data": {
            "text/plain": [
              "{'Hokkaido': 1, 'Aomori': 2, 'Tokyo': 13, 'Osaka': 27}"
            ]
          },
          "metadata": {},
          "execution_count": 52
        }
      ]
    },
    {
      "cell_type": "code",
      "source": [
        "pref_code2.clear()\n",
        "pref_code2"
      ],
      "metadata": {
        "colab": {
          "base_uri": "https://localhost:8080/"
        },
        "id": "0z81mKAWCyVI",
        "outputId": "7ccdfff4-0655-423f-b141-6784fc3c5556"
      },
      "id": "0z81mKAWCyVI",
      "execution_count": null,
      "outputs": [
        {
          "output_type": "execute_result",
          "data": {
            "text/plain": [
              "{}"
            ]
          },
          "metadata": {},
          "execution_count": 53
        }
      ]
    },
    {
      "cell_type": "markdown",
      "id": "4d93add6",
      "metadata": {
        "id": "4d93add6"
      },
      "source": [
        "### 要素の検索"
      ]
    },
    {
      "cell_type": "code",
      "source": [
        "\"Tokyo\" in pref_code"
      ],
      "metadata": {
        "colab": {
          "base_uri": "https://localhost:8080/"
        },
        "id": "_iDwy3mVIesG",
        "outputId": "3262387d-0ab1-4d50-cb4c-d3fc8a7e4fa7"
      },
      "id": "_iDwy3mVIesG",
      "execution_count": null,
      "outputs": [
        {
          "output_type": "execute_result",
          "data": {
            "text/plain": [
              "True"
            ]
          },
          "metadata": {},
          "execution_count": 55
        }
      ]
    },
    {
      "cell_type": "code",
      "execution_count": null,
      "id": "8d5fd6bd",
      "metadata": {
        "id": "8d5fd6bd",
        "colab": {
          "base_uri": "https://localhost:8080/"
        },
        "outputId": "d1579edf-0f60-45b3-d973-d6aac1e3873d"
      },
      "outputs": [
        {
          "output_type": "execute_result",
          "data": {
            "text/plain": [
              "False"
            ]
          },
          "metadata": {},
          "execution_count": 56
        }
      ],
      "source": [
        "\"Fukuoka\" in pref_code"
      ]
    },
    {
      "cell_type": "code",
      "source": [
        "\"Fukuoka\" not in pref_code"
      ],
      "metadata": {
        "colab": {
          "base_uri": "https://localhost:8080/"
        },
        "id": "J4xSG4FKDd5D",
        "outputId": "e4d48e9e-903b-425b-dae9-2e11e4346bbc"
      },
      "id": "J4xSG4FKDd5D",
      "execution_count": null,
      "outputs": [
        {
          "output_type": "execute_result",
          "data": {
            "text/plain": [
              "True"
            ]
          },
          "metadata": {},
          "execution_count": 57
        }
      ]
    },
    {
      "cell_type": "markdown",
      "id": "9a1f8a40",
      "metadata": {
        "id": "9a1f8a40"
      },
      "source": [
        "### 辞書と繰り返し処理"
      ]
    },
    {
      "cell_type": "code",
      "source": [
        "pref_code.keys()"
      ],
      "metadata": {
        "colab": {
          "base_uri": "https://localhost:8080/"
        },
        "id": "ijM3nbPzIiHt",
        "outputId": "1ff030cd-b441-4c1e-f659-14080f362e41"
      },
      "id": "ijM3nbPzIiHt",
      "execution_count": null,
      "outputs": [
        {
          "output_type": "execute_result",
          "data": {
            "text/plain": [
              "dict_keys(['Aomori', 'Tokyo', 'Osaka'])"
            ]
          },
          "metadata": {},
          "execution_count": 58
        }
      ]
    },
    {
      "cell_type": "code",
      "source": [
        "pref_code.values()"
      ],
      "metadata": {
        "colab": {
          "base_uri": "https://localhost:8080/"
        },
        "id": "lpAjosVDIjNU",
        "outputId": "bd9160b2-738f-42f7-d93f-87e611ef05c3"
      },
      "id": "lpAjosVDIjNU",
      "execution_count": null,
      "outputs": [
        {
          "output_type": "execute_result",
          "data": {
            "text/plain": [
              "dict_values([2, 13, 27])"
            ]
          },
          "metadata": {},
          "execution_count": 59
        }
      ]
    },
    {
      "cell_type": "code",
      "execution_count": null,
      "id": "ffc4ee26",
      "metadata": {
        "id": "ffc4ee26",
        "colab": {
          "base_uri": "https://localhost:8080/"
        },
        "outputId": "99abfff8-b1be-42f2-d90c-744ff9bfd934"
      },
      "outputs": [
        {
          "output_type": "execute_result",
          "data": {
            "text/plain": [
              "dict_items([('Aomori', 2), ('Tokyo', 13), ('Osaka', 27)])"
            ]
          },
          "metadata": {},
          "execution_count": 60
        }
      ],
      "source": [
        "pref_code.items()"
      ]
    },
    {
      "cell_type": "code",
      "execution_count": null,
      "id": "32e9b715",
      "metadata": {
        "id": "32e9b715",
        "colab": {
          "base_uri": "https://localhost:8080/"
        },
        "outputId": "9b5bdfab-f182-4baf-b153-d405c24e575b"
      },
      "outputs": [
        {
          "output_type": "stream",
          "name": "stdout",
          "text": [
            "Hokkaido\n",
            "Aomori\n",
            "Tokyo\n",
            "Osaka\n",
            "1\n",
            "2\n",
            "13\n",
            "27\n",
            "Hokkaido : 1\n",
            "Aomori : 2\n",
            "Tokyo : 13\n",
            "Osaka : 27\n"
          ]
        }
      ],
      "source": [
        "# dict\n",
        "pref_code = {'Hokkaido': 1, 'Aomori': 2, 'Tokyo': 13, 'Osaka': 27}\n",
        "\n",
        "# keys\n",
        "for code in pref_code.keys():\n",
        "    print(code)\n",
        "\n",
        "# values\n",
        "for value in pref_code.values():\n",
        "    print(value)\n",
        "\n",
        "# items\n",
        "for key, value in pref_code.items():\n",
        "    print(f\"{key} : {value}\")"
      ]
    }
  ],
  "metadata": {
    "colab": {
      "provenance": []
    },
    "language_info": {
      "name": "python"
    },
    "kernelspec": {
      "name": "python3",
      "display_name": "Python 3"
    }
  },
  "nbformat": 4,
  "nbformat_minor": 5
}