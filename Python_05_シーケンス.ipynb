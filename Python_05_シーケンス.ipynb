{
  "cells": [
    {
      "cell_type": "markdown",
      "id": "3cce5286",
      "metadata": {
        "id": "3cce5286"
      },
      "source": [
        "## シーケンスとしての文字列"
      ]
    },
    {
      "cell_type": "markdown",
      "source": [
        "### 文字列のスライス"
      ],
      "metadata": {
        "id": "liM5hbzOvW9L"
      },
      "id": "liM5hbzOvW9L"
    },
    {
      "cell_type": "code",
      "execution_count": null,
      "id": "8bef2252",
      "metadata": {
        "id": "8bef2252"
      },
      "outputs": [],
      "source": [
        "s = \"abcdefghijklmnopqrstuvwxyz\""
      ]
    },
    {
      "cell_type": "markdown",
      "id": "86044459",
      "metadata": {
        "id": "86044459"
      },
      "source": [
        "#### 特定の1要素を取得する"
      ]
    },
    {
      "cell_type": "code",
      "source": [
        "s[0]"
      ],
      "metadata": {
        "colab": {
          "base_uri": "https://localhost:8080/",
          "height": 35
        },
        "id": "SKdoI2Jtv2gy",
        "outputId": "450a8749-5a56-47fd-991e-1a3808ecefd9"
      },
      "id": "SKdoI2Jtv2gy",
      "execution_count": null,
      "outputs": [
        {
          "output_type": "execute_result",
          "data": {
            "text/plain": [
              "'a'"
            ],
            "application/vnd.google.colaboratory.intrinsic+json": {
              "type": "string"
            }
          },
          "metadata": {},
          "execution_count": 3
        }
      ]
    },
    {
      "cell_type": "code",
      "source": [
        "s[1]"
      ],
      "metadata": {
        "colab": {
          "base_uri": "https://localhost:8080/",
          "height": 35
        },
        "id": "-pU4wHs4v3Mz",
        "outputId": "b8ee80bd-0711-4167-958e-272b81cd7c9b"
      },
      "id": "-pU4wHs4v3Mz",
      "execution_count": null,
      "outputs": [
        {
          "output_type": "execute_result",
          "data": {
            "text/plain": [
              "'b'"
            ],
            "application/vnd.google.colaboratory.intrinsic+json": {
              "type": "string"
            }
          },
          "metadata": {},
          "execution_count": 4
        }
      ]
    },
    {
      "cell_type": "code",
      "source": [
        "s[2]"
      ],
      "metadata": {
        "colab": {
          "base_uri": "https://localhost:8080/",
          "height": 35
        },
        "id": "cxaFasJjv352",
        "outputId": "8ecc09f1-98d0-4094-dadb-24d40684a932"
      },
      "id": "cxaFasJjv352",
      "execution_count": null,
      "outputs": [
        {
          "output_type": "execute_result",
          "data": {
            "text/plain": [
              "'c'"
            ],
            "application/vnd.google.colaboratory.intrinsic+json": {
              "type": "string"
            }
          },
          "metadata": {},
          "execution_count": 5
        }
      ]
    },
    {
      "cell_type": "code",
      "source": [
        "s[25]"
      ],
      "metadata": {
        "colab": {
          "base_uri": "https://localhost:8080/",
          "height": 35
        },
        "id": "XncqEPv5v4kU",
        "outputId": "3bec7efc-f3e3-4c25-e86d-862800bd1e3a"
      },
      "id": "XncqEPv5v4kU",
      "execution_count": null,
      "outputs": [
        {
          "output_type": "execute_result",
          "data": {
            "text/plain": [
              "'z'"
            ],
            "application/vnd.google.colaboratory.intrinsic+json": {
              "type": "string"
            }
          },
          "metadata": {},
          "execution_count": 6
        }
      ]
    },
    {
      "cell_type": "code",
      "source": [
        "s[26]"
      ],
      "metadata": {
        "colab": {
          "base_uri": "https://localhost:8080/",
          "height": 180
        },
        "id": "jskKxToiv5Us",
        "outputId": "e3151a16-2077-4707-c435-896b6b695fe2"
      },
      "id": "jskKxToiv5Us",
      "execution_count": null,
      "outputs": [
        {
          "output_type": "error",
          "ename": "IndexError",
          "evalue": "ignored",
          "traceback": [
            "\u001b[0;31m---------------------------------------------------------------------------\u001b[0m",
            "\u001b[0;31mIndexError\u001b[0m                                Traceback (most recent call last)",
            "\u001b[0;32m<ipython-input-7-110a7b63557e>\u001b[0m in \u001b[0;36m<cell line: 1>\u001b[0;34m()\u001b[0m\n\u001b[0;32m----> 1\u001b[0;31m \u001b[0ms\u001b[0m\u001b[0;34m[\u001b[0m\u001b[0;36m26\u001b[0m\u001b[0;34m]\u001b[0m\u001b[0;34m\u001b[0m\u001b[0;34m\u001b[0m\u001b[0m\n\u001b[0m",
            "\u001b[0;31mIndexError\u001b[0m: string index out of range"
          ]
        }
      ]
    },
    {
      "cell_type": "code",
      "source": [
        "s[-1]"
      ],
      "metadata": {
        "colab": {
          "base_uri": "https://localhost:8080/",
          "height": 35
        },
        "id": "GBnAd-YzvwGq",
        "outputId": "f46c4303-5dc7-40e9-ac8f-fdb0a20a1bab"
      },
      "id": "GBnAd-YzvwGq",
      "execution_count": null,
      "outputs": [
        {
          "output_type": "execute_result",
          "data": {
            "text/plain": [
              "'z'"
            ],
            "application/vnd.google.colaboratory.intrinsic+json": {
              "type": "string"
            }
          },
          "metadata": {},
          "execution_count": 8
        }
      ]
    },
    {
      "cell_type": "code",
      "source": [
        "s[-2]"
      ],
      "metadata": {
        "colab": {
          "base_uri": "https://localhost:8080/",
          "height": 35
        },
        "id": "TZn_qa-cvxDh",
        "outputId": "4dbbe5c8-b2d4-4e1a-98d4-30a33bf81226"
      },
      "id": "TZn_qa-cvxDh",
      "execution_count": null,
      "outputs": [
        {
          "output_type": "execute_result",
          "data": {
            "text/plain": [
              "'y'"
            ],
            "application/vnd.google.colaboratory.intrinsic+json": {
              "type": "string"
            }
          },
          "metadata": {},
          "execution_count": 9
        }
      ]
    },
    {
      "cell_type": "code",
      "source": [
        "s[-3]"
      ],
      "metadata": {
        "colab": {
          "base_uri": "https://localhost:8080/",
          "height": 35
        },
        "id": "19nJ_Ot4vyG-",
        "outputId": "fea40518-37ab-4cb8-b761-7163009fff63"
      },
      "id": "19nJ_Ot4vyG-",
      "execution_count": null,
      "outputs": [
        {
          "output_type": "execute_result",
          "data": {
            "text/plain": [
              "'x'"
            ],
            "application/vnd.google.colaboratory.intrinsic+json": {
              "type": "string"
            }
          },
          "metadata": {},
          "execution_count": 10
        }
      ]
    },
    {
      "cell_type": "code",
      "source": [
        "s[-25]"
      ],
      "metadata": {
        "colab": {
          "base_uri": "https://localhost:8080/",
          "height": 35
        },
        "id": "byE8x4aPvy0F",
        "outputId": "3a934ea0-368e-4020-c5e1-9c95c572a1c3"
      },
      "id": "byE8x4aPvy0F",
      "execution_count": null,
      "outputs": [
        {
          "output_type": "execute_result",
          "data": {
            "text/plain": [
              "'b'"
            ],
            "application/vnd.google.colaboratory.intrinsic+json": {
              "type": "string"
            }
          },
          "metadata": {},
          "execution_count": 11
        }
      ]
    },
    {
      "cell_type": "code",
      "source": [
        "s[-26]"
      ],
      "metadata": {
        "colab": {
          "base_uri": "https://localhost:8080/",
          "height": 35
        },
        "id": "40HyXl1Jvzh5",
        "outputId": "38635037-6ecd-4dce-db12-1793ba44e9a7"
      },
      "id": "40HyXl1Jvzh5",
      "execution_count": null,
      "outputs": [
        {
          "output_type": "execute_result",
          "data": {
            "text/plain": [
              "'a'"
            ],
            "application/vnd.google.colaboratory.intrinsic+json": {
              "type": "string"
            }
          },
          "metadata": {},
          "execution_count": 12
        }
      ]
    },
    {
      "cell_type": "code",
      "execution_count": null,
      "id": "20489855",
      "metadata": {
        "colab": {
          "base_uri": "https://localhost:8080/",
          "height": 180
        },
        "id": "20489855",
        "outputId": "a097ffbf-a98f-4846-ca60-9040e2d8c725"
      },
      "outputs": [
        {
          "output_type": "error",
          "ename": "IndexError",
          "evalue": "ignored",
          "traceback": [
            "\u001b[0;31m---------------------------------------------------------------------------\u001b[0m",
            "\u001b[0;31mIndexError\u001b[0m                                Traceback (most recent call last)",
            "\u001b[0;32m<ipython-input-13-f0ae0de6c75e>\u001b[0m in \u001b[0;36m<cell line: 1>\u001b[0;34m()\u001b[0m\n\u001b[0;32m----> 1\u001b[0;31m \u001b[0ms\u001b[0m\u001b[0;34m[\u001b[0m\u001b[0;34m-\u001b[0m\u001b[0;36m27\u001b[0m\u001b[0;34m]\u001b[0m\u001b[0;34m\u001b[0m\u001b[0;34m\u001b[0m\u001b[0m\n\u001b[0m",
            "\u001b[0;31mIndexError\u001b[0m: string index out of range"
          ]
        }
      ],
      "source": [
        "s[-27]"
      ]
    },
    {
      "cell_type": "markdown",
      "id": "8e47b1e8",
      "metadata": {
        "id": "8e47b1e8"
      },
      "source": [
        "### 部分的に文字列を取り出す"
      ]
    },
    {
      "cell_type": "code",
      "source": [
        "s[0:7]"
      ],
      "metadata": {
        "colab": {
          "base_uri": "https://localhost:8080/",
          "height": 35
        },
        "id": "lIn_fAYfwFBq",
        "outputId": "bd91a6fb-1f5c-4610-80ee-e755c2f43a45"
      },
      "id": "lIn_fAYfwFBq",
      "execution_count": null,
      "outputs": [
        {
          "output_type": "execute_result",
          "data": {
            "text/plain": [
              "'abcdefg'"
            ],
            "application/vnd.google.colaboratory.intrinsic+json": {
              "type": "string"
            }
          },
          "metadata": {},
          "execution_count": 14
        }
      ]
    },
    {
      "cell_type": "code",
      "source": [
        "s[7:14]"
      ],
      "metadata": {
        "colab": {
          "base_uri": "https://localhost:8080/",
          "height": 35
        },
        "id": "0HPJMpi9wFgG",
        "outputId": "567fd313-8f7d-414d-9b8e-630830757e82"
      },
      "id": "0HPJMpi9wFgG",
      "execution_count": null,
      "outputs": [
        {
          "output_type": "execute_result",
          "data": {
            "text/plain": [
              "'hijklmn'"
            ],
            "application/vnd.google.colaboratory.intrinsic+json": {
              "type": "string"
            }
          },
          "metadata": {},
          "execution_count": 15
        }
      ]
    },
    {
      "cell_type": "code",
      "source": [
        "s[14:21]"
      ],
      "metadata": {
        "colab": {
          "base_uri": "https://localhost:8080/",
          "height": 35
        },
        "id": "5Rq7IaAkwGEm",
        "outputId": "7f5f348e-b991-4fce-a19a-637799a3bdb9"
      },
      "id": "5Rq7IaAkwGEm",
      "execution_count": null,
      "outputs": [
        {
          "output_type": "execute_result",
          "data": {
            "text/plain": [
              "'opqrstu'"
            ],
            "application/vnd.google.colaboratory.intrinsic+json": {
              "type": "string"
            }
          },
          "metadata": {},
          "execution_count": 16
        }
      ]
    },
    {
      "cell_type": "code",
      "source": [
        "s[21:26]"
      ],
      "metadata": {
        "colab": {
          "base_uri": "https://localhost:8080/",
          "height": 35
        },
        "id": "tV-EjweTwGko",
        "outputId": "40273b60-88fe-4076-973a-630594be3515"
      },
      "id": "tV-EjweTwGko",
      "execution_count": null,
      "outputs": [
        {
          "output_type": "execute_result",
          "data": {
            "text/plain": [
              "'vwxyz'"
            ],
            "application/vnd.google.colaboratory.intrinsic+json": {
              "type": "string"
            }
          },
          "metadata": {},
          "execution_count": 17
        }
      ]
    },
    {
      "cell_type": "code",
      "execution_count": null,
      "id": "34117fb9",
      "metadata": {
        "colab": {
          "base_uri": "https://localhost:8080/",
          "height": 35
        },
        "id": "34117fb9",
        "outputId": "e7e9d846-9a68-4d07-f27b-09ffc4e4c4c8"
      },
      "outputs": [
        {
          "output_type": "execute_result",
          "data": {
            "text/plain": [
              "'vwxy'"
            ],
            "application/vnd.google.colaboratory.intrinsic+json": {
              "type": "string"
            }
          },
          "metadata": {},
          "execution_count": 18
        }
      ],
      "source": [
        "s[-5:-1]"
      ]
    },
    {
      "cell_type": "code",
      "source": [
        "s[:10]"
      ],
      "metadata": {
        "colab": {
          "base_uri": "https://localhost:8080/",
          "height": 35
        },
        "id": "af7fL7HLwIeA",
        "outputId": "dcf79222-bb83-4dd0-935b-9fd4a78c39b8"
      },
      "id": "af7fL7HLwIeA",
      "execution_count": null,
      "outputs": [
        {
          "output_type": "execute_result",
          "data": {
            "text/plain": [
              "'abcdefghij'"
            ],
            "application/vnd.google.colaboratory.intrinsic+json": {
              "type": "string"
            }
          },
          "metadata": {},
          "execution_count": 19
        }
      ]
    },
    {
      "cell_type": "code",
      "source": [
        "s[10:]"
      ],
      "metadata": {
        "colab": {
          "base_uri": "https://localhost:8080/",
          "height": 35
        },
        "id": "9OdKvmmPwI4Z",
        "outputId": "a6f49019-7f59-453b-8eec-97779ad7d3cc"
      },
      "id": "9OdKvmmPwI4Z",
      "execution_count": null,
      "outputs": [
        {
          "output_type": "execute_result",
          "data": {
            "text/plain": [
              "'klmnopqrstuvwxyz'"
            ],
            "application/vnd.google.colaboratory.intrinsic+json": {
              "type": "string"
            }
          },
          "metadata": {},
          "execution_count": 20
        }
      ]
    },
    {
      "cell_type": "code",
      "source": [
        "s[-5:]"
      ],
      "metadata": {
        "colab": {
          "base_uri": "https://localhost:8080/",
          "height": 35
        },
        "id": "gpA-gjLgwJWr",
        "outputId": "72ebb4aa-4ba0-4af6-b07c-c10ccac7b9dd"
      },
      "id": "gpA-gjLgwJWr",
      "execution_count": null,
      "outputs": [
        {
          "output_type": "execute_result",
          "data": {
            "text/plain": [
              "'vwxyz'"
            ],
            "application/vnd.google.colaboratory.intrinsic+json": {
              "type": "string"
            }
          },
          "metadata": {},
          "execution_count": 21
        }
      ]
    },
    {
      "cell_type": "code",
      "source": [
        "s[:-20]"
      ],
      "metadata": {
        "colab": {
          "base_uri": "https://localhost:8080/",
          "height": 35
        },
        "id": "_favkpeHwJ2e",
        "outputId": "b2b4364a-a5a1-484b-a190-637c88820b81"
      },
      "id": "_favkpeHwJ2e",
      "execution_count": null,
      "outputs": [
        {
          "output_type": "execute_result",
          "data": {
            "text/plain": [
              "'abcdef'"
            ],
            "application/vnd.google.colaboratory.intrinsic+json": {
              "type": "string"
            }
          },
          "metadata": {},
          "execution_count": 22
        }
      ]
    },
    {
      "cell_type": "code",
      "source": [
        "s[:]"
      ],
      "metadata": {
        "colab": {
          "base_uri": "https://localhost:8080/",
          "height": 35
        },
        "id": "Rqj9YXevwL5U",
        "outputId": "f1421354-0c57-442c-b12b-f4892e920167"
      },
      "id": "Rqj9YXevwL5U",
      "execution_count": null,
      "outputs": [
        {
          "output_type": "execute_result",
          "data": {
            "text/plain": [
              "'abcdefghijklmnopqrstuvwxyz'"
            ],
            "application/vnd.google.colaboratory.intrinsic+json": {
              "type": "string"
            }
          },
          "metadata": {},
          "execution_count": 23
        }
      ]
    },
    {
      "cell_type": "markdown",
      "id": "41264b47",
      "metadata": {
        "id": "41264b47"
      },
      "source": [
        "### 飛び飛びで文字列を取得する"
      ]
    },
    {
      "cell_type": "code",
      "source": [
        "s[0:10:2]"
      ],
      "metadata": {
        "colab": {
          "base_uri": "https://localhost:8080/",
          "height": 35
        },
        "id": "TRBc2-ZtwUlN",
        "outputId": "df1e0276-a3e0-425f-f64c-cb0487aa539e"
      },
      "id": "TRBc2-ZtwUlN",
      "execution_count": null,
      "outputs": [
        {
          "output_type": "execute_result",
          "data": {
            "text/plain": [
              "'acegi'"
            ],
            "application/vnd.google.colaboratory.intrinsic+json": {
              "type": "string"
            }
          },
          "metadata": {},
          "execution_count": 24
        }
      ]
    },
    {
      "cell_type": "code",
      "source": [
        "s[1:20:3]"
      ],
      "metadata": {
        "colab": {
          "base_uri": "https://localhost:8080/",
          "height": 35
        },
        "id": "ti-4OABvwVVl",
        "outputId": "03dd5a64-5747-4823-e015-59fe24851560"
      },
      "id": "ti-4OABvwVVl",
      "execution_count": null,
      "outputs": [
        {
          "output_type": "execute_result",
          "data": {
            "text/plain": [
              "'behknqt'"
            ],
            "application/vnd.google.colaboratory.intrinsic+json": {
              "type": "string"
            }
          },
          "metadata": {},
          "execution_count": 25
        }
      ]
    },
    {
      "cell_type": "code",
      "source": [
        "s[-1:-6:-1]"
      ],
      "metadata": {
        "colab": {
          "base_uri": "https://localhost:8080/",
          "height": 35
        },
        "id": "oh0hWjWJwWFP",
        "outputId": "5aca2499-f7a9-4317-87c6-bbcfa9ad5d43"
      },
      "id": "oh0hWjWJwWFP",
      "execution_count": null,
      "outputs": [
        {
          "output_type": "execute_result",
          "data": {
            "text/plain": [
              "'zyxwv'"
            ],
            "application/vnd.google.colaboratory.intrinsic+json": {
              "type": "string"
            }
          },
          "metadata": {},
          "execution_count": 26
        }
      ]
    },
    {
      "cell_type": "code",
      "source": [
        "s[-1:-10:-2]"
      ],
      "metadata": {
        "colab": {
          "base_uri": "https://localhost:8080/",
          "height": 35
        },
        "id": "XIE8mn4ywWqh",
        "outputId": "367eb8b6-9157-494a-e5d1-2012ff7a6b1c"
      },
      "id": "XIE8mn4ywWqh",
      "execution_count": null,
      "outputs": [
        {
          "output_type": "execute_result",
          "data": {
            "text/plain": [
              "'zxvtr'"
            ],
            "application/vnd.google.colaboratory.intrinsic+json": {
              "type": "string"
            }
          },
          "metadata": {},
          "execution_count": 27
        }
      ]
    },
    {
      "cell_type": "code",
      "source": [
        "s[::-1]"
      ],
      "metadata": {
        "colab": {
          "base_uri": "https://localhost:8080/",
          "height": 35
        },
        "id": "5xgucUhUwXfC",
        "outputId": "46c7ffc4-4e7c-4e5d-c11f-984db1e16230"
      },
      "id": "5xgucUhUwXfC",
      "execution_count": null,
      "outputs": [
        {
          "output_type": "execute_result",
          "data": {
            "text/plain": [
              "'zyxwvutsrqponmlkjihgfedcba'"
            ],
            "application/vnd.google.colaboratory.intrinsic+json": {
              "type": "string"
            }
          },
          "metadata": {},
          "execution_count": 28
        }
      ]
    },
    {
      "cell_type": "code",
      "execution_count": null,
      "id": "927a772d",
      "metadata": {
        "colab": {
          "base_uri": "https://localhost:8080/",
          "height": 35
        },
        "id": "927a772d",
        "outputId": "0b82a3ae-8819-4600-ec35-0cc12b766745"
      },
      "outputs": [
        {
          "output_type": "execute_result",
          "data": {
            "text/plain": [
              "'abcdefghijklmnopqrstuvwxyz'"
            ],
            "application/vnd.google.colaboratory.intrinsic+json": {
              "type": "string"
            }
          },
          "metadata": {},
          "execution_count": 29
        }
      ],
      "source": [
        "s[::]"
      ]
    },
    {
      "cell_type": "code",
      "source": [
        "def is_kaibun(s):\n",
        "    if s == s[::-1]: # 元の値とひっくり返した値が同値である\n",
        "        return True\n",
        "    else:\n",
        "\n",
        "        return False\n",
        "\n",
        "s = \"にんてんどううどんてんに\"\n",
        "result = is_kaibun(s)\n",
        "if result: # True\n",
        "    print(f\"「{s}」は回文です！\")\n",
        "else: # False\n",
        "    print(f\"「{s}」は回文ではないようです。\")\n",
        "\n",
        "s = \"Pythonは便利だが遅い\"\n",
        "result = is_kaibun(s)\n",
        "if result: # True\n",
        "    print(f\"「{s}」は回文です！\")\n",
        "else: # False\n",
        "    print(f\"「{s}」は回文ではないようです。\")\n",
        "\n",
        "s = \"no devil lived on\"\n",
        "result = is_kaibun(s)\n",
        "if result: # True\n",
        "    print(f\"「{s}」は回文です！\")\n",
        "else: # False\n",
        "    print(f\"「{s}」は回文ではないようです。\")"
      ],
      "metadata": {
        "colab": {
          "base_uri": "https://localhost:8080/"
        },
        "id": "7DKfUh82Xz1Y",
        "outputId": "a4ece3fe-123b-485f-b1f4-5dc0e7c0d6e7"
      },
      "id": "7DKfUh82Xz1Y",
      "execution_count": null,
      "outputs": [
        {
          "output_type": "stream",
          "name": "stdout",
          "text": [
            "「にんてんどううどんてんに」は回文です！\n",
            "「Pythonは便利だが遅い」は回文ではないようです。\n",
            "「no devil lived on」は回文です！\n"
          ]
        }
      ]
    },
    {
      "cell_type": "markdown",
      "id": "6995b49c",
      "metadata": {
        "id": "6995b49c"
      },
      "source": [
        "## リストの基本"
      ]
    },
    {
      "cell_type": "markdown",
      "source": [
        "### リストを作成する"
      ],
      "metadata": {
        "id": "TPnzPhCRnRIy"
      },
      "id": "TPnzPhCRnRIy"
    },
    {
      "cell_type": "markdown",
      "source": [
        "#### `[]`でリストを定義する"
      ],
      "metadata": {
        "id": "VG86AX46l26a"
      },
      "id": "VG86AX46l26a"
    },
    {
      "cell_type": "code",
      "execution_count": null,
      "id": "a6f2fc62",
      "metadata": {
        "id": "a6f2fc62"
      },
      "outputs": [],
      "source": [
        "a = [2, 5, 3, 6, 1, 4]\n",
        "b = [\"tanaka\", \"suzuki\", \"takahashi\"]\n",
        "c = []\n",
        "d = [3, \"test\", 7, \"hoge\", \"fuga\", 10]"
      ]
    },
    {
      "cell_type": "code",
      "execution_count": null,
      "id": "abba6f41",
      "metadata": {
        "colab": {
          "base_uri": "https://localhost:8080/"
        },
        "id": "abba6f41",
        "outputId": "1632168a-879e-46b1-9e44-fdca6eebfcc4"
      },
      "outputs": [
        {
          "output_type": "stream",
          "name": "stdout",
          "text": [
            "[2, 5, 3, 6, 1, 4]\n",
            "['tanaka', 'suzuki', 'takahashi']\n",
            "[]\n",
            "[3, 'test', 7, 'hoge', 'fuga', 10]\n"
          ]
        }
      ],
      "source": [
        "print(a)\n",
        "print(b)\n",
        "print(c)\n",
        "print(d)"
      ]
    },
    {
      "cell_type": "code",
      "execution_count": null,
      "id": "dea8d703",
      "metadata": {
        "colab": {
          "base_uri": "https://localhost:8080/"
        },
        "id": "dea8d703",
        "outputId": "1c534d26-8217-4432-d2c1-711ef387177a"
      },
      "outputs": [
        {
          "output_type": "execute_result",
          "data": {
            "text/plain": [
              "list"
            ]
          },
          "metadata": {},
          "execution_count": 40
        }
      ],
      "source": [
        "type(a)"
      ]
    },
    {
      "cell_type": "markdown",
      "id": "ef15e3e0",
      "metadata": {
        "id": "ef15e3e0"
      },
      "source": [
        "#### `list()`関数を使う"
      ]
    },
    {
      "cell_type": "code",
      "source": [
        "e = list(\"TechAcademy\")\n",
        "e"
      ],
      "metadata": {
        "colab": {
          "base_uri": "https://localhost:8080/"
        },
        "id": "5U_wK20mww3b",
        "outputId": "c8243ddc-c0e1-4a33-d1d3-6e6c23b6d510"
      },
      "id": "5U_wK20mww3b",
      "execution_count": null,
      "outputs": [
        {
          "output_type": "execute_result",
          "data": {
            "text/plain": [
              "['T', 'e', 'c', 'h', 'A', 'c', 'a', 'd', 'e', 'm', 'y']"
            ]
          },
          "metadata": {},
          "execution_count": 41
        }
      ]
    },
    {
      "cell_type": "code",
      "source": [
        "f = list(range(1, 11, 2))\n",
        "f"
      ],
      "metadata": {
        "colab": {
          "base_uri": "https://localhost:8080/"
        },
        "id": "N004J-arwxwb",
        "outputId": "9c4f83cf-3d3c-49ea-ee97-98f8d7e56f65"
      },
      "id": "N004J-arwxwb",
      "execution_count": null,
      "outputs": [
        {
          "output_type": "execute_result",
          "data": {
            "text/plain": [
              "[1, 3, 5, 7, 9]"
            ]
          },
          "metadata": {},
          "execution_count": 42
        }
      ]
    },
    {
      "cell_type": "code",
      "execution_count": null,
      "id": "a58469d1",
      "metadata": {
        "colab": {
          "base_uri": "https://localhost:8080/"
        },
        "id": "a58469d1",
        "outputId": "0f4e482c-bbbb-4cdb-b121-c07234646c24"
      },
      "outputs": [
        {
          "output_type": "execute_result",
          "data": {
            "text/plain": [
              "[]"
            ]
          },
          "metadata": {},
          "execution_count": 43
        }
      ],
      "source": [
        "g = list()\n",
        "g"
      ]
    },
    {
      "cell_type": "markdown",
      "id": "f39ec84f",
      "metadata": {
        "id": "f39ec84f"
      },
      "source": [
        "### リストの要素を参照する"
      ]
    },
    {
      "cell_type": "code",
      "source": [
        "a[0]"
      ],
      "metadata": {
        "colab": {
          "base_uri": "https://localhost:8080/"
        },
        "id": "0xbN-PSSxASA",
        "outputId": "1d66b9d7-b1a8-451b-8c9e-12c33a32d20c"
      },
      "id": "0xbN-PSSxASA",
      "execution_count": null,
      "outputs": [
        {
          "output_type": "execute_result",
          "data": {
            "text/plain": [
              "2"
            ]
          },
          "metadata": {},
          "execution_count": 33
        }
      ]
    },
    {
      "cell_type": "code",
      "source": [
        "a[1]"
      ],
      "metadata": {
        "colab": {
          "base_uri": "https://localhost:8080/"
        },
        "id": "v_3D44ZwxAz4",
        "outputId": "7b5dd1a4-9120-4b7c-f18c-f44db1627c7d"
      },
      "id": "v_3D44ZwxAz4",
      "execution_count": null,
      "outputs": [
        {
          "output_type": "execute_result",
          "data": {
            "text/plain": [
              "5"
            ]
          },
          "metadata": {},
          "execution_count": 34
        }
      ]
    },
    {
      "cell_type": "code",
      "source": [
        "b[0]"
      ],
      "metadata": {
        "colab": {
          "base_uri": "https://localhost:8080/",
          "height": 35
        },
        "id": "GTSZXZ-qxBYf",
        "outputId": "fb958636-5254-4f10-a03f-4aac367f9ff1"
      },
      "id": "GTSZXZ-qxBYf",
      "execution_count": null,
      "outputs": [
        {
          "output_type": "execute_result",
          "data": {
            "text/plain": [
              "'tanaka'"
            ],
            "application/vnd.google.colaboratory.intrinsic+json": {
              "type": "string"
            }
          },
          "metadata": {},
          "execution_count": 35
        }
      ]
    },
    {
      "cell_type": "code",
      "source": [
        "b[1]"
      ],
      "metadata": {
        "colab": {
          "base_uri": "https://localhost:8080/",
          "height": 35
        },
        "id": "ClNL3uobxB34",
        "outputId": "1fac7e12-f642-4574-ba6d-880b8a02aadf"
      },
      "id": "ClNL3uobxB34",
      "execution_count": null,
      "outputs": [
        {
          "output_type": "execute_result",
          "data": {
            "text/plain": [
              "'suzuki'"
            ],
            "application/vnd.google.colaboratory.intrinsic+json": {
              "type": "string"
            }
          },
          "metadata": {},
          "execution_count": 36
        }
      ]
    },
    {
      "cell_type": "code",
      "source": [
        "d[0]"
      ],
      "metadata": {
        "colab": {
          "base_uri": "https://localhost:8080/"
        },
        "id": "ujoD3KtHxCfZ",
        "outputId": "dc26316a-1e31-4e2f-f8ca-2df8545296ea"
      },
      "id": "ujoD3KtHxCfZ",
      "execution_count": null,
      "outputs": [
        {
          "output_type": "execute_result",
          "data": {
            "text/plain": [
              "3"
            ]
          },
          "metadata": {},
          "execution_count": 37
        }
      ]
    },
    {
      "cell_type": "code",
      "source": [
        "d[1]"
      ],
      "metadata": {
        "colab": {
          "base_uri": "https://localhost:8080/",
          "height": 35
        },
        "id": "wG_ahqhuxDEK",
        "outputId": "8b6a0efe-fa5c-4080-e8f1-71c7fbf8876a"
      },
      "id": "wG_ahqhuxDEK",
      "execution_count": null,
      "outputs": [
        {
          "output_type": "execute_result",
          "data": {
            "text/plain": [
              "'test'"
            ],
            "application/vnd.google.colaboratory.intrinsic+json": {
              "type": "string"
            }
          },
          "metadata": {},
          "execution_count": 38
        }
      ]
    },
    {
      "cell_type": "code",
      "source": [
        "e[0]"
      ],
      "metadata": {
        "colab": {
          "base_uri": "https://localhost:8080/",
          "height": 35
        },
        "id": "zOBFwBzJxEVG",
        "outputId": "76f47d19-9717-45a7-cc30-ed0a8da767e1"
      },
      "id": "zOBFwBzJxEVG",
      "execution_count": null,
      "outputs": [
        {
          "output_type": "execute_result",
          "data": {
            "text/plain": [
              "'T'"
            ],
            "application/vnd.google.colaboratory.intrinsic+json": {
              "type": "string"
            }
          },
          "metadata": {},
          "execution_count": 44
        }
      ]
    },
    {
      "cell_type": "code",
      "source": [
        "e[1]"
      ],
      "metadata": {
        "colab": {
          "base_uri": "https://localhost:8080/",
          "height": 35
        },
        "id": "-SLI4KXDxEvJ",
        "outputId": "4e869cc6-5e3c-4b19-bc99-82528ae53083"
      },
      "id": "-SLI4KXDxEvJ",
      "execution_count": null,
      "outputs": [
        {
          "output_type": "execute_result",
          "data": {
            "text/plain": [
              "'e'"
            ],
            "application/vnd.google.colaboratory.intrinsic+json": {
              "type": "string"
            }
          },
          "metadata": {},
          "execution_count": 45
        }
      ]
    },
    {
      "cell_type": "code",
      "source": [
        "f[0]"
      ],
      "metadata": {
        "colab": {
          "base_uri": "https://localhost:8080/"
        },
        "id": "zCcr__g5xFbc",
        "outputId": "dca65630-a4a0-4ee8-ed13-c5ff8113303d"
      },
      "id": "zCcr__g5xFbc",
      "execution_count": null,
      "outputs": [
        {
          "output_type": "execute_result",
          "data": {
            "text/plain": [
              "1"
            ]
          },
          "metadata": {},
          "execution_count": 46
        }
      ]
    },
    {
      "cell_type": "code",
      "source": [
        "f[1]"
      ],
      "metadata": {
        "colab": {
          "base_uri": "https://localhost:8080/"
        },
        "id": "P-LOxWIlxF3p",
        "outputId": "018dcf01-194a-4791-d5b0-18d3ffc61267"
      },
      "id": "P-LOxWIlxF3p",
      "execution_count": null,
      "outputs": [
        {
          "output_type": "execute_result",
          "data": {
            "text/plain": [
              "3"
            ]
          },
          "metadata": {},
          "execution_count": 47
        }
      ]
    },
    {
      "cell_type": "code",
      "source": [
        "a[1:4]"
      ],
      "metadata": {
        "colab": {
          "base_uri": "https://localhost:8080/"
        },
        "id": "jI09NYpjxGnS",
        "outputId": "2043023b-0cc3-478f-a47d-590e25b46251"
      },
      "id": "jI09NYpjxGnS",
      "execution_count": null,
      "outputs": [
        {
          "output_type": "execute_result",
          "data": {
            "text/plain": [
              "[5, 3, 6]"
            ]
          },
          "metadata": {},
          "execution_count": 48
        }
      ]
    },
    {
      "cell_type": "code",
      "source": [
        "b[1:3]"
      ],
      "metadata": {
        "colab": {
          "base_uri": "https://localhost:8080/"
        },
        "id": "iLlyG0XNxHSm",
        "outputId": "55fe792c-0542-4ebe-86d6-5ffe5383d248"
      },
      "id": "iLlyG0XNxHSm",
      "execution_count": null,
      "outputs": [
        {
          "output_type": "execute_result",
          "data": {
            "text/plain": [
              "['suzuki', 'takahashi']"
            ]
          },
          "metadata": {},
          "execution_count": 49
        }
      ]
    },
    {
      "cell_type": "code",
      "source": [
        "d[:4]"
      ],
      "metadata": {
        "colab": {
          "base_uri": "https://localhost:8080/"
        },
        "id": "2lNSPRZDxIf7",
        "outputId": "30fe4466-d397-42cd-8a6b-a771c6ff3d1f"
      },
      "id": "2lNSPRZDxIf7",
      "execution_count": null,
      "outputs": [
        {
          "output_type": "execute_result",
          "data": {
            "text/plain": [
              "[3, 'test', 7, 'hoge']"
            ]
          },
          "metadata": {},
          "execution_count": 50
        }
      ]
    },
    {
      "cell_type": "code",
      "source": [
        "e[1:10:2]"
      ],
      "metadata": {
        "colab": {
          "base_uri": "https://localhost:8080/"
        },
        "id": "Za958xqCxJgR",
        "outputId": "808de56c-2ae6-4879-f74f-763d2dc8f7e5"
      },
      "id": "Za958xqCxJgR",
      "execution_count": null,
      "outputs": [
        {
          "output_type": "execute_result",
          "data": {
            "text/plain": [
              "['e', 'h', 'c', 'd', 'm']"
            ]
          },
          "metadata": {},
          "execution_count": 51
        }
      ]
    },
    {
      "cell_type": "code",
      "execution_count": null,
      "id": "cab512e6",
      "metadata": {
        "colab": {
          "base_uri": "https://localhost:8080/"
        },
        "id": "cab512e6",
        "outputId": "1638d06b-e6c7-4a69-b3c0-206907427e17"
      },
      "outputs": [
        {
          "output_type": "execute_result",
          "data": {
            "text/plain": [
              "[1, 5, 9]"
            ]
          },
          "metadata": {},
          "execution_count": 52
        }
      ],
      "source": [
        "f[::2]"
      ]
    },
    {
      "cell_type": "code",
      "execution_count": null,
      "id": "6faec5ab",
      "metadata": {
        "colab": {
          "base_uri": "https://localhost:8080/",
          "height": 180
        },
        "id": "6faec5ab",
        "outputId": "38a834ad-c1fb-45aa-9c1a-1f11a30e5c2f"
      },
      "outputs": [
        {
          "output_type": "error",
          "ename": "IndexError",
          "evalue": "ignored",
          "traceback": [
            "\u001b[0;31m---------------------------------------------------------------------------\u001b[0m",
            "\u001b[0;31mIndexError\u001b[0m                                Traceback (most recent call last)",
            "\u001b[0;32m<ipython-input-53-71463270cd6c>\u001b[0m in \u001b[0;36m<cell line: 1>\u001b[0;34m()\u001b[0m\n\u001b[0;32m----> 1\u001b[0;31m \u001b[0mc\u001b[0m\u001b[0;34m[\u001b[0m\u001b[0;36m0\u001b[0m\u001b[0;34m]\u001b[0m\u001b[0;34m\u001b[0m\u001b[0;34m\u001b[0m\u001b[0m\n\u001b[0m",
            "\u001b[0;31mIndexError\u001b[0m: list index out of range"
          ]
        }
      ],
      "source": [
        "c[0]"
      ]
    },
    {
      "cell_type": "markdown",
      "id": "5e594aac",
      "metadata": {
        "id": "5e594aac"
      },
      "source": [
        "### リストを操作する"
      ]
    },
    {
      "cell_type": "markdown",
      "source": [
        "#### 要素を追加する"
      ],
      "metadata": {
        "id": "i9F8VPEepGSi"
      },
      "id": "i9F8VPEepGSi"
    },
    {
      "cell_type": "code",
      "execution_count": null,
      "id": "1276416c",
      "metadata": {
        "colab": {
          "base_uri": "https://localhost:8080/"
        },
        "id": "1276416c",
        "outputId": "201b2794-0319-435f-a31b-1d5ddde83000"
      },
      "outputs": [
        {
          "output_type": "execute_result",
          "data": {
            "text/plain": [
              "['apple', 'banana', 'orange']"
            ]
          },
          "metadata": {},
          "execution_count": 54
        }
      ],
      "source": [
        "fruits = []\n",
        "fruits.append(\"apple\")\n",
        "fruits.append(\"banana\")\n",
        "fruits.append(\"orange\")\n",
        "fruits"
      ]
    },
    {
      "cell_type": "code",
      "source": [
        "nums = []\n",
        "for i in range(5, 11): # 5から11-1までの整数\n",
        "    nums.append(i * 3.14) # iを3.14倍したもの\n",
        "nums"
      ],
      "metadata": {
        "colab": {
          "base_uri": "https://localhost:8080/"
        },
        "id": "QmpoHDyP5f0U",
        "outputId": "dfa31a44-75ab-4f6a-8cd5-4024a358e6e6"
      },
      "id": "QmpoHDyP5f0U",
      "execution_count": null,
      "outputs": [
        {
          "output_type": "execute_result",
          "data": {
            "text/plain": [
              "[15.700000000000001, 18.84, 21.98, 25.12, 28.26, 31.400000000000002]"
            ]
          },
          "metadata": {},
          "execution_count": 55
        }
      ]
    },
    {
      "cell_type": "code",
      "execution_count": null,
      "id": "33424890",
      "metadata": {
        "colab": {
          "base_uri": "https://localhost:8080/"
        },
        "id": "33424890",
        "outputId": "0f32da28-af8d-4e4f-8f7b-b9015dffdf46"
      },
      "outputs": [
        {
          "output_type": "execute_result",
          "data": {
            "text/plain": [
              "['apple', 'peach', 'banana', 'orange']"
            ]
          },
          "metadata": {},
          "execution_count": 56
        }
      ],
      "source": [
        "fruits.insert(1, \"peach\")\n",
        "fruits"
      ]
    },
    {
      "cell_type": "markdown",
      "id": "a944179f",
      "metadata": {
        "id": "a944179f"
      },
      "source": [
        "#### 別のリストを連結する"
      ]
    },
    {
      "cell_type": "code",
      "execution_count": null,
      "id": "c1a38082",
      "metadata": {
        "colab": {
          "base_uri": "https://localhost:8080/"
        },
        "id": "c1a38082",
        "outputId": "eb2db192-4254-4498-aebf-8503affaabf3"
      },
      "outputs": [
        {
          "output_type": "execute_result",
          "data": {
            "text/plain": [
              "[1, 2, 3, 4, 5, 6]"
            ]
          },
          "metadata": {},
          "execution_count": 57
        }
      ],
      "source": [
        "num1 = [1, 2, 3]\n",
        "num2 = [4, 5, 6]\n",
        "num3 = num1 + num2\n",
        "num3"
      ]
    },
    {
      "cell_type": "code",
      "source": [
        "num3 += [7, 8, 9]\n",
        "num3"
      ],
      "metadata": {
        "colab": {
          "base_uri": "https://localhost:8080/"
        },
        "id": "lnvV1tL5x-A5",
        "outputId": "7da9d151-891b-4ecc-fe9c-09bf9925efcd"
      },
      "id": "lnvV1tL5x-A5",
      "execution_count": null,
      "outputs": [
        {
          "output_type": "execute_result",
          "data": {
            "text/plain": [
              "[1, 2, 3, 4, 5, 6, 7, 8, 9]"
            ]
          },
          "metadata": {},
          "execution_count": 58
        }
      ]
    },
    {
      "cell_type": "code",
      "execution_count": null,
      "id": "73fce013",
      "metadata": {
        "colab": {
          "base_uri": "https://localhost:8080/"
        },
        "id": "73fce013",
        "outputId": "1908e9a3-4b43-4413-b2c6-b0bba9b5c426"
      },
      "outputs": [
        {
          "output_type": "execute_result",
          "data": {
            "text/plain": [
              "[1, 2, 3, 1, 2, 3, 1, 2, 3]"
            ]
          },
          "metadata": {},
          "execution_count": 59
        }
      ],
      "source": [
        "num4 = num1 * 3\n",
        "num4"
      ]
    },
    {
      "cell_type": "code",
      "source": [
        "num4 *= 2\n",
        "num4"
      ],
      "metadata": {
        "colab": {
          "base_uri": "https://localhost:8080/"
        },
        "id": "Fpj4t0yDyBqq",
        "outputId": "939ba4c5-cfd0-4dfb-b8cb-83b6c14784c4"
      },
      "id": "Fpj4t0yDyBqq",
      "execution_count": null,
      "outputs": [
        {
          "output_type": "execute_result",
          "data": {
            "text/plain": [
              "[1, 2, 3, 1, 2, 3, 1, 2, 3, 1, 2, 3, 1, 2, 3, 1, 2, 3]"
            ]
          },
          "metadata": {},
          "execution_count": 60
        }
      ]
    },
    {
      "cell_type": "markdown",
      "id": "0fdb9a36",
      "metadata": {
        "id": "0fdb9a36"
      },
      "source": [
        "#### 要素の参照"
      ]
    },
    {
      "cell_type": "code",
      "execution_count": null,
      "id": "60a1398b",
      "metadata": {
        "colab": {
          "base_uri": "https://localhost:8080/"
        },
        "id": "60a1398b",
        "outputId": "d1aacc8b-51ca-4c7c-fca1-ce7ebc3520ec"
      },
      "outputs": [
        {
          "output_type": "stream",
          "name": "stdout",
          "text": [
            "apple\n",
            "peach\n"
          ]
        }
      ],
      "source": [
        "print(fruits[0])\n",
        "print(fruits[1])"
      ]
    },
    {
      "cell_type": "code",
      "source": [
        "fruits[-1]"
      ],
      "metadata": {
        "colab": {
          "base_uri": "https://localhost:8080/",
          "height": 35
        },
        "id": "7gt23GtDY7kl",
        "outputId": "b1aed107-704c-49ef-a3c0-e627b33cacbe"
      },
      "id": "7gt23GtDY7kl",
      "execution_count": null,
      "outputs": [
        {
          "output_type": "execute_result",
          "data": {
            "text/plain": [
              "'orange'"
            ],
            "application/vnd.google.colaboratory.intrinsic+json": {
              "type": "string"
            }
          },
          "metadata": {},
          "execution_count": 62
        }
      ]
    },
    {
      "cell_type": "code",
      "source": [
        "# リストから1件ずつ表示\n",
        "for s in fruits:\n",
        "    print(s)"
      ],
      "metadata": {
        "id": "07HSYWka6caK",
        "colab": {
          "base_uri": "https://localhost:8080/"
        },
        "outputId": "d2fe3b47-be73-463d-95cc-87bbdfd93859"
      },
      "id": "07HSYWka6caK",
      "execution_count": null,
      "outputs": [
        {
          "output_type": "stream",
          "name": "stdout",
          "text": [
            "apple\n",
            "peach\n",
            "banana\n",
            "orange\n"
          ]
        }
      ]
    },
    {
      "cell_type": "code",
      "source": [
        "counter = 0\n",
        "for s in fruits:\n",
        "    print(f\"{counter=}, {s=}\")\n",
        "    counter += 1 # インクリメントする(`counter = counter + 1`)"
      ],
      "metadata": {
        "colab": {
          "base_uri": "https://localhost:8080/"
        },
        "id": "WTQAX3oJRkgy",
        "outputId": "b4a8b891-5f31-4777-c339-fd4c0f07f1aa"
      },
      "id": "WTQAX3oJRkgy",
      "execution_count": null,
      "outputs": [
        {
          "output_type": "stream",
          "name": "stdout",
          "text": [
            "counter=0, s='apple'\n",
            "counter=1, s='peach'\n",
            "counter=2, s='banana'\n",
            "counter=3, s='orange'\n"
          ]
        }
      ]
    },
    {
      "cell_type": "markdown",
      "id": "b2124944",
      "metadata": {
        "id": "b2124944"
      },
      "source": [
        "#### アンパック"
      ]
    },
    {
      "cell_type": "code",
      "execution_count": null,
      "id": "71e8073d",
      "metadata": {
        "colab": {
          "base_uri": "https://localhost:8080/"
        },
        "id": "71e8073d",
        "outputId": "5f0949f1-d3ba-48e3-a39b-23611c5399fa"
      },
      "outputs": [
        {
          "output_type": "stream",
          "name": "stdout",
          "text": [
            "10\n",
            "20\n",
            "30\n"
          ]
        }
      ],
      "source": [
        "nums = [10, 20, 30]\n",
        "a, b, c = nums\n",
        "print(a)\n",
        "print(b)\n",
        "print(c)"
      ]
    },
    {
      "cell_type": "markdown",
      "id": "aec4c69f",
      "metadata": {
        "id": "aec4c69f"
      },
      "source": [
        "#### 要素の更新"
      ]
    },
    {
      "cell_type": "code",
      "execution_count": null,
      "id": "1634568b",
      "metadata": {
        "colab": {
          "base_uri": "https://localhost:8080/"
        },
        "id": "1634568b",
        "outputId": "0fe55e07-195a-4cae-c33b-2260edb64dce"
      },
      "outputs": [
        {
          "output_type": "execute_result",
          "data": {
            "text/plain": [
              "['apple', 'peach', 'strawberry', 'orange']"
            ]
          },
          "metadata": {},
          "execution_count": 66
        }
      ],
      "source": [
        "fruits[2] = \"strawberry\"\n",
        "fruits"
      ]
    },
    {
      "cell_type": "code",
      "execution_count": null,
      "id": "551050ab",
      "metadata": {
        "colab": {
          "base_uri": "https://localhost:8080/",
          "height": 180
        },
        "id": "551050ab",
        "outputId": "dc409b0c-74d4-4adb-99a4-4104e7720a43"
      },
      "outputs": [
        {
          "output_type": "error",
          "ename": "IndexError",
          "evalue": "ignored",
          "traceback": [
            "\u001b[0;31m---------------------------------------------------------------------------\u001b[0m",
            "\u001b[0;31mIndexError\u001b[0m                                Traceback (most recent call last)",
            "\u001b[0;32m<ipython-input-67-9434fef2209b>\u001b[0m in \u001b[0;36m<cell line: 1>\u001b[0;34m()\u001b[0m\n\u001b[0;32m----> 1\u001b[0;31m \u001b[0mfruits\u001b[0m\u001b[0;34m[\u001b[0m\u001b[0;36m4\u001b[0m\u001b[0;34m]\u001b[0m \u001b[0;34m=\u001b[0m \u001b[0;34m\"lemon\"\u001b[0m\u001b[0;34m\u001b[0m\u001b[0;34m\u001b[0m\u001b[0m\n\u001b[0m",
            "\u001b[0;31mIndexError\u001b[0m: list assignment index out of range"
          ]
        }
      ],
      "source": [
        "fruits[4] = \"lemon\""
      ]
    },
    {
      "cell_type": "markdown",
      "id": "e1840393",
      "metadata": {
        "id": "e1840393"
      },
      "source": [
        "#### 要素の削除\n",
        "\n",
        "リストから特定の要素を削除する(抜き取る)には `pop()`というメソッドを使います。`pop()`の引数を省略するとリストの最後尾の要素を削除します。"
      ]
    },
    {
      "cell_type": "code",
      "source": [
        "fruits"
      ],
      "metadata": {
        "colab": {
          "base_uri": "https://localhost:8080/"
        },
        "id": "KHm_p4VxyS_n",
        "outputId": "42940f3a-4e9c-46db-cf74-261a3af65962"
      },
      "id": "KHm_p4VxyS_n",
      "execution_count": null,
      "outputs": [
        {
          "output_type": "execute_result",
          "data": {
            "text/plain": [
              "['apple', 'peach', 'strawberry', 'orange']"
            ]
          },
          "metadata": {},
          "execution_count": 68
        }
      ]
    },
    {
      "cell_type": "code",
      "source": [
        "fruits.pop()"
      ],
      "metadata": {
        "colab": {
          "base_uri": "https://localhost:8080/",
          "height": 35
        },
        "id": "EgwW0zEhyQEH",
        "outputId": "081d669f-23d4-4088-ea0e-d9ac9028ba58"
      },
      "id": "EgwW0zEhyQEH",
      "execution_count": null,
      "outputs": [
        {
          "output_type": "execute_result",
          "data": {
            "text/plain": [
              "'orange'"
            ],
            "application/vnd.google.colaboratory.intrinsic+json": {
              "type": "string"
            }
          },
          "metadata": {},
          "execution_count": 69
        }
      ]
    },
    {
      "cell_type": "code",
      "source": [
        "fruits.pop()"
      ],
      "metadata": {
        "colab": {
          "base_uri": "https://localhost:8080/",
          "height": 35
        },
        "id": "jaivt5L-yQkQ",
        "outputId": "d1704f9d-b879-4a56-c295-dd70446c75cb"
      },
      "id": "jaivt5L-yQkQ",
      "execution_count": null,
      "outputs": [
        {
          "output_type": "execute_result",
          "data": {
            "text/plain": [
              "'strawberry'"
            ],
            "application/vnd.google.colaboratory.intrinsic+json": {
              "type": "string"
            }
          },
          "metadata": {},
          "execution_count": 70
        }
      ]
    },
    {
      "cell_type": "code",
      "execution_count": null,
      "id": "458471a4",
      "metadata": {
        "colab": {
          "base_uri": "https://localhost:8080/"
        },
        "id": "458471a4",
        "outputId": "9c3d984f-990d-436a-ac62-67e7d8cd5f00"
      },
      "outputs": [
        {
          "output_type": "execute_result",
          "data": {
            "text/plain": [
              "['apple', 'peach']"
            ]
          },
          "metadata": {},
          "execution_count": 71
        }
      ],
      "source": [
        "fruits"
      ]
    },
    {
      "cell_type": "code",
      "execution_count": null,
      "id": "6309010d",
      "metadata": {
        "colab": {
          "base_uri": "https://localhost:8080/"
        },
        "id": "6309010d",
        "outputId": "dcada0a3-6f20-4283-caf4-ef74abdc83d7"
      },
      "outputs": [
        {
          "output_type": "stream",
          "name": "stdout",
          "text": [
            "['apple', 'peach']\n",
            "peach\n",
            "['apple']\n"
          ]
        }
      ],
      "source": [
        "print(fruits)\n",
        "fruit = fruits.pop()\n",
        "print(fruit)\n",
        "print(fruits)"
      ]
    },
    {
      "cell_type": "code",
      "source": [
        "fruits = ['apple', 'peach', 'strawberry']\n",
        "fruits.pop(1)\n",
        "fruits"
      ],
      "metadata": {
        "colab": {
          "base_uri": "https://localhost:8080/"
        },
        "id": "iUeRp1eOtO38",
        "outputId": "6a2ad2e2-59ca-445b-e682-0afb8154ecef"
      },
      "id": "iUeRp1eOtO38",
      "execution_count": null,
      "outputs": [
        {
          "output_type": "execute_result",
          "data": {
            "text/plain": [
              "['apple', 'strawberry']"
            ]
          },
          "metadata": {},
          "execution_count": 73
        }
      ]
    },
    {
      "cell_type": "code",
      "source": [
        "fruits.pop(1)\n",
        "fruits"
      ],
      "metadata": {
        "colab": {
          "base_uri": "https://localhost:8080/"
        },
        "id": "p1MmCFXVtik2",
        "outputId": "26589065-9199-4fad-c3d6-3c937673ed4c"
      },
      "id": "p1MmCFXVtik2",
      "execution_count": null,
      "outputs": [
        {
          "output_type": "execute_result",
          "data": {
            "text/plain": [
              "['apple']"
            ]
          },
          "metadata": {},
          "execution_count": 74
        }
      ]
    },
    {
      "cell_type": "code",
      "source": [
        "languages = ['Japanese', 'English', 'French']\n",
        "languages.clear()\n",
        "languages"
      ],
      "metadata": {
        "colab": {
          "base_uri": "https://localhost:8080/"
        },
        "id": "2L0QmolOuO-C",
        "outputId": "d8bfe983-4095-43a7-d4bd-4eec5cf8c62b"
      },
      "id": "2L0QmolOuO-C",
      "execution_count": null,
      "outputs": [
        {
          "output_type": "execute_result",
          "data": {
            "text/plain": [
              "[]"
            ]
          },
          "metadata": {},
          "execution_count": 75
        }
      ]
    },
    {
      "cell_type": "markdown",
      "id": "40218b51",
      "metadata": {
        "id": "40218b51"
      },
      "source": [
        "#### 要素の検索"
      ]
    },
    {
      "cell_type": "code",
      "source": [
        "ta = list(\"TechAcademy\")"
      ],
      "metadata": {
        "id": "PZeXxHmSs-yU"
      },
      "id": "PZeXxHmSs-yU",
      "execution_count": null,
      "outputs": []
    },
    {
      "cell_type": "markdown",
      "id": "f70321eb",
      "metadata": {
        "id": "f70321eb"
      },
      "source": [
        "##### `in`"
      ]
    },
    {
      "cell_type": "code",
      "source": [
        "\"a\" in ta"
      ],
      "metadata": {
        "colab": {
          "base_uri": "https://localhost:8080/"
        },
        "id": "MMLKD0SR0zuv",
        "outputId": "193a6ef7-82f1-4060-8be8-7b6addbd7efa"
      },
      "id": "MMLKD0SR0zuv",
      "execution_count": null,
      "outputs": [
        {
          "output_type": "execute_result",
          "data": {
            "text/plain": [
              "True"
            ]
          },
          "metadata": {},
          "execution_count": 78
        }
      ]
    },
    {
      "cell_type": "code",
      "execution_count": null,
      "id": "db4661a7",
      "metadata": {
        "colab": {
          "base_uri": "https://localhost:8080/"
        },
        "id": "db4661a7",
        "outputId": "c57391fd-af86-44b4-977c-42480c6bb4c5"
      },
      "outputs": [
        {
          "output_type": "execute_result",
          "data": {
            "text/plain": [
              "False"
            ]
          },
          "metadata": {},
          "execution_count": 79
        }
      ],
      "source": [
        "\"b\" in ta"
      ]
    },
    {
      "cell_type": "markdown",
      "source": [
        "##### `count()`"
      ],
      "metadata": {
        "id": "pQ7VHzf4s6hb"
      },
      "id": "pQ7VHzf4s6hb"
    },
    {
      "cell_type": "code",
      "execution_count": null,
      "id": "cdabbdd8",
      "metadata": {
        "colab": {
          "base_uri": "https://localhost:8080/"
        },
        "id": "cdabbdd8",
        "outputId": "fe422709-20fe-4824-9b33-b2178ddb786e"
      },
      "outputs": [
        {
          "output_type": "stream",
          "name": "stdout",
          "text": [
            "1\n",
            "2\n",
            "0\n"
          ]
        }
      ],
      "source": [
        "print(ta.count(\"T\"))\n",
        "print(ta.count(\"e\"))\n",
        "print(ta.count(\"b\"))"
      ]
    },
    {
      "cell_type": "code",
      "source": [
        "bool(ta.count(\"T\"))"
      ],
      "metadata": {
        "colab": {
          "base_uri": "https://localhost:8080/"
        },
        "id": "tvPyOM3Xt5zC",
        "outputId": "b733946f-5133-4c6f-8b6a-721f6518db3e"
      },
      "id": "tvPyOM3Xt5zC",
      "execution_count": null,
      "outputs": [
        {
          "output_type": "execute_result",
          "data": {
            "text/plain": [
              "True"
            ]
          },
          "metadata": {},
          "execution_count": 81
        }
      ]
    },
    {
      "cell_type": "code",
      "source": [
        "bool(ta.count(\"e\"))"
      ],
      "metadata": {
        "colab": {
          "base_uri": "https://localhost:8080/"
        },
        "id": "2bav4bYGuWhD",
        "outputId": "25085ae4-d59c-42fa-c225-4a87645032f3"
      },
      "id": "2bav4bYGuWhD",
      "execution_count": null,
      "outputs": [
        {
          "output_type": "execute_result",
          "data": {
            "text/plain": [
              "True"
            ]
          },
          "metadata": {},
          "execution_count": 82
        }
      ]
    },
    {
      "cell_type": "code",
      "source": [
        "bool(ta.count(\"b\"))"
      ],
      "metadata": {
        "colab": {
          "base_uri": "https://localhost:8080/"
        },
        "id": "OfybNXyruV5f",
        "outputId": "21262576-6eed-4ee1-dc2a-1e4cd6c2e014"
      },
      "id": "OfybNXyruV5f",
      "execution_count": null,
      "outputs": [
        {
          "output_type": "execute_result",
          "data": {
            "text/plain": [
              "False"
            ]
          },
          "metadata": {},
          "execution_count": 83
        }
      ]
    },
    {
      "cell_type": "code",
      "source": [
        "char = \"e\" # char: **charater**から\n",
        "char_count = ta.count(char)\n",
        "if char_count: # `if char_count != 0:`と同等\n",
        "    print(f\"文字「{char}」はリスト{ta}に{char_count}回含まれます。\")\n",
        "else:\n",
        "    print(f\"文字「{char}」はリスト{ta}に含まれません。\")\n",
        "\n",
        "char = \"x\"\n",
        "char_count = ta.count(char)\n",
        "if char_count:\n",
        "    print(f\"文字「{char}」はリスト{ta}に{char_count}回含まれます。\")\n",
        "else:\n",
        "    print(f\"文字「{char}」はリスト{ta}に含まれません。\")"
      ],
      "metadata": {
        "colab": {
          "base_uri": "https://localhost:8080/"
        },
        "id": "j7ytVpkUu-zh",
        "outputId": "ffa55fa4-6de3-4b6f-c8f5-50cb535e647e"
      },
      "id": "j7ytVpkUu-zh",
      "execution_count": null,
      "outputs": [
        {
          "output_type": "stream",
          "name": "stdout",
          "text": [
            "文字「e」はリスト['T', 'e', 'c', 'h', 'A', 'c', 'a', 'd', 'e', 'm', 'y']に2回含まれます。\n",
            "文字「x」はリスト['T', 'e', 'c', 'h', 'A', 'c', 'a', 'd', 'e', 'm', 'y']に含まれません。\n"
          ]
        }
      ]
    },
    {
      "cell_type": "markdown",
      "id": "2f7098b4",
      "metadata": {
        "id": "2f7098b4"
      },
      "source": [
        "##### `index()`"
      ]
    },
    {
      "cell_type": "code",
      "execution_count": null,
      "id": "7977da49",
      "metadata": {
        "colab": {
          "base_uri": "https://localhost:8080/"
        },
        "id": "7977da49",
        "outputId": "52a7b567-0d90-447a-d6af-780ae2f4d477"
      },
      "outputs": [
        {
          "output_type": "stream",
          "name": "stdout",
          "text": [
            "0\n",
            "1\n"
          ]
        }
      ],
      "source": [
        "ta = list(\"TechAcademy\")\n",
        "print(ta.index(\"T\"))\n",
        "print(ta.index(\"e\"))"
      ]
    },
    {
      "cell_type": "code",
      "source": [
        "print(ta.index(\"b\"))"
      ],
      "metadata": {
        "colab": {
          "base_uri": "https://localhost:8080/",
          "height": 180
        },
        "id": "BHpmof6Lwpwl",
        "outputId": "b2a1c2f0-ece5-40d2-c055-905e32cd5b02"
      },
      "id": "BHpmof6Lwpwl",
      "execution_count": null,
      "outputs": [
        {
          "output_type": "error",
          "ename": "ValueError",
          "evalue": "ignored",
          "traceback": [
            "\u001b[0;31m---------------------------------------------------------------------------\u001b[0m",
            "\u001b[0;31mValueError\u001b[0m                                Traceback (most recent call last)",
            "\u001b[0;32m<ipython-input-86-57eda8758fc2>\u001b[0m in \u001b[0;36m<cell line: 1>\u001b[0;34m()\u001b[0m\n\u001b[0;32m----> 1\u001b[0;31m \u001b[0mprint\u001b[0m\u001b[0;34m(\u001b[0m\u001b[0mta\u001b[0m\u001b[0;34m.\u001b[0m\u001b[0mindex\u001b[0m\u001b[0;34m(\u001b[0m\u001b[0;34m\"b\"\u001b[0m\u001b[0;34m)\u001b[0m\u001b[0;34m)\u001b[0m\u001b[0;34m\u001b[0m\u001b[0;34m\u001b[0m\u001b[0m\n\u001b[0m",
            "\u001b[0;31mValueError\u001b[0m: 'b' is not in list"
          ]
        }
      ]
    },
    {
      "cell_type": "code",
      "source": [
        "char = \"b\"\n",
        "if char in ta:\n",
        "    print(ta.index(char))\n",
        "else:\n",
        "    print(None)"
      ],
      "metadata": {
        "colab": {
          "base_uri": "https://localhost:8080/"
        },
        "id": "fM-jP1v5w2Y0",
        "outputId": "6ac24e8f-65ab-4a7e-c6d8-d087f76eee84"
      },
      "id": "fM-jP1v5w2Y0",
      "execution_count": null,
      "outputs": [
        {
          "output_type": "stream",
          "name": "stdout",
          "text": [
            "None\n"
          ]
        }
      ]
    },
    {
      "cell_type": "markdown",
      "id": "53a2d2dd",
      "metadata": {
        "id": "53a2d2dd"
      },
      "source": [
        "#### 要素の並び替え\n",
        "\n",
        "##### `sort()` メソッド"
      ]
    },
    {
      "cell_type": "code",
      "source": [
        "nums = [4, 7, 1, 6, 3, 2, 5]\n",
        "nums"
      ],
      "metadata": {
        "colab": {
          "base_uri": "https://localhost:8080/"
        },
        "id": "w-pRWAWV04Be",
        "outputId": "026a1307-b1d3-4af3-9b0f-54418d4c188e"
      },
      "id": "w-pRWAWV04Be",
      "execution_count": null,
      "outputs": [
        {
          "output_type": "execute_result",
          "data": {
            "text/plain": [
              "[4, 7, 1, 6, 3, 2, 5]"
            ]
          },
          "metadata": {},
          "execution_count": 88
        }
      ]
    },
    {
      "cell_type": "code",
      "source": [
        "nums.sort()\n",
        "nums"
      ],
      "metadata": {
        "colab": {
          "base_uri": "https://localhost:8080/"
        },
        "id": "KPt3dC4505fz",
        "outputId": "cf016021-01b6-43f7-8945-cd5035540872"
      },
      "id": "KPt3dC4505fz",
      "execution_count": null,
      "outputs": [
        {
          "output_type": "execute_result",
          "data": {
            "text/plain": [
              "[1, 2, 3, 4, 5, 6, 7]"
            ]
          },
          "metadata": {},
          "execution_count": 89
        }
      ]
    },
    {
      "cell_type": "code",
      "execution_count": null,
      "id": "70947a57",
      "metadata": {
        "colab": {
          "base_uri": "https://localhost:8080/"
        },
        "id": "70947a57",
        "outputId": "06e54116-149b-4eee-9788-cc950414cb66"
      },
      "outputs": [
        {
          "output_type": "execute_result",
          "data": {
            "text/plain": [
              "[7, 6, 5, 4, 3, 2, 1]"
            ]
          },
          "metadata": {},
          "execution_count": 90
        }
      ],
      "source": [
        "nums.reverse()\n",
        "nums"
      ]
    },
    {
      "cell_type": "code",
      "source": [
        "fruits = [\"orange\", \"banana\", \"peach\", \"apple\", \"grape\"]\n",
        "fruits"
      ],
      "metadata": {
        "colab": {
          "base_uri": "https://localhost:8080/"
        },
        "id": "df0lmCZ01AXf",
        "outputId": "7d50a112-92fc-4d87-f408-f7a400e39afa"
      },
      "id": "df0lmCZ01AXf",
      "execution_count": null,
      "outputs": [
        {
          "output_type": "execute_result",
          "data": {
            "text/plain": [
              "['orange', 'banana', 'peach', 'apple', 'grape']"
            ]
          },
          "metadata": {},
          "execution_count": 91
        }
      ]
    },
    {
      "cell_type": "code",
      "source": [
        "fruits.sort()\n",
        "fruits"
      ],
      "metadata": {
        "colab": {
          "base_uri": "https://localhost:8080/"
        },
        "id": "WGLPv0RJ1BSJ",
        "outputId": "19a3b36d-2e70-4cd3-e35e-f7dba252accf"
      },
      "id": "WGLPv0RJ1BSJ",
      "execution_count": null,
      "outputs": [
        {
          "output_type": "execute_result",
          "data": {
            "text/plain": [
              "['apple', 'banana', 'grape', 'orange', 'peach']"
            ]
          },
          "metadata": {},
          "execution_count": 92
        }
      ]
    },
    {
      "cell_type": "code",
      "source": [
        "fruits.reverse()\n",
        "fruits"
      ],
      "metadata": {
        "colab": {
          "base_uri": "https://localhost:8080/"
        },
        "id": "Y_BRFt-k1Cfy",
        "outputId": "a33951d8-5aaa-4d70-ac9d-524b7f58024d"
      },
      "id": "Y_BRFt-k1Cfy",
      "execution_count": null,
      "outputs": [
        {
          "output_type": "execute_result",
          "data": {
            "text/plain": [
              "['peach', 'orange', 'grape', 'banana', 'apple']"
            ]
          },
          "metadata": {},
          "execution_count": 93
        }
      ]
    },
    {
      "cell_type": "markdown",
      "id": "5db8c88b",
      "metadata": {
        "id": "5db8c88b"
      },
      "source": [
        "##### `sorted()` 関数"
      ]
    },
    {
      "cell_type": "code",
      "source": [
        "nums = [4, 7, 1, 6, 3, 2, 5]"
      ],
      "metadata": {
        "id": "lujkAAv81XYl"
      },
      "id": "lujkAAv81XYl",
      "execution_count": null,
      "outputs": []
    },
    {
      "cell_type": "code",
      "source": [
        "nums2 = sorted(nums)\n",
        "print(nums)\n",
        "print(nums2)"
      ],
      "metadata": {
        "colab": {
          "base_uri": "https://localhost:8080/"
        },
        "id": "ect7ekdh1HZS",
        "outputId": "a8e19c5c-b112-4f28-cf81-c914a68b4c6b"
      },
      "id": "ect7ekdh1HZS",
      "execution_count": null,
      "outputs": [
        {
          "output_type": "stream",
          "name": "stdout",
          "text": [
            "[4, 7, 1, 6, 3, 2, 5]\n",
            "[1, 2, 3, 4, 5, 6, 7]\n"
          ]
        }
      ]
    },
    {
      "cell_type": "code",
      "execution_count": null,
      "id": "efb738fe",
      "metadata": {
        "colab": {
          "base_uri": "https://localhost:8080/"
        },
        "id": "efb738fe",
        "outputId": "874192c6-a504-4f4f-f8ab-50866a11cecd"
      },
      "outputs": [
        {
          "output_type": "stream",
          "name": "stdout",
          "text": [
            "[4, 7, 1, 6, 3, 2, 5]\n",
            "[7, 6, 5, 4, 3, 2, 1]\n"
          ]
        }
      ],
      "source": [
        "nums3 = sorted(nums, reverse=True)\n",
        "print(nums)\n",
        "print(nums3)"
      ]
    },
    {
      "cell_type": "code",
      "source": [],
      "metadata": {
        "id": "sBPS5sWV3XOk"
      },
      "id": "sBPS5sWV3XOk",
      "execution_count": null,
      "outputs": []
    },
    {
      "cell_type": "markdown",
      "metadata": {
        "id": "bd0ece61"
      },
      "source": [
        "## リストの内包表記"
      ],
      "id": "bd0ece61"
    },
    {
      "cell_type": "markdown",
      "source": [
        "### 内包表記の概要"
      ],
      "metadata": {
        "id": "L6YSkuUP3VXI"
      },
      "id": "L6YSkuUP3VXI"
    },
    {
      "cell_type": "code",
      "source": [
        "nums = []\n",
        "for i in range(5, 11): # 5から11-1までの整数\n",
        "    nums.append(i * 3.14) # iを3.14倍したもの\n",
        "\n",
        "nums"
      ],
      "metadata": {
        "colab": {
          "base_uri": "https://localhost:8080/"
        },
        "id": "gxvR_AH49QzE",
        "outputId": "b96c0e5f-1959-4feb-efea-c1578db7e666"
      },
      "id": "gxvR_AH49QzE",
      "execution_count": null,
      "outputs": [
        {
          "output_type": "execute_result",
          "data": {
            "text/plain": [
              "[15.700000000000001, 18.84, 21.98, 25.12, 28.26, 31.400000000000002]"
            ]
          },
          "metadata": {},
          "execution_count": 97
        }
      ]
    },
    {
      "cell_type": "code",
      "execution_count": null,
      "metadata": {
        "colab": {
          "base_uri": "https://localhost:8080/"
        },
        "id": "45b03987",
        "outputId": "6d5e12b8-3f91-460c-998e-2e118c20d226"
      },
      "outputs": [
        {
          "output_type": "execute_result",
          "data": {
            "text/plain": [
              "[15.700000000000001, 18.84, 21.98, 25.12, 28.26, 31.400000000000002]"
            ]
          },
          "metadata": {},
          "execution_count": 98
        }
      ],
      "source": [
        "nums_oneline = [i * 3.14 for i in range(5, 11)]\n",
        "nums_oneline"
      ],
      "id": "45b03987"
    },
    {
      "cell_type": "code",
      "source": [
        "math_numbers = [3.1415926535897, 2.71828182846, 1.618033988749894848204]"
      ],
      "metadata": {
        "id": "AJ9kinwP_Gj3"
      },
      "id": "AJ9kinwP_Gj3",
      "execution_count": null,
      "outputs": []
    },
    {
      "cell_type": "code",
      "source": [
        "# 新しいリストを定義する\n",
        "math_numers_new = []\n",
        "for num in math_numbers:\n",
        "    math_numers_new.append(round(num, 3)) # 四捨五入した結果を新しいリストに格納する\n",
        "math_numbers = math_numers_new # 元のリストを新しいリストで上書きする\n",
        "math_numbers"
      ],
      "metadata": {
        "colab": {
          "base_uri": "https://localhost:8080/"
        },
        "id": "BAznryBEAdEp",
        "outputId": "151e06ad-49c1-4f58-8952-1c8e0da50a76"
      },
      "id": "BAznryBEAdEp",
      "execution_count": null,
      "outputs": [
        {
          "output_type": "execute_result",
          "data": {
            "text/plain": [
              "[3.142, 2.718, 1.618]"
            ]
          },
          "metadata": {},
          "execution_count": 100
        }
      ]
    },
    {
      "cell_type": "code",
      "source": [
        "math_numbers = [round(num, 3) for num in math_numbers]\n",
        "math_numbers"
      ],
      "metadata": {
        "colab": {
          "base_uri": "https://localhost:8080/"
        },
        "id": "c01OfQshA4Dk",
        "outputId": "2d8b7156-3ed4-4bfa-c2d9-22c5a45e501a"
      },
      "id": "c01OfQshA4Dk",
      "execution_count": null,
      "outputs": [
        {
          "output_type": "execute_result",
          "data": {
            "text/plain": [
              "[3.142, 2.718, 1.618]"
            ]
          },
          "metadata": {},
          "execution_count": 101
        }
      ]
    },
    {
      "cell_type": "markdown",
      "metadata": {
        "id": "02fe0081"
      },
      "source": [
        "### 内包表記でifを使う"
      ],
      "id": "02fe0081"
    },
    {
      "cell_type": "code",
      "execution_count": null,
      "metadata": {
        "colab": {
          "base_uri": "https://localhost:8080/"
        },
        "id": "4e350e12",
        "outputId": "f4f3a9e5-9019-4ecc-d931-1906bc88fbf2"
      },
      "outputs": [
        {
          "output_type": "execute_result",
          "data": {
            "text/plain": [
              "[0, 2, 4, 6, 8, 10]"
            ]
          },
          "metadata": {},
          "execution_count": 102
        }
      ],
      "source": [
        "num4 = [i for i in range(11) if i % 2 == 0]\n",
        "num4"
      ],
      "id": "4e350e12"
    },
    {
      "cell_type": "code",
      "execution_count": null,
      "metadata": {
        "colab": {
          "base_uri": "https://localhost:8080/"
        },
        "id": "e27deb8d",
        "outputId": "15394ba5-51dc-46bb-b8e3-f5b3f51a8f00"
      },
      "outputs": [
        {
          "output_type": "execute_result",
          "data": {
            "text/plain": [
              "[0, 6]"
            ]
          },
          "metadata": {},
          "execution_count": 103
        }
      ],
      "source": [
        "num4 = [i for i in range(11) if i % 2 == 0 and i % 3 == 0]\n",
        "num4"
      ],
      "id": "e27deb8d"
    },
    {
      "cell_type": "markdown",
      "metadata": {
        "id": "fbac1d7e"
      },
      "source": [
        "### 内包表記でif-elseを使う"
      ],
      "id": "fbac1d7e"
    },
    {
      "cell_type": "code",
      "execution_count": null,
      "metadata": {
        "colab": {
          "base_uri": "https://localhost:8080/"
        },
        "id": "04cfe4c4",
        "outputId": "aca7d506-b8b9-40ed-f9e6-2b22cd529d1f"
      },
      "outputs": [
        {
          "output_type": "execute_result",
          "data": {
            "text/plain": [
              "['even',\n",
              " 'odd',\n",
              " 'even',\n",
              " 'odd',\n",
              " 'even',\n",
              " 'odd',\n",
              " 'even',\n",
              " 'odd',\n",
              " 'even',\n",
              " 'odd',\n",
              " 'even']"
            ]
          },
          "metadata": {},
          "execution_count": 104
        }
      ],
      "source": [
        "num4 = [\"even\" if i % 2 == 0 else \"odd\" for i in range(11)]\n",
        "num4"
      ],
      "id": "04cfe4c4"
    },
    {
      "cell_type": "code",
      "execution_count": null,
      "metadata": {
        "colab": {
          "base_uri": "https://localhost:8080/"
        },
        "id": "1d948de0",
        "outputId": "f292646d-b4b8-4b62-93d1-8c73f147cc74"
      },
      "outputs": [
        {
          "output_type": "execute_result",
          "data": {
            "text/plain": [
              "['low', 'low', 'low', 'mid', 'mid', 'mid', 'mid', 'mid', 'hi', 'hi', 'hi']"
            ]
          },
          "metadata": {},
          "execution_count": 105
        }
      ],
      "source": [
        "num5 = [\"low\" if i < 3 else \"mid\" if i < 8 else \"hi\" for i in range(11)]\n",
        "num5"
      ],
      "id": "1d948de0"
    },
    {
      "cell_type": "code",
      "source": [
        "def number_to_degree(i):\n",
        "    if i < 3:\n",
        "        return \"low\"\n",
        "    else:\n",
        "        if i < 8:\n",
        "            return \"mid\"\n",
        "        else:\n",
        "            return \"hi\"\n",
        "\n",
        "num5_alt = [number_to_degree(i) for i in range(11)]\n",
        "num5_alt"
      ],
      "metadata": {
        "colab": {
          "base_uri": "https://localhost:8080/"
        },
        "id": "lo_XbrKdoR-V",
        "outputId": "17103a16-49e4-4be4-d085-78bea1de372a"
      },
      "execution_count": null,
      "outputs": [
        {
          "output_type": "execute_result",
          "data": {
            "text/plain": [
              "['low', 'low', 'low', 'mid', 'mid', 'mid', 'mid', 'mid', 'hi', 'hi', 'hi']"
            ]
          },
          "metadata": {},
          "execution_count": 106
        }
      ],
      "id": "lo_XbrKdoR-V"
    },
    {
      "cell_type": "markdown",
      "id": "7ed9ce0f",
      "metadata": {
        "id": "7ed9ce0f"
      },
      "source": [
        "## 2次元リスト"
      ]
    },
    {
      "cell_type": "code",
      "source": [
        "list_2d = [[1, 2, 3], [4, 5, 6], [7, 8, 9], [10, 11, 12]]\n",
        "list_2d"
      ],
      "metadata": {
        "colab": {
          "base_uri": "https://localhost:8080/"
        },
        "id": "SKer9l-v12f9",
        "outputId": "932524dd-656f-4029-fafa-2d2fc37f679b"
      },
      "id": "SKer9l-v12f9",
      "execution_count": null,
      "outputs": [
        {
          "output_type": "execute_result",
          "data": {
            "text/plain": [
              "[[1, 2, 3], [4, 5, 6], [7, 8, 9], [10, 11, 12]]"
            ]
          },
          "metadata": {},
          "execution_count": 107
        }
      ]
    },
    {
      "cell_type": "code",
      "source": [
        "list_2d = [\n",
        "    [1, 2, 3],\n",
        "    [4, 5, 6],\n",
        "    [7, 8, 9],\n",
        "    [10, 11, 12]\n",
        "]\n",
        "list_2d"
      ],
      "metadata": {
        "colab": {
          "base_uri": "https://localhost:8080/"
        },
        "id": "WbFWivou1aSm",
        "outputId": "c3132015-1ee1-45b5-b06b-869dec7c4219"
      },
      "id": "WbFWivou1aSm",
      "execution_count": null,
      "outputs": [
        {
          "output_type": "execute_result",
          "data": {
            "text/plain": [
              "[[1, 2, 3], [4, 5, 6], [7, 8, 9], [10, 11, 12]]"
            ]
          },
          "metadata": {},
          "execution_count": 108
        }
      ]
    },
    {
      "cell_type": "code",
      "source": [
        "list_2d[0][0]"
      ],
      "metadata": {
        "id": "9oQzc7Y715TN",
        "colab": {
          "base_uri": "https://localhost:8080/"
        },
        "outputId": "e8d47d35-a0fa-49da-b150-c4363eae017d"
      },
      "id": "9oQzc7Y715TN",
      "execution_count": null,
      "outputs": [
        {
          "output_type": "execute_result",
          "data": {
            "text/plain": [
              "1"
            ]
          },
          "metadata": {},
          "execution_count": 109
        }
      ]
    },
    {
      "cell_type": "code",
      "source": [
        "list_2d[1][1]"
      ],
      "metadata": {
        "id": "J9ID5gIy16WU",
        "colab": {
          "base_uri": "https://localhost:8080/"
        },
        "outputId": "6f52a338-7f87-4a1c-eeb5-0e25a0caae70"
      },
      "id": "J9ID5gIy16WU",
      "execution_count": null,
      "outputs": [
        {
          "output_type": "execute_result",
          "data": {
            "text/plain": [
              "5"
            ]
          },
          "metadata": {},
          "execution_count": 110
        }
      ]
    },
    {
      "cell_type": "code",
      "source": [
        "list_2d[3][2]"
      ],
      "metadata": {
        "colab": {
          "base_uri": "https://localhost:8080/"
        },
        "id": "jwPn49ji17Mr",
        "outputId": "a9bbaaef-df7d-4b1c-a33f-e5208d369b8b"
      },
      "id": "jwPn49ji17Mr",
      "execution_count": null,
      "outputs": [
        {
          "output_type": "execute_result",
          "data": {
            "text/plain": [
              "12"
            ]
          },
          "metadata": {},
          "execution_count": 132
        }
      ]
    },
    {
      "cell_type": "code",
      "execution_count": null,
      "id": "866b3d22",
      "metadata": {
        "colab": {
          "base_uri": "https://localhost:8080/"
        },
        "id": "866b3d22",
        "outputId": "9094888d-3807-495d-83b7-5ef13ee8d37a"
      },
      "outputs": [
        {
          "output_type": "stream",
          "name": "stdout",
          "text": [
            "1次元リスト: [1, 2, 3]\n",
            "1\n",
            "2\n",
            "3\n",
            "1次元リスト: [4, 5, 6]\n",
            "4\n",
            "5\n",
            "6\n",
            "1次元リスト: [7, 8, 9]\n",
            "7\n",
            "8\n",
            "9\n",
            "1次元リスト: [10, 11, 12]\n",
            "10\n",
            "11\n",
            "12\n"
          ]
        }
      ],
      "source": [
        "list_2d = [[1, 2, 3], [4, 5, 6], [7, 8, 9], [10, 11, 12]]\n",
        "for list_1d in list_2d:\n",
        "    print(\"1次元リスト:\", list_1d)\n",
        "    for num in list_1d:\n",
        "        print(num)"
      ]
    },
    {
      "cell_type": "code",
      "execution_count": null,
      "id": "449efa1d",
      "metadata": {
        "colab": {
          "base_uri": "https://localhost:8080/"
        },
        "id": "449efa1d",
        "outputId": "d065e1ee-13e5-42d9-e782-cb0bfd9120fa"
      },
      "outputs": [
        {
          "output_type": "execute_result",
          "data": {
            "text/plain": [
              "[['b', 'a', 's', 'e', 'b', 'a', 'l', 'l'],\n",
              " ['s', 'o', 'c', 'c', 'e', 'r'],\n",
              " ['g', 'o', 'l', 'f'],\n",
              " ['v', 'o', 'l', 'l', 'e', 'y', 'b', 'a', 'l', 'l'],\n",
              " ['t', 'e', 'n', 'n', 'i', 's']]"
            ]
          },
          "metadata": {},
          "execution_count": 112
        }
      ],
      "source": [
        "sports = [list(\"baseball\"), list(\"soccer\"), list(\"golf\"), list(\"volleyball\"), list(\"tennis\")]\n",
        "sports"
      ]
    },
    {
      "cell_type": "code",
      "execution_count": null,
      "id": "bb093536",
      "metadata": {
        "colab": {
          "base_uri": "https://localhost:8080/"
        },
        "id": "bb093536",
        "outputId": "2beb7812-eb00-49d9-a83f-205ecba7bfb3"
      },
      "outputs": [
        {
          "output_type": "execute_result",
          "data": {
            "text/plain": [
              "[[0, 1, 2, 3, 4, 5, 6, 7, 8, 9, 10],\n",
              " [1, 2, 3, 4, 5, 6, 7, 8, 9, 10, 11],\n",
              " [2, 3, 4, 5, 6, 7, 8, 9, 10, 11, 12],\n",
              " [3, 4, 5, 6, 7, 8, 9, 10, 11, 12, 13],\n",
              " [4, 5, 6, 7, 8, 9, 10, 11, 12, 13, 14],\n",
              " [5, 6, 7, 8, 9, 10, 11, 12, 13, 14, 15],\n",
              " [6, 7, 8, 9, 10, 11, 12, 13, 14, 15, 16],\n",
              " [7, 8, 9, 10, 11, 12, 13, 14, 15, 16, 17],\n",
              " [8, 9, 10, 11, 12, 13, 14, 15, 16, 17, 18],\n",
              " [9, 10, 11, 12, 13, 14, 15, 16, 17, 18, 19],\n",
              " [10, 11, 12, 13, 14, 15, 16, 17, 18, 19, 20]]"
            ]
          },
          "metadata": {},
          "execution_count": 113
        }
      ],
      "source": [
        "list_add = [[(x + y) for y in range(11)] for x in range(11)]\n",
        "list_add"
      ]
    },
    {
      "cell_type": "code",
      "execution_count": null,
      "id": "dee77fbb",
      "metadata": {
        "colab": {
          "base_uri": "https://localhost:8080/"
        },
        "id": "dee77fbb",
        "outputId": "6705a17e-45f1-4c96-c995-cd33fe449e6a"
      },
      "outputs": [
        {
          "output_type": "stream",
          "name": "stdout",
          "text": [
            "[[0, 1, 2, 3, 4, 5, 6, 7, 8, 9, 10], [1, 2, 3, 4, 5, 6, 7, 8, 9, 10, 11], [2, 3, 4, 5, 6, 7, 8, 9, 10, 11, 12], [3, 4, 5, 6, 7, 8, 9, 10, 11, 12, 13], [4, 5, 6, 7, 8, 9, 10, 11, 12, 13, 14], [5, 6, 7, 8, 9, 10, 11, 12, 13, 14, 15], [6, 7, 8, 9, 10, 11, 12, 13, 14, 15, 16], [7, 8, 9, 10, 11, 12, 13, 14, 15, 16, 17], [8, 9, 10, 11, 12, 13, 14, 15, 16, 17, 18], [9, 10, 11, 12, 13, 14, 15, 16, 17, 18, 19], [10, 11, 12, 13, 14, 15, 16, 17, 18, 19, 20]]\n"
          ]
        }
      ],
      "source": [
        "list_add = []\n",
        "for x in range(11):\n",
        "    list_inner = []\n",
        "    for y in range(11):\n",
        "        list_inner.append(x + y)\n",
        "    list_add.append(list_inner)\n",
        "print(list_add)"
      ]
    },
    {
      "cell_type": "markdown",
      "source": [
        "## タプル\n"
      ],
      "metadata": {
        "id": "jcooeZa8CglX"
      },
      "id": "jcooeZa8CglX"
    },
    {
      "cell_type": "markdown",
      "source": [
        "### タプルを作る"
      ],
      "metadata": {
        "id": "nq46chUl2YbB"
      },
      "id": "nq46chUl2YbB"
    },
    {
      "cell_type": "code",
      "source": [
        "a = (1, 2, 3, 4, 5)\n",
        "b = (\"apple\", \"banana\", \"orange\", \"peach\")\n",
        "c = ()\n",
        "d = (1, \"hoge\", \"fuga\", 5, 7, \"aaa\")"
      ],
      "metadata": {
        "id": "yC9HBqOQ2Zq-"
      },
      "id": "yC9HBqOQ2Zq-",
      "execution_count": null,
      "outputs": []
    },
    {
      "cell_type": "code",
      "execution_count": null,
      "id": "0bb131a2",
      "metadata": {
        "colab": {
          "base_uri": "https://localhost:8080/"
        },
        "id": "0bb131a2",
        "outputId": "be01d887-5980-4b43-d9c9-583a90843795"
      },
      "outputs": [
        {
          "output_type": "stream",
          "name": "stdout",
          "text": [
            "(1, 2, 3, 4, 5)\n",
            "('apple', 'banana', 'orange', 'peach')\n",
            "()\n",
            "(1, 'hoge', 'fuga', 5, 7, 'aaa')\n"
          ]
        }
      ],
      "source": [
        "print(a)\n",
        "print(b)\n",
        "print(c)\n",
        "print(d)"
      ]
    },
    {
      "cell_type": "code",
      "execution_count": null,
      "id": "2a920403",
      "metadata": {
        "colab": {
          "base_uri": "https://localhost:8080/"
        },
        "id": "2a920403",
        "outputId": "5448c711-b15f-421c-ee62-df2fe6c943f4"
      },
      "outputs": [
        {
          "output_type": "stream",
          "name": "stdout",
          "text": [
            "(1, 2, 3, 4, 5)\n",
            "(6, 7, 8, 9, 10)\n"
          ]
        }
      ],
      "source": [
        "print(a)\n",
        "a = (6, 7, 8, 9, 10)\n",
        "print(a)"
      ]
    },
    {
      "cell_type": "code",
      "source": [
        "num1 = (1, 2, 3)\n",
        "num2 = (4, 5, 6)\n",
        "num3 = num1 + num2\n",
        "num3"
      ],
      "metadata": {
        "colab": {
          "base_uri": "https://localhost:8080/"
        },
        "id": "R3fc1b5y2gYU",
        "outputId": "7ef97147-92a7-4a5f-a212-36b10b1a1cc2"
      },
      "id": "R3fc1b5y2gYU",
      "execution_count": null,
      "outputs": [
        {
          "output_type": "execute_result",
          "data": {
            "text/plain": [
              "(1, 2, 3, 4, 5, 6)"
            ]
          },
          "metadata": {},
          "execution_count": 4
        }
      ]
    },
    {
      "cell_type": "code",
      "source": [
        "num3 += (7, 8, 9)\n",
        "num3"
      ],
      "metadata": {
        "colab": {
          "base_uri": "https://localhost:8080/"
        },
        "id": "k1O2fKtp2hhP",
        "outputId": "370e9c75-15cd-498c-ff8e-08305839b6dd"
      },
      "id": "k1O2fKtp2hhP",
      "execution_count": null,
      "outputs": [
        {
          "output_type": "execute_result",
          "data": {
            "text/plain": [
              "(1, 2, 3, 4, 5, 6, 7, 8, 9)"
            ]
          },
          "metadata": {},
          "execution_count": 5
        }
      ]
    },
    {
      "cell_type": "code",
      "source": [
        "num4 = num1 * 3\n",
        "num4"
      ],
      "metadata": {
        "colab": {
          "base_uri": "https://localhost:8080/"
        },
        "id": "EAE1_DO-2loB",
        "outputId": "003f6946-79f8-4aa1-942c-1e8ab9cfeb32"
      },
      "id": "EAE1_DO-2loB",
      "execution_count": null,
      "outputs": [
        {
          "output_type": "execute_result",
          "data": {
            "text/plain": [
              "(1, 2, 3, 1, 2, 3, 1, 2, 3)"
            ]
          },
          "metadata": {},
          "execution_count": 6
        }
      ]
    },
    {
      "cell_type": "code",
      "source": [
        "num4 *= 2\n",
        "num4"
      ],
      "metadata": {
        "colab": {
          "base_uri": "https://localhost:8080/"
        },
        "id": "3V1DleMT2mYJ",
        "outputId": "61739b02-f3e3-47d2-f6b5-9f184c8ce3f0"
      },
      "id": "3V1DleMT2mYJ",
      "execution_count": null,
      "outputs": [
        {
          "output_type": "execute_result",
          "data": {
            "text/plain": [
              "(1, 2, 3, 1, 2, 3, 1, 2, 3, 1, 2, 3, 1, 2, 3, 1, 2, 3)"
            ]
          },
          "metadata": {},
          "execution_count": 7
        }
      ]
    },
    {
      "cell_type": "markdown",
      "id": "24a1d75f",
      "metadata": {
        "id": "24a1d75f"
      },
      "source": [
        "#### 要素が1つのタプルを作る場合"
      ]
    },
    {
      "cell_type": "code",
      "source": [
        "a = (1)\n",
        "a"
      ],
      "metadata": {
        "colab": {
          "base_uri": "https://localhost:8080/"
        },
        "id": "mYgvBJWb2q61",
        "outputId": "5efc248b-c0ca-4869-c5d4-68ad807e8c37"
      },
      "id": "mYgvBJWb2q61",
      "execution_count": null,
      "outputs": [
        {
          "output_type": "execute_result",
          "data": {
            "text/plain": [
              "1"
            ]
          },
          "metadata": {},
          "execution_count": 8
        }
      ]
    },
    {
      "cell_type": "code",
      "source": [
        "type(a)"
      ],
      "metadata": {
        "colab": {
          "base_uri": "https://localhost:8080/"
        },
        "id": "DMS55lsT2sUj",
        "outputId": "fe765a88-5122-4d55-9880-f31a649a7457"
      },
      "id": "DMS55lsT2sUj",
      "execution_count": null,
      "outputs": [
        {
          "output_type": "execute_result",
          "data": {
            "text/plain": [
              "int"
            ]
          },
          "metadata": {},
          "execution_count": 9
        }
      ]
    },
    {
      "cell_type": "code",
      "source": [
        "a = (1,)\n",
        "a"
      ],
      "metadata": {
        "colab": {
          "base_uri": "https://localhost:8080/"
        },
        "id": "iQRgVGwm2t6Y",
        "outputId": "836b83f5-9035-4640-caef-4327ae30d815"
      },
      "id": "iQRgVGwm2t6Y",
      "execution_count": null,
      "outputs": [
        {
          "output_type": "execute_result",
          "data": {
            "text/plain": [
              "(1,)"
            ]
          },
          "metadata": {},
          "execution_count": 10
        }
      ]
    },
    {
      "cell_type": "code",
      "execution_count": null,
      "id": "925d6684",
      "metadata": {
        "colab": {
          "base_uri": "https://localhost:8080/"
        },
        "id": "925d6684",
        "outputId": "1f2fbb6f-8765-4e77-ea46-e0020b87b3b4"
      },
      "outputs": [
        {
          "output_type": "execute_result",
          "data": {
            "text/plain": [
              "tuple"
            ]
          },
          "metadata": {},
          "execution_count": 11
        }
      ],
      "source": [
        "type(a)"
      ]
    },
    {
      "cell_type": "markdown",
      "id": "4fbecc0b",
      "metadata": {
        "id": "4fbecc0b"
      },
      "source": [
        "### 組み込み関数`tuple()`"
      ]
    },
    {
      "cell_type": "code",
      "source": [
        "e = tuple(\"TechAcademy\")\n",
        "e"
      ],
      "metadata": {
        "colab": {
          "base_uri": "https://localhost:8080/"
        },
        "id": "v5DfzScN2xUS",
        "outputId": "6bd41b48-13d6-487e-ec8a-933da987edcd"
      },
      "id": "v5DfzScN2xUS",
      "execution_count": null,
      "outputs": [
        {
          "output_type": "execute_result",
          "data": {
            "text/plain": [
              "('T', 'e', 'c', 'h', 'A', 'c', 'a', 'd', 'e', 'm', 'y')"
            ]
          },
          "metadata": {},
          "execution_count": 12
        }
      ]
    },
    {
      "cell_type": "code",
      "source": [
        "f = tuple(range(1, 11, 2))\n",
        "f"
      ],
      "metadata": {
        "colab": {
          "base_uri": "https://localhost:8080/"
        },
        "id": "zNe_WAiH2ymy",
        "outputId": "46959028-7fc3-4286-be8e-28657c1b635d"
      },
      "id": "zNe_WAiH2ymy",
      "execution_count": null,
      "outputs": [
        {
          "output_type": "execute_result",
          "data": {
            "text/plain": [
              "(1, 3, 5, 7, 9)"
            ]
          },
          "metadata": {},
          "execution_count": 13
        }
      ]
    },
    {
      "cell_type": "code",
      "execution_count": null,
      "id": "39019fed",
      "metadata": {
        "colab": {
          "base_uri": "https://localhost:8080/"
        },
        "id": "39019fed",
        "outputId": "07cfacbd-7422-4b58-b8a4-2cb6e00b0f18"
      },
      "outputs": [
        {
          "output_type": "execute_result",
          "data": {
            "text/plain": [
              "()"
            ]
          },
          "metadata": {},
          "execution_count": 14
        }
      ],
      "source": [
        "g = tuple()\n",
        "g"
      ]
    },
    {
      "cell_type": "markdown",
      "id": "d6562181",
      "metadata": {
        "id": "d6562181"
      },
      "source": [
        "### タプルを使う"
      ]
    },
    {
      "cell_type": "markdown",
      "source": [
        "#### 要素の参照"
      ],
      "metadata": {
        "id": "va_xWS82jVXt"
      },
      "id": "va_xWS82jVXt"
    },
    {
      "cell_type": "code",
      "source": [
        "nums = tuple(range(20))\n",
        "nums"
      ],
      "metadata": {
        "colab": {
          "base_uri": "https://localhost:8080/"
        },
        "id": "coiT6R_R25UR",
        "outputId": "6ca620f9-675e-43ad-ba3f-ad3725fe4bb3"
      },
      "id": "coiT6R_R25UR",
      "execution_count": null,
      "outputs": [
        {
          "output_type": "execute_result",
          "data": {
            "text/plain": [
              "(0, 1, 2, 3, 4, 5, 6, 7, 8, 9, 10, 11, 12, 13, 14, 15, 16, 17, 18, 19)"
            ]
          },
          "metadata": {},
          "execution_count": 15
        }
      ]
    },
    {
      "cell_type": "code",
      "source": [
        "nums[0]"
      ],
      "metadata": {
        "colab": {
          "base_uri": "https://localhost:8080/"
        },
        "id": "NdzKj3rX26e7",
        "outputId": "d98cae85-e770-42f4-aa6b-ab991fe7a644"
      },
      "id": "NdzKj3rX26e7",
      "execution_count": null,
      "outputs": [
        {
          "output_type": "execute_result",
          "data": {
            "text/plain": [
              "0"
            ]
          },
          "metadata": {},
          "execution_count": 16
        }
      ]
    },
    {
      "cell_type": "code",
      "source": [
        "nums[1]"
      ],
      "metadata": {
        "colab": {
          "base_uri": "https://localhost:8080/"
        },
        "id": "T7MpLe2s27Yu",
        "outputId": "0e9ac8d1-2880-4fd2-87e3-0354d0bb3439"
      },
      "id": "T7MpLe2s27Yu",
      "execution_count": null,
      "outputs": [
        {
          "output_type": "execute_result",
          "data": {
            "text/plain": [
              "1"
            ]
          },
          "metadata": {},
          "execution_count": 17
        }
      ]
    },
    {
      "cell_type": "code",
      "source": [
        "nums[2]"
      ],
      "metadata": {
        "colab": {
          "base_uri": "https://localhost:8080/"
        },
        "id": "hl2tARUZ28Um",
        "outputId": "2b205948-962a-4fe9-d36d-eb2a9d29b75b"
      },
      "id": "hl2tARUZ28Um",
      "execution_count": null,
      "outputs": [
        {
          "output_type": "execute_result",
          "data": {
            "text/plain": [
              "2"
            ]
          },
          "metadata": {},
          "execution_count": 18
        }
      ]
    },
    {
      "cell_type": "code",
      "source": [
        "nums[1:10]"
      ],
      "metadata": {
        "colab": {
          "base_uri": "https://localhost:8080/"
        },
        "id": "Gr3ESmW328-7",
        "outputId": "8841c6ff-4211-411d-ddd3-4fca4574188a"
      },
      "id": "Gr3ESmW328-7",
      "execution_count": null,
      "outputs": [
        {
          "output_type": "execute_result",
          "data": {
            "text/plain": [
              "(1, 2, 3, 4, 5, 6, 7, 8, 9)"
            ]
          },
          "metadata": {},
          "execution_count": 19
        }
      ]
    },
    {
      "cell_type": "code",
      "source": [
        "nums[:5]"
      ],
      "metadata": {
        "colab": {
          "base_uri": "https://localhost:8080/"
        },
        "id": "1bOJPRQx29xx",
        "outputId": "7f2d0c3a-2c9d-493f-fecf-000604296a4b"
      },
      "id": "1bOJPRQx29xx",
      "execution_count": null,
      "outputs": [
        {
          "output_type": "execute_result",
          "data": {
            "text/plain": [
              "(0, 1, 2, 3, 4)"
            ]
          },
          "metadata": {},
          "execution_count": 20
        }
      ]
    },
    {
      "cell_type": "code",
      "source": [
        "nums[15:]"
      ],
      "metadata": {
        "colab": {
          "base_uri": "https://localhost:8080/"
        },
        "id": "DBS_ARSz2-nn",
        "outputId": "5c6a6e22-ec76-4d83-afc6-c074f7d59c51"
      },
      "id": "DBS_ARSz2-nn",
      "execution_count": null,
      "outputs": [
        {
          "output_type": "execute_result",
          "data": {
            "text/plain": [
              "(15, 16, 17, 18, 19)"
            ]
          },
          "metadata": {},
          "execution_count": 21
        }
      ]
    },
    {
      "cell_type": "code",
      "source": [
        "nums[1:10:2]"
      ],
      "metadata": {
        "colab": {
          "base_uri": "https://localhost:8080/"
        },
        "id": "mD7qNjK02_8D",
        "outputId": "0f65c33e-4cc4-458b-ef19-9556daa57c65"
      },
      "id": "mD7qNjK02_8D",
      "execution_count": null,
      "outputs": [
        {
          "output_type": "execute_result",
          "data": {
            "text/plain": [
              "(1, 3, 5, 7, 9)"
            ]
          },
          "metadata": {},
          "execution_count": 22
        }
      ]
    },
    {
      "cell_type": "code",
      "source": [
        "nums[::3]"
      ],
      "metadata": {
        "colab": {
          "base_uri": "https://localhost:8080/"
        },
        "id": "xG0nbIg53BiW",
        "outputId": "1952ef0b-009d-4db8-db22-f62364cc1acc"
      },
      "id": "xG0nbIg53BiW",
      "execution_count": null,
      "outputs": [
        {
          "output_type": "execute_result",
          "data": {
            "text/plain": [
              "(0, 3, 6, 9, 12, 15, 18)"
            ]
          },
          "metadata": {},
          "execution_count": 23
        }
      ]
    },
    {
      "cell_type": "code",
      "source": [
        "nums[::]"
      ],
      "metadata": {
        "colab": {
          "base_uri": "https://localhost:8080/"
        },
        "id": "rfutro2r3CyH",
        "outputId": "32f46206-1e92-4bdb-f34a-2158690e6a13"
      },
      "id": "rfutro2r3CyH",
      "execution_count": null,
      "outputs": [
        {
          "output_type": "execute_result",
          "data": {
            "text/plain": [
              "(0, 1, 2, 3, 4, 5, 6, 7, 8, 9, 10, 11, 12, 13, 14, 15, 16, 17, 18, 19)"
            ]
          },
          "metadata": {},
          "execution_count": 24
        }
      ]
    },
    {
      "cell_type": "code",
      "execution_count": null,
      "id": "2019f21e",
      "metadata": {
        "colab": {
          "base_uri": "https://localhost:8080/"
        },
        "id": "2019f21e",
        "outputId": "452e1c84-2319-4dd7-bafe-665e61d18983"
      },
      "outputs": [
        {
          "output_type": "stream",
          "name": "stdout",
          "text": [
            "100\n",
            "200\n",
            "300\n"
          ]
        }
      ],
      "source": [
        "nums = (100, 200, 300)\n",
        "a, b, c = nums\n",
        "print(a)\n",
        "print(b)\n",
        "print(c)"
      ]
    },
    {
      "cell_type": "markdown",
      "id": "0ec58c0f",
      "metadata": {
        "id": "0ec58c0f"
      },
      "source": [
        "#### 要素の検索"
      ]
    },
    {
      "cell_type": "code",
      "execution_count": null,
      "id": "235c636e",
      "metadata": {
        "colab": {
          "base_uri": "https://localhost:8080/"
        },
        "id": "235c636e",
        "outputId": "4f9a0803-1b1b-4203-95f7-9f81483e6253"
      },
      "outputs": [
        {
          "output_type": "stream",
          "name": "stdout",
          "text": [
            "('T', 'e', 'c', 'h', 'A', 'c', 'a', 'd', 'e', 'm', 'y')\n",
            "1\n",
            "2\n",
            "0\n",
            "6\n",
            "1\n"
          ]
        }
      ],
      "source": [
        "ta = tuple(\"TechAcademy\")\n",
        "print(ta)\n",
        "('T', 'e', 'c', 'h', 'A', 'c', 'a', 'd', 'e', 'm', 'y')\n",
        "print(ta.count(\"a\"))\n",
        "print(ta.count(\"e\"))\n",
        "print(ta.count(\"b\"))\n",
        "print(ta.index(\"a\"))\n",
        "print(ta.index(\"e\"))"
      ]
    },
    {
      "cell_type": "code",
      "source": [
        "\"a\" in ta"
      ],
      "metadata": {
        "colab": {
          "base_uri": "https://localhost:8080/"
        },
        "id": "QFR45Khd3hI3",
        "outputId": "0bf33fa2-9663-4dd6-aa0f-b037e2bb674a"
      },
      "id": "QFR45Khd3hI3",
      "execution_count": null,
      "outputs": [
        {
          "output_type": "execute_result",
          "data": {
            "text/plain": [
              "True"
            ]
          },
          "metadata": {},
          "execution_count": 168
        }
      ]
    },
    {
      "cell_type": "code",
      "execution_count": null,
      "id": "7d08afbb",
      "metadata": {
        "colab": {
          "base_uri": "https://localhost:8080/"
        },
        "id": "7d08afbb",
        "outputId": "86c94f40-4bae-49ea-d459-caef22505e0c"
      },
      "outputs": [
        {
          "output_type": "execute_result",
          "data": {
            "text/plain": [
              "False"
            ]
          },
          "metadata": {},
          "execution_count": 169
        }
      ],
      "source": [
        "\"b\" in ta"
      ]
    },
    {
      "cell_type": "markdown",
      "source": [
        "## シーケンスに関わる便利な関数"
      ],
      "metadata": {
        "id": "cLURm1GOCyI3"
      },
      "id": "cLURm1GOCyI3"
    },
    {
      "cell_type": "markdown",
      "id": "fee1fb56",
      "metadata": {
        "id": "fee1fb56"
      },
      "source": [
        "### `zip()`"
      ]
    },
    {
      "cell_type": "code",
      "source": [
        "a0 = [ 1,  2,  3]\n",
        "a1 = [ 4,  5,  6]\n",
        "a2 = [ 7,  8,  9]\n",
        "a3 = [10, 11, 12]\n",
        "temp_a = zip(a0, a1, a2, a3)"
      ],
      "metadata": {
        "id": "QhTW2GG93jdp"
      },
      "id": "QhTW2GG93jdp",
      "execution_count": null,
      "outputs": []
    },
    {
      "cell_type": "code",
      "source": [
        "type(temp_a)"
      ],
      "metadata": {
        "colab": {
          "base_uri": "https://localhost:8080/"
        },
        "id": "GbpWS6Uen_u5",
        "outputId": "bd9b56ae-1ce5-49e8-b48b-b0e411b0a8eb"
      },
      "id": "GbpWS6Uen_u5",
      "execution_count": null,
      "outputs": [
        {
          "output_type": "execute_result",
          "data": {
            "text/plain": [
              "zip"
            ]
          },
          "metadata": {},
          "execution_count": 36
        }
      ]
    },
    {
      "cell_type": "code",
      "source": [
        "a = list(temp_a)\n",
        "a"
      ],
      "metadata": {
        "colab": {
          "base_uri": "https://localhost:8080/"
        },
        "id": "R9vcJPploPMX",
        "outputId": "b13fc11c-dbdf-4be5-9fe5-e7bdc9c7f954"
      },
      "id": "R9vcJPploPMX",
      "execution_count": null,
      "outputs": [
        {
          "output_type": "execute_result",
          "data": {
            "text/plain": [
              "[(1, 4, 7, 10), (2, 5, 8, 11), (3, 6, 9, 12)]"
            ]
          },
          "metadata": {},
          "execution_count": 37
        }
      ]
    },
    {
      "cell_type": "code",
      "execution_count": null,
      "id": "7c6e4734",
      "metadata": {
        "colab": {
          "base_uri": "https://localhost:8080/"
        },
        "id": "7c6e4734",
        "outputId": "3bbcbd6b-434e-478b-8b90-882a1af643c0"
      },
      "outputs": [
        {
          "output_type": "stream",
          "name": "stdout",
          "text": [
            "(1, 4, 7, 10)\n",
            "(2, 5, 8, 11)\n",
            "(3, 6, 9, 12)\n",
            "<class 'tuple'>\n"
          ]
        }
      ],
      "source": [
        "print(a[0])\n",
        "print(a[1])\n",
        "print(a[2])\n",
        "print(type(a[0]))"
      ]
    },
    {
      "cell_type": "markdown",
      "id": "1b5ab1ad",
      "metadata": {
        "id": "1b5ab1ad"
      },
      "source": [
        "### `enumerate()`"
      ]
    },
    {
      "cell_type": "code",
      "execution_count": null,
      "id": "eb08ce63",
      "metadata": {
        "colab": {
          "base_uri": "https://localhost:8080/"
        },
        "id": "eb08ce63",
        "outputId": "080f2f6c-95a6-458d-c8c5-8b80c102b400"
      },
      "outputs": [
        {
          "output_type": "execute_result",
          "data": {
            "text/plain": [
              "[(0, 'baseball'), (1, 'soccer'), (2, 'volleyball'), (3, 'golf'), (4, 'tennis')]"
            ]
          },
          "metadata": {},
          "execution_count": 39
        }
      ],
      "source": [
        "sports = [\"baseball\", \"soccer\", \"volleyball\", \"golf\", \"tennis\"]\n",
        "temp_sports = enumerate(sports)\n",
        "sports_tl = list(temp_sports)\n",
        "sports_tl"
      ]
    },
    {
      "cell_type": "code",
      "source": [
        "for i, value in enumerate(sports):\n",
        "    print(f\"index: {i} => {value}\")"
      ],
      "metadata": {
        "colab": {
          "base_uri": "https://localhost:8080/"
        },
        "id": "j1oglooW37fn",
        "outputId": "30c1d0e0-4d6d-4826-cf02-331e4bf7e1c9"
      },
      "id": "j1oglooW37fn",
      "execution_count": null,
      "outputs": [
        {
          "output_type": "stream",
          "name": "stdout",
          "text": [
            "index: 0 => baseball\n",
            "index: 1 => soccer\n",
            "index: 2 => volleyball\n",
            "index: 3 => golf\n",
            "index: 4 => tennis\n"
          ]
        }
      ]
    },
    {
      "cell_type": "code",
      "source": [
        "for i, value in enumerate(sports):\n",
        "    if i % 2 == 0:\n",
        "      print(f\"index: {i} => {value}\")"
      ],
      "metadata": {
        "colab": {
          "base_uri": "https://localhost:8080/"
        },
        "id": "T61lX5IVm8B-",
        "outputId": "b956e608-23a7-4e0f-9400-1413b3d4901b"
      },
      "id": "T61lX5IVm8B-",
      "execution_count": null,
      "outputs": [
        {
          "output_type": "stream",
          "name": "stdout",
          "text": [
            "index: 0 => baseball\n",
            "index: 2 => volleyball\n",
            "index: 4 => tennis\n"
          ]
        }
      ]
    },
    {
      "cell_type": "code",
      "source": [
        "names = ['ひろゆき', 'ボブ', 'あかり', 'ベロニカ', 'フェリペ']\n",
        "scores = [90, 2, 58, 100, 30]"
      ],
      "metadata": {
        "id": "FpytgzbqpLYd"
      },
      "id": "FpytgzbqpLYd",
      "execution_count": null,
      "outputs": []
    },
    {
      "cell_type": "code",
      "source": [
        "print(list(zip(names, scores)))"
      ],
      "metadata": {
        "colab": {
          "base_uri": "https://localhost:8080/"
        },
        "id": "Ps1Dwa1Enn6P",
        "outputId": "e8823b21-1d99-4cc0-f445-469f9588192b"
      },
      "id": "Ps1Dwa1Enn6P",
      "execution_count": null,
      "outputs": [
        {
          "output_type": "stream",
          "name": "stdout",
          "text": [
            "[('ひろゆき', 90), ('ボブ', 2), ('あかり', 58), ('ベロニカ', 100), ('フェリペ', 30)]\n"
          ]
        }
      ]
    },
    {
      "cell_type": "code",
      "source": [
        "\"\"\"\n",
        "赤点(60点未満)の生徒に補習を指示する文書を表示するコード\n",
        "\"\"\"\n",
        "\n",
        "print(\"以下の生徒は明日の放課後の補習に参加すること:\")\n",
        "print() # 改行\n",
        "for index, (name, score) in enumerate(zip(names, scores)):\n",
        "    # 現実世界での番号は0ではなく1から始まることが多いため、\n",
        "    # `index+1`とする。\n",
        "    student_number = index + 1\n",
        "    if score < 60:\n",
        "        print(f\"- {name} (学籍番号: {index+1})\")"
      ],
      "metadata": {
        "colab": {
          "base_uri": "https://localhost:8080/"
        },
        "id": "lAbljxrXgq2H",
        "outputId": "624988ca-3b39-4dac-ca22-465d0bfb2271"
      },
      "id": "lAbljxrXgq2H",
      "execution_count": null,
      "outputs": [
        {
          "output_type": "stream",
          "name": "stdout",
          "text": [
            "以下の生徒は明日の放課後の補習に参加すること:\n",
            "\n",
            "- ボブ (学籍番号: 2)\n",
            "- あかり (学籍番号: 3)\n",
            "- フェリペ (学籍番号: 5)\n"
          ]
        }
      ]
    }
  ],
  "metadata": {
    "colab": {
      "provenance": []
    },
    "language_info": {
      "name": "python"
    },
    "kernelspec": {
      "name": "python3",
      "display_name": "Python 3"
    }
  },
  "nbformat": 4,
  "nbformat_minor": 5
}